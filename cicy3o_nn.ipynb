{
 "cells": [
  {
   "cell_type": "markdown",
   "metadata": {},
   "source": [
    "# Machine Learning for Complete Intersection Calabi-Yau Manifolds\n",
    "\n",
    "We then separately consider another ML approach to predict the **Hodge numbers** from the configuration matrix of CICY 3-folds: we implement **neural networks** (NN) in order to improve previous predictions using different kinds of architectures. In particular we will use **convolutional** NN (CNN) to process the configuration matrix using kernel convolutions (as if we were considering a \"computer vision\" task). We try different architectures such as a CNN with only convolutional hidden layers, as opposed to a CNN which uses a **fully connected** (FC) network to process the output.\n",
    "\n",
    "We will use the [Tensorflow](https://www.tensorflow.org/) backend to implement NNs on the GPU, using the [Keras](https://www.tensorflow.org/api_docs/python/tf/keras) high level API."
   ]
  },
  {
   "cell_type": "markdown",
   "metadata": {},
   "source": [
    "## Infrastructure\n",
    "\n",
    "We print information about the current OS:"
   ]
  },
  {
   "cell_type": "code",
   "execution_count": 1,
   "metadata": {},
   "outputs": [
    {
     "name": "stdout",
     "output_type": "stream",
     "text": [
      "Current OS:                  Linux (kernel release: 5.6.6-arch1-1, architecture: x86_64)\n",
      "Number of available threads: 8\n",
      "Current CPU frequency:       3451 MHz (max: 3800 MHz)\n",
      "Available RAM memory:        10516 MB (tot: 15758 MB)\n",
      "Mon Apr 27 00:10:37 2020       \n",
      "+-----------------------------------------------------------------------------+\n",
      "| NVIDIA-SMI 440.82       Driver Version: 440.82       CUDA Version: 10.2     |\n",
      "|-------------------------------+----------------------+----------------------+\n",
      "| GPU  Name        Persistence-M| Bus-Id        Disp.A | Volatile Uncorr. ECC |\n",
      "| Fan  Temp  Perf  Pwr:Usage/Cap|         Memory-Usage | GPU-Util  Compute M. |\n",
      "|===============================+======================+======================|\n",
      "|   0  GeForce 940MX       Off  | 00000000:02:00.0 Off |                  N/A |\n",
      "| N/A   42C    P0    N/A /  N/A |      5MiB /  2004MiB |      0%      Default |\n",
      "+-------------------------------+----------------------+----------------------+\n",
      "                                                                               \n",
      "+-----------------------------------------------------------------------------+\n",
      "| Processes:                                                       GPU Memory |\n",
      "|  GPU       PID   Type   Process name                             Usage      |\n",
      "|=============================================================================|\n",
      "|    0     60717      G   /usr/lib/Xorg                                  4MiB |\n",
      "+-----------------------------------------------------------------------------+\n"
     ]
    }
   ],
   "source": [
    "from mltools.libos import InfoOS\n",
    "\n",
    "print('Current OS:                  {} (kernel release: {}, architecture: {})'.format(InfoOS().os, InfoOS().kernel, InfoOS().arch))\n",
    "print('Number of available threads: {:d}'.format(InfoOS().threads))\n",
    "print('Current CPU frequency:       {:.0f} MHz (max: {:.0f} MHz)'.format(InfoOS().freq, InfoOS().freqm))\n",
    "print('Available RAM memory:        {:d} MB (tot: {:d} MB)'.format(InfoOS().vmav, InfoOS().vmtot))\n",
    "\n",
    "# print info on GPU\n",
    "!nvidia-smi"
   ]
  },
  {
   "cell_type": "markdown",
   "metadata": {},
   "source": [
    "## Setup\n",
    "\n",
    "We import the Python modules we use and print their versions to keep track of changes."
   ]
  },
  {
   "cell_type": "code",
   "execution_count": 2,
   "metadata": {},
   "outputs": [
    {
     "name": "stdout",
     "output_type": "stream",
     "text": [
      "Python version: 3.7\n",
      "Matplot version: 3.2.1\n",
      "Numpy version: 1.18.1\n",
      "Pandas version: 1.0.3\n",
      "Scikit-learn version: 0.22.2.post1\n",
      "Tensorflow version: 2.0.0\n",
      "Keras version: 2.2.4-tf (backend: tensorflow)\n"
     ]
    }
   ],
   "source": [
    "import sys\n",
    "\n",
    "import matplotlib as mpl\n",
    "import random     as rnd\n",
    "import sklearn    as skl\n",
    "import numpy      as np\n",
    "import pandas     as pd\n",
    "import tensorflow as tf\n",
    "\n",
    "from tensorflow       import keras\n",
    "from tensorflow.keras import backend as K\n",
    "\n",
    "import warnings\n",
    "warnings.simplefilter(action='ignore', category=UserWarning) # ignore user warnings: nothing that I can really do anything about it...\n",
    "\n",
    "\n",
    "%matplotlib inline\n",
    "mpl.rc('axes', labelsize=12)\n",
    "mpl.rc('xtick', labelsize=12)\n",
    "mpl.rc('ytick', labelsize=12)\n",
    "\n",
    "# print the version of the modules\n",
    "print('Python version: {:d}.{:d}'      .format(sys.version_info.major, sys.version_info.minor))\n",
    "print('Matplot version: {}'            .format(mpl.__version__))\n",
    "print('Numpy version: {}'              .format(np.__version__))\n",
    "print('Pandas version: {}'             .format(pd.__version__))\n",
    "print('Scikit-learn version: {}'       .format(skl.__version__))\n",
    "print('Tensorflow version: {}'         .format(tf.__version__))\n",
    "print('Keras version: {} (backend: {})'.format(keras.__version__, K.backend()))\n",
    "\n",
    "# fix random_seed\n",
    "RAND = 42\n",
    "rnd.seed(RAND)\n",
    "np.random.seed(RAND)\n",
    "tf.random.set_seed(RAND)"
   ]
  },
  {
   "cell_type": "markdown",
   "metadata": {},
   "source": [
    "## Session Preparation\n",
    "\n",
    "in order to save the results of the analysis, we define where to store images, log files and models:"
   ]
  },
  {
   "cell_type": "code",
   "execution_count": 3,
   "metadata": {},
   "outputs": [],
   "source": [
    "from os import path, makedirs\n",
    "\n",
    "ROOT_DIR = '.' #-------------------------------------------------- root directory\n",
    "IMG_DIR  = 'img' #------------------------------------------------ directory of images\n",
    "MOD_DIR  = 'models' #--------------------------------------------- directory of saved models\n",
    "LOG_DIR  = 'log' #------------------------------------------------ directory of logs\n",
    "\n",
    "DB_NAME = 'cicy3o' #---------------------------------------------- name of the dataset\n",
    "DB_FILE = DB_NAME + '_analysis.h5' #------------------------------ full name with extension\n",
    "DB_PATH = path.join(ROOT_DIR, DB_FILE) #-------------------------- full path of the dataset\n",
    "DB_DIR  = 'original' if DB_NAME == 'cicy3o' else 'favourable' #--- subdir where to store images, models, logs\n",
    "\n",
    "# define full paths\n",
    "IMG_PATH = path.join(ROOT_DIR, IMG_DIR, DB_DIR)\n",
    "MOD_PATH = path.join(ROOT_DIR, MOD_DIR, DB_DIR)\n",
    "LOG_PATH = path.join(ROOT_DIR, LOG_DIR, DB_DIR)\n",
    "\n",
    "# create directories if non existent\n",
    "if not path.isdir(IMG_PATH):\n",
    "    makedirs(IMG_PATH, exist_ok=True)\n",
    "if not path.isdir(MOD_PATH):\n",
    "    makedirs(MOD_PATH, exist_ok=True)\n",
    "if not path.isdir(LOG_PATH):\n",
    "    makedirs(LOG_PATH, exist_ok=True)"
   ]
  },
  {
   "cell_type": "markdown",
   "metadata": {},
   "source": [
    "We also create a log file to store debug and related information:"
   ]
  },
  {
   "cell_type": "code",
   "execution_count": 4,
   "metadata": {},
   "outputs": [
    {
     "name": "stdout",
     "output_type": "stream",
     "text": [
      "Rotating existing logs...\n"
     ]
    },
    {
     "name": "stderr",
     "output_type": "stream",
     "text": [
      "2020-04-27 00:10:38,781: INFO ==> New logging session started. Log is at ./log/original/cicy3o_nn.log.\n"
     ]
    }
   ],
   "source": [
    "import logging\n",
    "\n",
    "from mltools.liblog import create_logfile\n",
    "\n",
    "path_to_log = path.join(LOG_PATH,\n",
    "                        DB_NAME + '_nn.log'\n",
    "                       )\n",
    "log = create_logfile(path_to_log,\n",
    "                     name=DB_NAME + '_nn',\n",
    "                     level=logging.DEBUG\n",
    "                    )\n",
    "\n",
    "# these lines provide the same setup also for the Jupyter logging\n",
    "logger = logging.getLogger() #------------------------------------------------- get the current logging session\n",
    "\n",
    "fmt = logging.Formatter('%(asctime)s: %(levelname)s ==> %(message)s') #-------- customise the formatting options\n",
    "\n",
    "handler = logging.StreamHandler() #-------------------------------------------- handle the stream to the default (stderr)\n",
    "handler.setLevel(logging.DEBUG) #---------------------------------------------- print everything\n",
    "handler.setFormatter(fmt) #---------------------------------------------------- set the formatting options\n",
    "\n",
    "logger.handlers = [handler] #-------------------------------------------------- override the default stream\n",
    "\n",
    "# we are ready to go!\n",
    "log.info('New logging session started. Log is at {}.'.format(path_to_log))"
   ]
  },
  {
   "cell_type": "markdown",
   "metadata": {},
   "source": [
    "We finally set the _memory growth_ property of the GPU in order to avoid overflowing its RAM memory:"
   ]
  },
  {
   "cell_type": "code",
   "execution_count": 5,
   "metadata": {},
   "outputs": [
    {
     "name": "stdout",
     "output_type": "stream",
     "text": [
      "GPU setup: 1 physical GPUs, 1 logical GPUs.\n"
     ]
    }
   ],
   "source": [
    "gpus = tf.config.experimental.list_physical_devices('GPU') #--------------------------------------- list of physical GPUs\n",
    "\n",
    "if gpus: #----------------------------------------------------------------------------------------- set memory growth only if GPU is active\n",
    "    try:\n",
    "        for gpu in gpus:\n",
    "            tf.config.experimental.set_memory_growth(gpu, True) #---------------------------------- set memory growth\n",
    "            \n",
    "        logical_gpus = tf.config.experimental.list_logical_devices('GPU') #------------------------ list of logical devices\n",
    "        print('GPU setup: {:d} physical GPUs, {:d} logical GPUs.'.format(len(gpus),\n",
    "                                                                         len(logical_gpus)\n",
    "                                                                        )\n",
    "             )\n",
    "    except RuntimeError as e:\n",
    "        print(e)\n",
    "else:\n",
    "    print('No GPUs in the setup!')"
   ]
  },
  {
   "cell_type": "markdown",
   "metadata": {},
   "source": [
    "## Loading the Dataset\n",
    "\n",
    "We first load the dataset we built during the preanalysis."
   ]
  },
  {
   "cell_type": "code",
   "execution_count": 6,
   "metadata": {},
   "outputs": [
    {
     "name": "stderr",
     "output_type": "stream",
     "text": [
      "2020-04-27 00:10:39,177: DEBUG ==> Database loaded.\n",
      "2020-04-27 00:10:39,178: INFO ==> Shape is 7851 rows x 7 columns.\n"
     ]
    }
   ],
   "source": [
    "import pandas as pd\n",
    "\n",
    "# load the dataset\n",
    "if path.isfile(DB_PATH):\n",
    "    df = pd.read_hdf(DB_PATH)\n",
    "    log.debug('Database loaded.')\n",
    "    log.info('Shape is {:d} rows x {:d} columns.'.format(df.shape[0], df.shape[1]))\n",
    "else:\n",
    "    log.error('Cannot load database from {}!'.format(DB_PATH))"
   ]
  },
  {
   "cell_type": "markdown",
   "metadata": {},
   "source": [
    "We print the `dtypes` and the name of the keys inside the dataframe as a reference:"
   ]
  },
  {
   "cell_type": "code",
   "execution_count": 7,
   "metadata": {},
   "outputs": [
    {
     "data": {
      "text/plain": [
       "h11            int16\n",
       "h21            int16\n",
       "num_cp          int8\n",
       "dim_cp        object\n",
       "dim_h0_amb    object\n",
       "matrix        object\n",
       "pca           object\n",
       "dtype: object"
      ]
     },
     "execution_count": 7,
     "metadata": {},
     "output_type": "execute_result"
    }
   ],
   "source": [
    "df.dtypes"
   ]
  },
  {
   "cell_type": "markdown",
   "metadata": {},
   "source": [
    "## Dense Format Extraction\n",
    "\n",
    "We now extract the matrix from the available features and the labels. Notice that in this case we do not flatten the output as it will be processed by _Conv2D_ layers in _Keras_: we reshape it as if it was a black and white image, that is we take each matrix of shape (width, height) and output a matrix of shape (width, height, 1):"
   ]
  },
  {
   "cell_type": "code",
   "execution_count": 8,
   "metadata": {},
   "outputs": [
    {
     "name": "stderr",
     "output_type": "stream",
     "text": [
      "2020-04-27 00:10:39,923: DEBUG ==> Matrix shape: (7851, 12, 15, 1)\n"
     ]
    }
   ],
   "source": [
    "from mltools.libtransformer import ExtractTensor\n",
    "\n",
    "# extract the labels\n",
    "h11    = df['h11'].values\n",
    "h21    = df['h21'].values\n",
    "\n",
    "# we also extract num_cp for the plots (not for training)\n",
    "num_cp = np.array(ExtractTensor(flatten=True).fit_transform(df['num_cp']))\n",
    "\n",
    "# extract the tensor features\n",
    "matrix = np.array(ExtractTensor(flatten=False).fit_transform(df['matrix'])) #-------- old shape is (batch, width, height)\n",
    "matrix = np.reshape(matrix, (-1, np.shape(matrix)[1], np.shape(matrix)[2], 1)) #----- new shape is (batch, width, height, 1)\n",
    "\n",
    "log.debug('Matrix shape: {}'.format(np.shape(matrix)))"
   ]
  },
  {
   "cell_type": "markdown",
   "metadata": {},
   "source": [
    "## Training and Validation Strategy\n",
    "\n",
    "We now define the validation strategy and split the dataset into training, validation and test sets.\n",
    "\n",
    "We will take out 10% of the dataset to be our **test set**. For the remaining 90% of the dataset, we will use **holdout validation** with $\\frac{1}{9}$ of the training samples as validation (effectively we use 80% of the total set for training and 10% as validation)."
   ]
  },
  {
   "cell_type": "code",
   "execution_count": 9,
   "metadata": {},
   "outputs": [
    {
     "name": "stderr",
     "output_type": "stream",
     "text": [
      "2020-04-27 00:10:39,946: DEBUG ==> Train set size: 6280\n",
      "2020-04-27 00:10:39,947: DEBUG ==> Validation set size: 785\n",
      "2020-04-27 00:10:39,947: DEBUG ==> Test set size: 786\n"
     ]
    }
   ],
   "source": [
    "from sklearn.model_selection import train_test_split\n",
    "\n",
    "# divide into training and test sets\n",
    "matrix_train, matrix_test, \\\n",
    "num_cp_train, num_cp_test, \\\n",
    "h11_train, h11_test, \\\n",
    "h21_train, h21_test = train_test_split(matrix, num_cp, h11, h21, test_size=0.1, shuffle=False)\n",
    "\n",
    "# keep a holdout validation set\n",
    "matrix_train, matrix_val, \\\n",
    "num_cp_train, num_cp_val, \\\n",
    "h11_train, h11_val, \\\n",
    "h21_train, h21_val = train_test_split(matrix_train, num_cp_train, h11_train, h21_train, test_size=1.0/9.0, shuffle=False)\n",
    "\n",
    "log.debug('Train set size: {:d}'.format(np.shape(matrix_train)[0]))\n",
    "log.debug('Validation set size: {:d}'.format(np.shape(matrix_val)[0]))\n",
    "log.debug('Test set size: {:d}'.format(np.shape(matrix_test)[0]))"
   ]
  },
  {
   "cell_type": "markdown",
   "metadata": {},
   "source": [
    "We also provide a way to visualise the predictions by comparing the predictions as function of a (scalar) base feature (e.g.: `num_cp`) with respect to the ground truth:"
   ]
  },
  {
   "cell_type": "code",
   "execution_count": 10,
   "metadata": {},
   "outputs": [],
   "source": [
    "def get_counts(base_feature, label):\n",
    "    '''\n",
    "    Returns unique values and counts of the label as a function of the base_feature.\n",
    "    \n",
    "    Required arguments:\n",
    "        base_feature: the feature considered as base for the comparison,\n",
    "        label:        the label we are interested in comparing.\n",
    "    \n",
    "    Yields:\n",
    "        [ unique value of base_feature, unique value of label, count ].\n",
    "    '''\n",
    "    \n",
    "    for n in np.sort(np.unique(base_feature)):\n",
    "        uniques, counts = np.unique(label[np.argwhere(base_feature == n)[:,0]], return_counts=True)\n",
    "        \n",
    "        for u, c in np.c_[uniques, counts]:\n",
    "            yield [n, u, c]"
   ]
  },
  {
   "cell_type": "markdown",
   "metadata": {},
   "source": [
    "Notice that the use of `num_cp` will only be necessary to show in a simple way how well the algorithm can predict $h_{11}$ and $h_{21}$. `num_cp` will be taken as a representative of the matrices in the test set and $h_{11}$ and $h_{21}$ will be shown in a 2D plot."
   ]
  },
  {
   "cell_type": "markdown",
   "metadata": {},
   "source": [
    "## Feature Rescaling\n",
    "\n",
    "Before proceeding we rescale the input matrices to have entries in $\\left[ 0, 1 \\right]$: we divide each entry of each matrix by the range of variation of its entries (since they are all positive, we divide by the maximum) in the **training** set. We then apply the **same scaling** to validation and test sets."
   ]
  },
  {
   "cell_type": "code",
   "execution_count": 11,
   "metadata": {},
   "outputs": [],
   "source": [
    "# compute the scale factor\n",
    "scale_factor = np.max(matrix_train) - np.min(matrix_train)\n",
    "\n",
    "# rescale the sets\n",
    "matrix_train = matrix_train / scale_factor\n",
    "matrix_val   = matrix_val   / scale_factor\n",
    "matrix_test  = matrix_test  / scale_factor\n",
    "\n",
    "# define the shape of the tensors (batch axis excluded) since we will use it later one\n",
    "input_shape  = np.shape(matrix_train)[1:]"
   ]
  },
  {
   "cell_type": "markdown",
   "metadata": {},
   "source": [
    "## Input Visualisation\n",
    "\n",
    "Using _matplotlib_ we can try to visualise a few samples of the training set to better understand what kind of input we are dealing with and come up with a good strategy for the architecture of the neural network."
   ]
  },
  {
   "cell_type": "code",
   "execution_count": 12,
   "metadata": {},
   "outputs": [
    {
     "data": {
      "image/png": "[encoded data removed]",
      "text/plain": [
       "<Figure size 1296x1080 with 18 Axes>"
      ]
     },
     "metadata": {
      "needs_background": "light"
     },
     "output_type": "display_data"
    },
    {
     "name": "stderr",
     "output_type": "stream",
     "text": [
      "2020-04-27 00:10:42,410: DEBUG ==> Plot saved in ./img/original/nn_input_visualisation.pdf.\n"
     ]
    }
   ],
   "source": [
    "from mltools.libplot import Plot\n",
    "\n",
    "# choose 4 random indices\n",
    "rnd = np.random.randint(low=0, high=np.shape(matrix_train)[0], size=(9,))\n",
    "\n",
    "# decide the colour map\n",
    "cmap = 'plasma'\n",
    "\n",
    "# plot the matrices\n",
    "plot = Plot(rows=3, columns=3)\n",
    "\n",
    "plot.matrix(data=np.reshape(matrix_train[rnd[0]], (np.shape(matrix_train[rnd[0]])[0], np.shape(matrix_train[rnd[0]])[1])),\n",
    "            axis=(0,0),\n",
    "            title='$h_{} = {:d}$, $h_{} = {:d}$'.format('{11}', h11_train[rnd[0]], '{21}', h21_train[rnd[0]]),\n",
    "            cmap=cmap,\n",
    "            vmin=0.0,\n",
    "            vmax=1.0\n",
    "           )\n",
    "plot.matrix(data=np.reshape(matrix_train[rnd[1]], (np.shape(matrix_train[rnd[1]])[0], np.shape(matrix_train[rnd[1]])[1])),\n",
    "            axis=(0,1),\n",
    "            title='$h_{} = {:d}$, $h_{} = {:d}$'.format('{11}', h11_train[rnd[1]], '{21}', h21_train[rnd[1]]),\n",
    "            cmap=cmap,\n",
    "            vmin=0.0,\n",
    "            vmax=1.0\n",
    "           )\n",
    "plot.matrix(data=np.reshape(matrix_train[rnd[2]], (np.shape(matrix_train[rnd[2]])[0], np.shape(matrix_train[rnd[2]])[1])),\n",
    "            axis=(0,2),\n",
    "            title='$h_{} = {:d}$, $h_{} = {:d}$'.format('{11}', h11_train[rnd[2]], '{21}', h21_train[rnd[2]]),\n",
    "            cmap=cmap,\n",
    "            vmin=0.0,\n",
    "            vmax=1.0\n",
    "           )\n",
    "plot.matrix(data=np.reshape(matrix_train[rnd[3]], (np.shape(matrix_train[rnd[3]])[0], np.shape(matrix_train[rnd[3]])[1])),\n",
    "            axis=(1,0),\n",
    "            title='$h_{} = {:d}$, $h_{} = {:d}$'.format('{11}', h11_train[rnd[3]], '{21}', h21_train[rnd[3]]),\n",
    "            cmap=cmap,\n",
    "            vmin=0.0,\n",
    "            vmax=1.0\n",
    "           )\n",
    "plot.matrix(data=np.reshape(matrix_train[rnd[4]], (np.shape(matrix_train[rnd[4]])[0], np.shape(matrix_train[rnd[4]])[1])),\n",
    "            axis=(1,1),\n",
    "            title='$h_{} = {:d}$, $h_{} = {:d}$'.format('{11}', h11_train[rnd[4]], '{21}', h21_train[rnd[4]]),\n",
    "            cmap=cmap,\n",
    "            vmin=0.0,\n",
    "            vmax=1.0\n",
    "           )\n",
    "plot.matrix(data=np.reshape(matrix_train[rnd[5]], (np.shape(matrix_train[rnd[5]])[0], np.shape(matrix_train[rnd[5]])[1])),\n",
    "            axis=(1,2),\n",
    "            title='$h_{} = {:d}$, $h_{} = {:d}$'.format('{11}', h11_train[rnd[5]], '{21}', h21_train[rnd[5]]),\n",
    "            cmap=cmap,\n",
    "            vmin=0.0,\n",
    "            vmax=1.0\n",
    "           )\n",
    "plot.matrix(data=np.reshape(matrix_train[rnd[6]], (np.shape(matrix_train[rnd[6]])[0], np.shape(matrix_train[rnd[6]])[1])),\n",
    "            axis=(2,0),\n",
    "            title='$h_{} = {:d}$, $h_{} = {:d}$'.format('{11}', h11_train[rnd[6]], '{21}', h21_train[rnd[6]]),\n",
    "            cmap=cmap,\n",
    "            vmin=0.0,\n",
    "            vmax=1.0\n",
    "           )\n",
    "plot.matrix(data=np.reshape(matrix_train[rnd[7]], (np.shape(matrix_train[rnd[7]])[0], np.shape(matrix_train[rnd[7]])[1])),\n",
    "            axis=(2,1),\n",
    "            title='$h_{} = {:d}$, $h_{} = {:d}$'.format('{11}', h11_train[rnd[7]], '{21}', h21_train[rnd[7]]),\n",
    "            cmap=cmap,\n",
    "            vmin=0.0,\n",
    "            vmax=1.0\n",
    "           )\n",
    "plot.matrix(data=np.reshape(matrix_train[rnd[8]], (np.shape(matrix_train[rnd[8]])[0], np.shape(matrix_train[rnd[8]])[1])),\n",
    "            axis=(2,2),\n",
    "            title='$h_{} = {:d}$, $h_{} = {:d}$'.format('{11}', h11_train[rnd[8]], '{21}', h21_train[rnd[8]]),\n",
    "            cmap=cmap,\n",
    "            vmin=0.0,\n",
    "            vmax=1.0\n",
    "           )\n",
    "\n",
    "\n",
    "plot.save_and_close(path.join(IMG_PATH, 'nn_input_visualisation'))\n",
    "log.debug('Plot saved in {}.'.format(path.join(IMG_PATH, 'nn_input_visualisation.pdf')))"
   ]
  },
  {
   "cell_type": "markdown",
   "metadata": {},
   "source": [
    "## Architecture Building\n",
    "\n",
    "We then move to the problem of building the correct architecture. We will first implement a function which will allow us to build different models using similar structure blocks: the idea is to first process the images through convolutional layers, then add a FC network at the end (we will also add dropout and normalization layers)."
   ]
  },
  {
   "cell_type": "code",
   "execution_count": 13,
   "metadata": {},
   "outputs": [],
   "source": [
    "from tensorflow.keras.models       import Model\n",
    "from tensorflow.keras.layers       import Input, Conv2D, Dense, LeakyReLU, Dropout, BatchNormalization, Flatten\n",
    "from tensorflow.keras.regularizers import l1_l2\n",
    "from tensorflow.keras.optimizers   import Adam\n",
    "\n",
    "def cnn_model(input_shape,\n",
    "              model_name='cnn_model',\n",
    "              learning_rate=0.01,\n",
    "              conv_layers=[32],\n",
    "              conv_paddings=['same'],\n",
    "              conv_kernels=[(2,2)],\n",
    "              conv_alpha=0.0,\n",
    "              fc_layers=[],\n",
    "              fc_alpha=0.0,\n",
    "              dropout=0.2,\n",
    "              normalization=0.99,\n",
    "              last_relu=True,\n",
    "              out_name='output',\n",
    "              l1_reg=0.0,\n",
    "              l2_reg=0.0\n",
    "             ):\n",
    "    '''\n",
    "    Build a CNN model.\n",
    "    \n",
    "    Required arguments:\n",
    "        input_size:    the size of the input tensor.\n",
    "        \n",
    "    Optional arguments:\n",
    "        model_name:    the name of the model,\n",
    "        learning_rate: the learning rate of the gradient descent,\n",
    "        conv_layers:   a list-like object with the no. of filters for each hiddend convolution layer,\n",
    "        conv_paddings: a list-like object with the corresponding padding for each layer,\n",
    "        conv_kernels:  a list-like object with the kernel size of each layer,\n",
    "        conv_alpha:    the slope of the LeakyReLU activation (ReLU if 0.0) of the convolution layers,\n",
    "        fc_layers:     a list-like object with the no. of units for each hidden dense layer,\n",
    "        fc_alpha:      the slope of the LeakyReLU activation (ReLU if 0.0) of the FC network,\n",
    "        dropout:       the dropout rate (do not use dropout if <= 0.0),\n",
    "        normalization: the momentum of the batch normalization (do not use normalization if <= 0.0),\n",
    "        last_relu:     whether to use ReLU activation in the output layer (force positive output),\n",
    "        out_name:      the name of the output layer,\n",
    "        l1_reg:        the L1 kernel regularization factor,\n",
    "        l2_reg:        the L2 kernel regularization factor.\n",
    "        \n",
    "    Returns:\n",
    "        the compiled model.\n",
    "    '''\n",
    "    \n",
    "    # define the regularizer\n",
    "    regularizer = l1_l2(l1=l1_reg, l2=l2_reg) #--------------------------------------------- regularizer\n",
    " \n",
    "    # build the model\n",
    "    I = Input(shape=input_shape, name='input') #-------------------------------------------- input layer\n",
    "    x = I\n",
    "    \n",
    "    # build convolutional layers\n",
    "    for n in range(np.shape(conv_layers)[0]): #--------------------------------------------- loop through the conv. layers\n",
    "        x = Conv2D(filters=conv_layers[n],\n",
    "                   kernel_size=conv_kernels[n],\n",
    "                   padding=conv_paddings[n],\n",
    "                   kernel_regularizer=regularizer,\n",
    "                   name='conv2d_' + str(n)\n",
    "                  )(x) #-------------------------------------------------------------------- add conv. layer\n",
    "        x = LeakyReLU(alpha=conv_alpha,\n",
    "                      name='conv2d_' + str(n) + '_activation'\n",
    "                     )(x) #----------------------------------------------------------------- add activation\n",
    "        \n",
    "        if normalization > 0.0:\n",
    "            x = BatchNormalization(momentum=normalization,\n",
    "                                   name='conv2d_' + str(n) + '_normalization'\n",
    "                                  )(x) #---------------------------------------------------- add batch normalization (if requested)\n",
    "        \n",
    "    # add dropout\n",
    "    if dropout > 0.0:\n",
    "        x = Dropout(rate=dropout,\n",
    "                    name='dropout'\n",
    "                   )(x) #------------------------------------------------------------------- add dropout (if requested)\n",
    "        \n",
    "    # flatten the output\n",
    "    x = Flatten(name='flatten')(x) #-------------------------------------------------------- flatten the output\n",
    "    \n",
    "    # build FC network\n",
    "    for n in range(np.shape(fc_layers)[0]):\n",
    "        x = Dense(units=fc_layers[n],\n",
    "                  kernel_regularizer=regularizer,\n",
    "                  name='fc_' + str(n)\n",
    "                 )(x) #--------------------------------------------------------------------- add dense layers\n",
    "        x = LeakyReLU(alpha=fc_alpha,\n",
    "                      name='fc_' + str(n) + '_activation'\n",
    "                     )(x) #----------------------------------------------------------------- add activation\n",
    "        \n",
    "        if normalization > 0.0:\n",
    "            x = BatchNormalization(momentum=normalization,\n",
    "                                   name='fc_' + str(n) + '_normalization'\n",
    "                                  )(x) #---------------------------------------------------- add batch normalization (if requested)\n",
    "        \n",
    "    if last_relu: #------------------------------------------------------------------------- output layer\n",
    "        F = Dense(1, activation='relu', name=out_name)(x)\n",
    "    else:\n",
    "        F = Dense(1, name=out_name)(x)\n",
    "    \n",
    "    # define the model\n",
    "    model = Model(inputs=I, outputs=F, name=model_name)\n",
    "    \n",
    "    # compile the model\n",
    "    model.compile(optimizer=Adam(learning_rate=learning_rate),\n",
    "                  loss='mean_squared_error',\n",
    "                  metrics=['mean_squared_error']\n",
    "                 )\n",
    "    \n",
    "    # return the compiled model\n",
    "    return model"
   ]
  },
  {
   "cell_type": "markdown",
   "metadata": {},
   "source": [
    "We will consider different models and train them all and then compare and discuss the results. The models we implement will compare these peculiarities:\n",
    "\n",
    "- small vs. large kernels,\n",
    "- FC network vs. no FC network,\n",
    "- padding vs. no padding.\n",
    "\n",
    "The idea behind the _small kernels_ is to have a small no. of operations and to be fairly quick to train (smaller kernels will probably need more layers, though), while larger kernels usually improve the results in the field of [semantic segmentation](https://arxiv.org/abs/1703.02719) and may be worth the try (we will also need less hidden layers). The fully connected layers can then help in processing the output, however the no. of parameters will increase substantially since they are dense layers (one of the goals will be to build the **smallest NN**). The padding operation will instead guide the convolution operation by reducing the output (and input) size of each layer (when using padding we could also add a FC network to a very small convolutional layer and keep the no. of parameters small).\n",
    "\n",
    "We will then compare the results with [Bull et al](https://arxiv.org/abs/1806.03121)."
   ]
  },
  {
   "cell_type": "code",
   "execution_count": 14,
   "metadata": {},
   "outputs": [],
   "source": [
    "from tensorflow.keras.backend   import clear_session\n",
    "from tensorflow.keras.callbacks import EarlyStopping, ModelCheckpoint, ReduceLROnPlateau\n",
    "\n",
    "def cnn_fit(model,\n",
    "            X,\n",
    "            y,\n",
    "            X_val,\n",
    "            y_val,\n",
    "            batch_size=32,\n",
    "            epochs=100,\n",
    "            early_stopping=10,\n",
    "            reduce_lr=5,\n",
    "            verbose=0\n",
    "           ):\n",
    "    '''\n",
    "    Fit the model.\n",
    "    \n",
    "    Required arguments:\n",
    "        model:          the model to fit,\n",
    "        X:              the training features,\n",
    "        y:              the training labels,\n",
    "        X_val:          the validation features,\n",
    "        y_val:          the validation labels.\n",
    "        \n",
    "    Optional arguments:\n",
    "        batch_size:     the size of the batch used in forward pass,\n",
    "        epochs:         the number of epochs,\n",
    "        early_stopping: patience of early stopping,\n",
    "        reduce_lr:      patience to reduce learning rate,\n",
    "        verbose:        verbosity level (debug)\n",
    "    \n",
    "    Returns:\n",
    "        the fitted model, the history of the model.\n",
    "    '''\n",
    "    \n",
    "    # clear the TF graph\n",
    "    clear_session()\n",
    "    \n",
    "    # define callbacks\n",
    "    callbacks = [EarlyStopping(monitor='val_mean_squared_error',\n",
    "                               patience=early_stopping,\n",
    "                               verbose=verbose\n",
    "                              ),\n",
    "                 ReduceLROnPlateau(monitor='val_mean_squared_error',\n",
    "                                   factor=0.3,\n",
    "                                   patience=reduce_lr,\n",
    "                                   verbose=verbose\n",
    "                                  ),\n",
    "                 ModelCheckpoint(filepath=path.join(MOD_PATH, model.name + '.h5'),\n",
    "                                 monitor='val_mean_squared_error',\n",
    "                                 verbose=verbose,\n",
    "                                 save_best_only=True,\n",
    "                                 save_format='h5'\n",
    "                                )\n",
    "                ]\n",
    "    \n",
    "    # fit the model\n",
    "    history = model.fit(x=X,\n",
    "                        y=y,\n",
    "                        batch_size=batch_size,\n",
    "                        epochs=epochs,\n",
    "                        verbose=verbose,\n",
    "                        callbacks=callbacks,\n",
    "                        validation_data=(X_val, y_val)\n",
    "                       )\n",
    "    \n",
    "    # return the fitted model and its history\n",
    "    return model, history"
   ]
  },
  {
   "cell_type": "markdown",
   "metadata": {},
   "source": [
    "## Analysis for $h_{11}$\n",
    "\n",
    "We now have the instruments to proceed with the analysis, starting with the prediction of $h_{11}$."
   ]
  },
  {
   "cell_type": "code",
   "execution_count": 21,
   "metadata": {},
   "outputs": [
    {
     "name": "stdout",
     "output_type": "stream",
     "text": [
      "Model: \"h11_deep_cnn\"\n",
      "_________________________________________________________________\n",
      "Layer (type)                 Output Shape              Param #   \n",
      "=================================================================\n",
      "input (InputLayer)           [(None, 12, 15, 1)]       0         \n",
      "_________________________________________________________________\n",
      "dropout (Dropout)            (None, 12, 15, 1)         0         \n",
      "_________________________________________________________________\n",
      "flatten (Flatten)            (None, 180)               0         \n",
      "_________________________________________________________________\n",
      "fc_0 (Dense)                 (None, 1)                 181       \n",
      "_________________________________________________________________\n",
      "fc_0_activation (LeakyReLU)  (None, 1)                 0         \n",
      "_________________________________________________________________\n",
      "fc_0_normalization (BatchNor (None, 1)                 4         \n",
      "_________________________________________________________________\n",
      "output (Dense)               (None, 1)                 2         \n",
      "=================================================================\n",
      "Total params: 187\n",
      "Trainable params: 185\n",
      "Non-trainable params: 2\n",
      "_________________________________________________________________\n",
      "Train on 6280 samples, validate on 785 samples\n",
      "Epoch 1/10\n",
      "5888/6280 [===========================>..] - ETA: 0s - loss: 22.3091 - mean_squared_error: 22.3089\n",
      "Epoch 00001: val_mean_squared_error improved from inf to 4.82506, saving model to ./models/original/h11_deep_cnn.h5\n",
      "6280/6280 [==============================] - 1s 215us/sample - loss: 21.3028 - mean_squared_error: 21.3026 - val_loss: 4.8253 - val_mean_squared_error: 4.8251\n",
      "Epoch 2/10\n",
      "6176/6280 [============================>.] - ETA: 0s - loss: 5.4733 - mean_squared_error: 5.4730\n",
      "Epoch 00002: val_mean_squared_error improved from 4.82506 to 4.48939, saving model to ./models/original/h11_deep_cnn.h5\n",
      "6280/6280 [==============================] - 1s 95us/sample - loss: 5.4706 - mean_squared_error: 5.4704 - val_loss: 4.4896 - val_mean_squared_error: 4.4894\n",
      "Epoch 3/10\n",
      "5824/6280 [==========================>...] - ETA: 0s - loss: 4.7952 - mean_squared_error: 4.7950\n",
      "Epoch 00003: val_mean_squared_error improved from 4.48939 to 4.42050, saving model to ./models/original/h11_deep_cnn.h5\n",
      "6280/6280 [==============================] - 1s 101us/sample - loss: 4.8044 - mean_squared_error: 4.8042 - val_loss: 4.4207 - val_mean_squared_error: 4.4205\n",
      "Epoch 4/10\n",
      "6112/6280 [============================>.] - ETA: 0s - loss: 4.8032 - mean_squared_error: 4.8029\n",
      "Epoch 00004: val_mean_squared_error improved from 4.42050 to 4.35828, saving model to ./models/original/h11_deep_cnn.h5\n",
      "6280/6280 [==============================] - 1s 112us/sample - loss: 4.7767 - mean_squared_error: 4.7765 - val_loss: 4.3585 - val_mean_squared_error: 4.3583\n",
      "Epoch 5/10\n",
      "6144/6280 [============================>.] - ETA: 0s - loss: 4.7960 - mean_squared_error: 4.7958\n",
      "Epoch 00005: val_mean_squared_error improved from 4.35828 to 4.35681, saving model to ./models/original/h11_deep_cnn.h5\n",
      "6280/6280 [==============================] - 1s 94us/sample - loss: 4.7791 - mean_squared_error: 4.7789 - val_loss: 4.3570 - val_mean_squared_error: 4.3568\n",
      "Epoch 6/10\n",
      "6240/6280 [============================>.] - ETA: 0s - loss: 4.7929 - mean_squared_error: 4.7927\n",
      "Epoch 00006: val_mean_squared_error improved from 4.35681 to 4.33711, saving model to ./models/original/h11_deep_cnn.h5\n",
      "6280/6280 [==============================] - 1s 102us/sample - loss: 4.7797 - mean_squared_error: 4.7795 - val_loss: 4.3373 - val_mean_squared_error: 4.3371\n",
      "Epoch 7/10\n",
      "6080/6280 [============================>.] - ETA: 0s - loss: 4.7851 - mean_squared_error: 4.7849\n",
      "Epoch 00007: val_mean_squared_error did not improve from 4.33711\n",
      "6280/6280 [==============================] - 1s 103us/sample - loss: 4.7788 - mean_squared_error: 4.7786 - val_loss: 4.3675 - val_mean_squared_error: 4.3673\n",
      "Epoch 8/10\n",
      "6016/6280 [===========================>..] - ETA: 0s - loss: 4.7662 - mean_squared_error: 4.7660\n",
      "Epoch 00008: val_mean_squared_error did not improve from 4.33711\n",
      "6280/6280 [==============================] - 1s 95us/sample - loss: 4.7759 - mean_squared_error: 4.7757 - val_loss: 4.4275 - val_mean_squared_error: 4.4273\n",
      "Epoch 9/10\n",
      "5824/6280 [==========================>...] - ETA: 0s - loss: 4.7479 - mean_squared_error: 4.7477\n",
      "Epoch 00009: val_mean_squared_error did not improve from 4.33711\n",
      "6280/6280 [==============================] - 1s 105us/sample - loss: 4.7823 - mean_squared_error: 4.7821 - val_loss: 4.3373 - val_mean_squared_error: 4.3371\n",
      "Epoch 10/10\n",
      "6240/6280 [============================>.] - ETA: 0s - loss: 4.7937 - mean_squared_error: 4.7935\n",
      "Epoch 00010: val_mean_squared_error did not improve from 4.33711\n",
      "6280/6280 [==============================] - 1s 91us/sample - loss: 4.7874 - mean_squared_error: 4.7872 - val_loss: 4.3657 - val_mean_squared_error: 4.3655\n",
      "Name of the model: h11_deep_cnn\n",
      "Number of parameters: 187\n",
      "Accuracy on the validation set: 17.707%\n",
      "Accuracy on the test set: 19.338%\n"
     ]
    },
    {
     "data": {
      "text/plain": [
       "<mltools.libplot.Plot at 0x7fc3b417ad10>"
      ]
     },
     "execution_count": 21,
     "metadata": {},
     "output_type": "execute_result"
    },
    {
     "data": {
      "image/png": "[encoded data removed]",
      "text/plain": [
       "<Figure size 864x360 with 2 Axes>"
      ]
     },
     "metadata": {
      "needs_background": "light"
     },
     "output_type": "display_data"
    }
   ],
   "source": [
    "import json\n",
    "\n",
    "from tensorflow.keras.models import model_from_json\n",
    "from tensorflow.keras.utils  import plot_model\n",
    "from mltools.libscore        import Score\n",
    "\n",
    "model = cnn_model(input_shape=input_shape,\n",
    "                  model_name='h11_deep_cnn',\n",
    "                  learning_rate=0.01,\n",
    "                  conv_layers=[],\n",
    "                  conv_paddings=[],\n",
    "                  conv_kernels=[],\n",
    "                  conv_alpha=0.0,\n",
    "                  fc_layers=[1],\n",
    "                  fc_alpha=0.0,\n",
    "                  dropout=0.4,\n",
    "                  normalization=0.99,\n",
    "                  last_relu=True,\n",
    "                  l1_reg=1.0e-5,\n",
    "                  l2_reg=1.0e-5\n",
    "                 )\n",
    "\n",
    "model.summary()\n",
    "\n",
    "model, history = cnn_fit(model=model,\n",
    "                         X=matrix_train, y=h11_train,\n",
    "                         X_val=matrix_val, y_val=h11_val,\n",
    "                         batch_size=32,\n",
    "                         epochs=10,\n",
    "                         early_stopping=100,\n",
    "                         reduce_lr=40,\n",
    "                         verbose=1\n",
    "                        )\n",
    "\n",
    "preds_val_h11  = np.reshape(model.predict(matrix_val), (-1,))\n",
    "preds_test_h11 = np.reshape(model.predict(matrix_test), (-1,))\n",
    "\n",
    "rounding=np.rint\n",
    "score_val_h11  = Score(y_true=h11_val, y_pred=preds_val_h11, rounding=rounding)\n",
    "score_test_h11 = Score(y_true=h11_test, y_pred=preds_test_h11, rounding=rounding)\n",
    "\n",
    "print('Name of the model: {}'.format(model.name))\n",
    "print('Number of parameters: {:d}'.format(model.count_params()))\n",
    "print('Accuracy on the validation set: {:.3f}%'.format(score_val_h11.accuracy()*100))\n",
    "print('Accuracy on the test set: {:.3f}%'.format(score_test_h11.accuracy()*100))\n",
    "\n",
    "plot = Plot(rows=1, columns=2)\n",
    "\n",
    "plot.scatter2D(np.array(list(get_counts(num_cp_test, h11_test))).T,\n",
    "               axis=0,\n",
    "               title='Comparison of the Predictions for $h_{11}$',\n",
    "               legend='real values',\n",
    "               xlabel='num_cp (test set)',\n",
    "               ylabel='$h_{11}$',\n",
    "               colour=False,\n",
    "               alpha=0.65\n",
    "              )\n",
    "plot.scatter2D(np.array(list(get_counts(num_cp_test, rounding(preds_test_h11)))).T,\n",
    "               axis=0,\n",
    "               title='Comparison of the Predictions for $h_{11}$',\n",
    "               legend='predictions',\n",
    "               xlabel='num_cp (test set)',\n",
    "               ylabel='$h_{11}$',\n",
    "               colour=False,\n",
    "               alpha=0.65\n",
    "              )\n",
    "plot.hist2D(score_test_h11.error(),\n",
    "            axis=1,\n",
    "            title='Distance of the Predictions from the Real Value',\n",
    "            legend='$h_{11}$',\n",
    "            xlabel='error difference',\n",
    "            ylabel='#',\n",
    "            binstep=1\n",
    "           )"
   ]
  },
  {
   "cell_type": "code",
   "execution_count": null,
   "metadata": {},
   "outputs": [],
   "source": []
  }
 ],
 "metadata": {
  "kernelspec": {
   "display_name": "Python 3",
   "language": "python",
   "name": "python3"
  },
  "language_info": {
   "codemirror_mode": {
    "name": "ipython",
    "version": 3
   },
   "file_extension": ".py",
   "mimetype": "text/x-python",
   "name": "python",
   "nbconvert_exporter": "python",
   "pygments_lexer": "ipython3",
   "version": "3.7.6"
  }
 },
 "nbformat": 4,
 "nbformat_minor": 4
}
