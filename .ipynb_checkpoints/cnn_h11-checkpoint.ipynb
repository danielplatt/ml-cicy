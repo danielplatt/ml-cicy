{
 "cells": [
  {
   "cell_type": "markdown",
   "metadata": {},
   "source": [
    "# Convolutional Neural Networks\n",
    "\n",
    "We study the performance of CNN architectures on the configuration matrices of CICY 3-folds."
   ]
  },
  {
   "cell_type": "code",
   "execution_count": 1,
   "metadata": {},
   "outputs": [
    {
     "name": "stdout",
     "output_type": "stream",
     "text": [
      "1 Physical GPUs, 1 Logical GPUs\n"
     ]
    }
   ],
   "source": [
    "# set memory growth (necessary for training)\n",
    "import tensorflow as tf\n",
    "\n",
    "gpus = tf.config.experimental.list_physical_devices('GPU')\n",
    "\n",
    "if gpus:\n",
    "    try:\n",
    "        for gpu in gpus:\n",
    "            tf.config.experimental.set_memory_growth(gpu, True)\n",
    "            logical_gpus = tf.config.experimental.list_logical_devices('GPU')\n",
    "            print(len(gpus), \"Physical GPUs,\", len(logical_gpus), \"Logical GPUs\")\n",
    "    except RuntimeError as e:\n",
    "        print(e)"
   ]
  },
  {
   "cell_type": "markdown",
   "metadata": {},
   "source": [
    "## Download the Dataset\n",
    "\n",
    "We first download and unzip the dataset."
   ]
  },
  {
   "cell_type": "code",
   "execution_count": 2,
   "metadata": {},
   "outputs": [],
   "source": [
    "import urllib, tarfile, os\n",
    "\n",
    "file_url = 'http://www.lpthe.jussieu.fr/~erbin/files/data/cicy3o_data.tar.gz'\n",
    "file_out = './cicy3o.tar.gz'\n",
    "file_dat = 'cicy3o.h5'\n",
    "\n",
    "if not os.path.isfile(file_out):\n",
    "    urllib.request.urlretrieve(file_url, file_out)\n",
    "    \n",
    "if not os.path.isfile(file_dat):\n",
    "    with tarfile.open(file_out, 'r') as tar:\n",
    "        tar.extract(file_dat)"
   ]
  },
  {
   "cell_type": "markdown",
   "metadata": {},
   "source": [
    "## Load the Dataset\n",
    "\n",
    "We then load the dataset:"
   ]
  },
  {
   "cell_type": "code",
   "execution_count": 3,
   "metadata": {},
   "outputs": [],
   "source": [
    "import pandas as pd\n",
    "\n",
    "dat = pd.read_hdf(os.path.join('.', file_dat))"
   ]
  },
  {
   "cell_type": "markdown",
   "metadata": {},
   "source": [
    "Remove the outliers (keep $h^{1,1} \\in [1, 16]$ and $h^{2,1} \\in [15, 86]$):"
   ]
  },
  {
   "cell_type": "code",
   "execution_count": 4,
   "metadata": {},
   "outputs": [],
   "source": [
    "dat_out   = dat\n",
    "dat_noout = dat.loc[(dat['h11'] > 0) &\n",
    "                    (dat['h11'] < 17) &\n",
    "                    (dat['h21'] > 14) &\n",
    "                    (dat['h21'] < 87)\n",
    "                   ]\n",
    "\n",
    "dat_out   = dat_out[['h11', 'matrix']]\n",
    "dat_noout = dat_noout[['h11', 'matrix']]"
   ]
  },
  {
   "cell_type": "markdown",
   "metadata": {},
   "source": [
    "Then extract the `matrix` column into its dense format:"
   ]
  },
  {
   "cell_type": "code",
   "execution_count": 5,
   "metadata": {},
   "outputs": [],
   "source": [
    "import numpy as np\n",
    "\n",
    "def extract_series(series: pd.Series) -> pd.Series:\n",
    "    '''\n",
    "    Extract a Pandas series into its dense format.\n",
    "    \n",
    "    Required arguments:\n",
    "        series: the pandas series.\n",
    "        \n",
    "    Returns:\n",
    "        the pandas series in dense format.\n",
    "    '''\n",
    "    # avoid direct overwriting\n",
    "    series = series.copy()\n",
    "    \n",
    "    # cget the maximum size of each axis\n",
    "    max_shape = series.apply(np.shape).max()\n",
    "    \n",
    "    # return the transformed series\n",
    "    if np.prod(max_shape) > 1:\n",
    "        # compute the necessary shift and apply it\n",
    "        offset = lambda s: [(0, max_shape[i] - np.shape(s)[i])\n",
    "                            for i in range(len(max_shape))\n",
    "                           ]\n",
    "        return series.apply(lambda s: np.pad(s, offset(s), mode='constant'))\n",
    "    else:\n",
    "        return series\n",
    "    \n",
    "# apply it to the matrix\n",
    "dat_out   = dat_out.apply(extract_series)\n",
    "dat_noout = dat_noout.apply(extract_series)"
   ]
  },
  {
   "cell_type": "markdown",
   "metadata": {},
   "source": [
    "## Training and Validation Strategy\n",
    "\n",
    "We then subsample the set into training, validation and test sets for evaluation."
   ]
  },
  {
   "cell_type": "code",
   "execution_count": 6,
   "metadata": {},
   "outputs": [
    {
     "name": "stdout",
     "output_type": "stream",
     "text": [
      "80% training data:\n",
      "    Training set w/ outliers:   80.00%\n",
      "    Validation set w/ outliers: 10.00%\n",
      "    Test set w/ outliers:       10.00%\n",
      "\n",
      "    Training set w/o outliers:   79.99%\n",
      "    Validation set w/o outliers: 10.00%\n",
      "    Test set w/o outliers:       10.01%\n",
      "\n",
      "30% training data:\n",
      "    Training set w/ outliers:   30.00%\n",
      "    Validation set w/ outliers: 10.00%\n",
      "    Test set w/ outliers:       60.00%\n",
      "\n",
      "    Training set w/o outliers:   30.00%\n",
      "    Validation set w/o outliers: 10.00%\n",
      "    Test set w/o outliers:       60.01%\n"
     ]
    }
   ],
   "source": [
    "from sklearn.model_selection import train_test_split\n",
    "\n",
    "# set random state\n",
    "RAND = 42\n",
    "np.random.seed(RAND)\n",
    "tf.random.set_seed(RAND)\n",
    "\n",
    "# split training set\n",
    "dat_out_train_80,   dat_out_test_80   = train_test_split(dat_out, train_size=0.8, shuffle=True, random_state=RAND)\n",
    "dat_out_train_30,   dat_out_test_30   = train_test_split(dat_out, train_size=0.3, shuffle=True, random_state=RAND)\n",
    "dat_noout_train_80, dat_noout_test_80 = train_test_split(dat_noout, train_size=0.8, shuffle=True, random_state=RAND)\n",
    "dat_noout_train_30, dat_noout_test_30 = train_test_split(dat_noout, train_size=0.3, shuffle=True, random_state=RAND)\n",
    "\n",
    "# split validation set\n",
    "dat_out_val_80,   dat_out_test_80   = train_test_split(dat_out_test_80, train_size=0.5, shuffle=True, random_state=RAND)\n",
    "dat_out_val_30,   dat_out_test_30   = train_test_split(dat_out_test_30, train_size=1/7, shuffle=True, random_state=RAND)\n",
    "dat_noout_val_80, dat_noout_test_80 = train_test_split(dat_noout_test_80, train_size=0.5, shuffle=True, random_state=RAND)\n",
    "dat_noout_val_30, dat_noout_test_30 = train_test_split(dat_noout_test_30, train_size=1/7, shuffle=True, random_state=RAND)\n",
    "\n",
    "# check sizes\n",
    "print('80% training data:')\n",
    "print('    Training set w/ outliers:   {:.2f}%'.format(100 * dat_out_train_80.shape[0] / dat_out.shape[0]))\n",
    "print('    Validation set w/ outliers: {:.2f}%'.format(100 * dat_out_val_80.shape[0] / dat_out.shape[0]))\n",
    "print('    Test set w/ outliers:       {:.2f}%'.format(100 * dat_out_test_80.shape[0] / dat_out.shape[0]))\n",
    "print('')\n",
    "print('    Training set w/o outliers:   {:.2f}%'.format(100 * dat_noout_train_80.shape[0] / dat_noout.shape[0]))\n",
    "print('    Validation set w/o outliers: {:.2f}%'.format(100 * dat_noout_val_80.shape[0] / dat_noout.shape[0]))\n",
    "print('    Test set w/o outliers:       {:.2f}%'.format(100 * dat_noout_test_80.shape[0] / dat_noout.shape[0]))\n",
    "print('')\n",
    "print('30% training data:')\n",
    "print('    Training set w/ outliers:   {:.2f}%'.format(100 * dat_out_train_30.shape[0] / dat_out.shape[0]))\n",
    "print('    Validation set w/ outliers: {:.2f}%'.format(100 * dat_out_val_30.shape[0] / dat_out.shape[0]))\n",
    "print('    Test set w/ outliers:       {:.2f}%'.format(100 * dat_out_test_30.shape[0] / dat_out.shape[0]))\n",
    "print('')\n",
    "print('    Training set w/o outliers:   {:.2f}%'.format(100 * dat_noout_train_30.shape[0] / dat_noout.shape[0]))\n",
    "print('    Validation set w/o outliers: {:.2f}%'.format(100 * dat_noout_val_30.shape[0] / dat_noout.shape[0]))\n",
    "print('    Test set w/o outliers:       {:.2f}%'.format(100 * dat_noout_test_30.shape[0] / dat_noout.shape[0]))"
   ]
  },
  {
   "cell_type": "markdown",
   "metadata": {},
   "source": [
    "# Input Visualisation (Training Set)\n",
    "\n",
    "We then want to visualise the input matrices for comparison with the output."
   ]
  },
  {
   "cell_type": "code",
   "execution_count": 7,
   "metadata": {},
   "outputs": [],
   "source": [
    "os.makedirs('img', exist_ok=True)"
   ]
  },
  {
   "cell_type": "markdown",
   "metadata": {},
   "source": [
    "## Random Samples\n",
    "\n",
    "We first visualise random samples in the training set (they must be scaled in the interval $[0,1]$):"
   ]
  },
  {
   "cell_type": "code",
   "execution_count": 8,
   "metadata": {},
   "outputs": [
    {
     "data": {
      "image/png": "[encoded data removed]",
      "text/plain": [
       "<Figure size 1728x1440 with 32 Axes>"
      ]
     },
     "metadata": {},
     "output_type": "display_data"
    }
   ],
   "source": [
    "import seaborn as sns\n",
    "import matplotlib.pyplot as plt\n",
    "sns.set()\n",
    "\n",
    "# normalisation factor (use the matrix w/o outliers to avoid getting an outlier)\n",
    "max_train_entry = dat_noout_train_80['matrix'].apply(np.max).max()\n",
    "\n",
    "ncols = 4\n",
    "nrows = 4\n",
    "_, ax = plt.subplots(nrows=nrows, ncols=ncols, figsize=(6 * ncols, 5 * nrows))\n",
    "\n",
    "for i in range(nrows):\n",
    "    for j in range(ncols):\n",
    "        \n",
    "        matrix = dat_noout_train_80['matrix'].\\\n",
    "                    iloc[np.random.randint(low=0,\n",
    "                                           high=dat_noout_train_80.shape[0] - 1\n",
    "                                          )\n",
    "                        ]\n",
    "        sns.heatmap(data=matrix / max_train_entry,\n",
    "                    vmin=0.0,\n",
    "                    vmax=1.0,\n",
    "                    ax=ax[i,j],\n",
    "                    cmap='Blues',\n",
    "                    xticklabels=False,\n",
    "                    yticklabels=False\n",
    "                   )\n",
    "        \n",
    "plt.tight_layout()\n",
    "plt.savefig('./img/train_samples_rnd.pdf', dpi=150, format='pdf')"
   ]
  },
  {
   "cell_type": "markdown",
   "metadata": {},
   "source": [
    "## Average Entries\n",
    "\n",
    "We then compute the average of all entries as a representative of the training set (first of all we scale the input and then take the mean value of each entry)."
   ]
  },
  {
   "cell_type": "code",
   "execution_count": 9,
   "metadata": {},
   "outputs": [
    {
     "data": {
      "image/png": "[encoded data removed]",
      "text/plain": [
       "<Figure size 432x360 with 2 Axes>"
      ]
     },
     "metadata": {},
     "output_type": "display_data"
    }
   ],
   "source": [
    "avg_mat = dat_noout_train_80['matrix'] / max_train_entry\n",
    "avg_mat = avg_mat.mean()\n",
    "\n",
    "_, ax = plt.subplots(1, 1, figsize=(6, 5))\n",
    "\n",
    "sns.heatmap(data=avg_mat,\n",
    "            vmin=0.0,\n",
    "            vmax=1.0,\n",
    "            ax=ax,\n",
    "            cmap='Blues',\n",
    "            xticklabels=False,\n",
    "            yticklabels=False\n",
    "           )\n",
    "        \n",
    "plt.tight_layout()\n",
    "plt.savefig('./img/train_samples_avg.pdf', dpi=150, format='pdf')"
   ]
  },
  {
   "cell_type": "markdown",
   "metadata": {},
   "source": [
    "# CNN Architectures\n",
    "\n",
    "We then study both a sequential CNN and the Inception-like CNN to analyse their feature maps."
   ]
  },
  {
   "cell_type": "code",
   "execution_count": 10,
   "metadata": {},
   "outputs": [],
   "source": [
    "# matrix\n",
    "mat_out_train_80   = np.array(dat_out_train_80['matrix'].tolist()).reshape(-1, 12, 15, 1)\n",
    "mat_noout_train_80 = np.array(dat_noout_train_80['matrix'].tolist()).reshape(-1, 12, 15, 1)\n",
    "mat_out_train_30   = np.array(dat_out_train_30['matrix'].tolist()).reshape(-1, 12, 15, 1)\n",
    "mat_noout_train_30 = np.array(dat_noout_train_30['matrix'].tolist()).reshape(-1, 12, 15, 1)\n",
    "\n",
    "mat_out_val_80     = np.array(dat_out_val_80['matrix'].tolist()).reshape(-1, 12, 15, 1)\n",
    "mat_noout_val_80   = np.array(dat_noout_val_80['matrix'].tolist()).reshape(-1, 12, 15, 1)\n",
    "mat_out_val_30     = np.array(dat_out_val_30['matrix'].tolist()).reshape(-1, 12, 15, 1)\n",
    "mat_noout_val_30   = np.array(dat_noout_val_30['matrix'].tolist()).reshape(-1, 12, 15, 1)\n",
    "\n",
    "mat_out_test_80    = np.array(dat_out_test_80['matrix'].tolist()).reshape(-1, 12, 15, 1)\n",
    "mat_noout_test_80  = np.array(dat_noout_test_80['matrix'].tolist()).reshape(-1, 12, 15, 1)\n",
    "mat_out_test_30    = np.array(dat_out_test_30['matrix'].tolist()).reshape(-1, 12, 15, 1)\n",
    "mat_noout_test_30  = np.array(dat_noout_test_30['matrix'].tolist()).reshape(-1, 12, 15, 1)\n",
    "\n",
    "input_shape = (12, 15, 1)\n",
    "\n",
    "# labels\n",
    "lab_out_train_80 = dat_out_train_80['h11'].values.reshape(-1,1)\n",
    "lab_noout_train_80 = dat_noout_train_80['h11'].values.reshape(-1,1)\n",
    "lab_out_train_30 = dat_out_train_30['h11'].values.reshape(-1,1)\n",
    "lab_noout_train_30 = dat_noout_train_30['h11'].values.reshape(-1,1)\n",
    "\n",
    "lab_out_val_80   = dat_out_val_80['h11'].values.reshape(-1,1)\n",
    "lab_noout_val_80   = dat_noout_val_80['h11'].values.reshape(-1,1)\n",
    "lab_out_val_30   = dat_out_val_30['h11'].values.reshape(-1,1)\n",
    "lab_noout_val_30   = dat_noout_val_30['h11'].values.reshape(-1,1)\n",
    "\n",
    "\n",
    "lab_out_test_80   = dat_out_test_80['h11'].values.reshape(-1,1)\n",
    "lab_noout_test_80   = dat_noout_test_80['h11'].values.reshape(-1,1)\n",
    "lab_out_test_30   = dat_out_test_30['h11'].values.reshape(-1,1)\n",
    "lab_noout_test_30   = dat_noout_test_30['h11'].values.reshape(-1,1)"
   ]
  },
  {
   "cell_type": "code",
   "execution_count": 11,
   "metadata": {},
   "outputs": [],
   "source": [
    "# outdir\n",
    "os.makedirs('./mod', exist_ok=True)"
   ]
  },
  {
   "cell_type": "markdown",
   "metadata": {},
   "source": [
    "## Inception CNN"
   ]
  },
  {
   "cell_type": "code",
   "execution_count": 12,
   "metadata": {},
   "outputs": [],
   "source": [
    "from tensorflow import keras\n",
    "\n",
    "def inc_model(input_shape,\n",
    "              model_name='inception',\n",
    "              learning_rate=0.001,\n",
    "              filters=[32],\n",
    "              kernel_size=[(3,3), (5,5)],\n",
    "              dropout=0.2,\n",
    "              momentum=0.99,\n",
    "              l1_reg=0.0,\n",
    "              l2_reg=0.0\n",
    "             ):\n",
    "    \n",
    "    # reset session\n",
    "    keras.backend.clear_session()\n",
    "    \n",
    "    # define the regularisation factor\n",
    "    kernel_regularizer = keras.regularizers.l1_l2(l1=l1_reg, l2=l2_reg)\n",
    "    \n",
    "    # input of the model\n",
    "    I = keras.layers.Input(shape=input_shape, name=model_name + '_input')\n",
    "    x = I\n",
    "    \n",
    "    # convolutional layers\n",
    "    for n in range(len(filters)):\n",
    "        a = keras.layers.Conv2D(filters=filters[n],\n",
    "                                kernel_size=kernel_size[0],\n",
    "                                padding='same',\n",
    "                                kernel_regularizer=kernel_regularizer,\n",
    "                                activation='relu',\n",
    "                                name=model_name + '_convA_' + str(n+1)\n",
    "                               )(x)\n",
    "        b = keras.layers.Conv2D(filters=filters[n],\n",
    "                                kernel_size=kernel_size[1],\n",
    "                                padding='same',\n",
    "                                kernel_regularizer=kernel_regularizer,\n",
    "                                activation='relu',\n",
    "                                name=model_name + '_convB_' + str(n+1)\n",
    "                               )(x)\n",
    "        x = keras.layers.concatenate([a, b], name=model_name + '_conc_' + str(n+1))\n",
    "        if momentum > 0.0:\n",
    "            x = keras.layers.BatchNormalization(momentum=momentum,\n",
    "                                                name=model_name + '_bnorm_' + str(n+1)\n",
    "                                               )(x)\n",
    "    \n",
    "    # dropout layer\n",
    "    if dropout > 0.0:\n",
    "        x = keras.layers.Dropout(rate=dropout, name=model_name + '_drop')(x)\n",
    "        \n",
    "    # flatten\n",
    "    x = keras.layers.Flatten(name=model_name + '_flat')(x)\n",
    "    \n",
    "    # output\n",
    "    h11 = keras.layers.Dense(units=1,\n",
    "                             activation='relu',\n",
    "                             name='h11_output'\n",
    "                            )(x)\n",
    "    \n",
    "    # define the model\n",
    "    model = keras.models.Model(inputs=I, outputs=h11, name=model_name)\n",
    "    model.compile(optimizer=keras.optimizers.Adam(learning_rate=learning_rate),\n",
    "                  loss='mse',\n",
    "                  metrics=['mse', 'mae']\n",
    "                 )\n",
    "    \n",
    "    return model"
   ]
  },
  {
   "cell_type": "markdown",
   "metadata": {},
   "source": [
    "We then define the model."
   ]
  },
  {
   "cell_type": "code",
   "execution_count": 13,
   "metadata": {},
   "outputs": [],
   "source": [
    "inception_line = inc_model(input_shape=input_shape,\n",
    "                           model_name='inc_line',\n",
    "                           learning_rate=0.001,\n",
    "                           filters=[32, 64, 32],\n",
    "                           kernel_size=[(12,1), (1,15)],\n",
    "                           dropout=0.2,\n",
    "                           l1_reg=1.0e-4,\n",
    "                           l2_reg=1.0e-4\n",
    "                          )\n",
    "inception_square = inc_model(input_shape=input_shape,\n",
    "                             model_name='inc_square',\n",
    "                             learning_rate=0.001,\n",
    "                             filters=[32, 64, 32],\n",
    "                             kernel_size=[(3,3), (5,5)],\n",
    "                             dropout=0.2,\n",
    "                             l1_reg=1.0e-4,\n",
    "                             l2_reg=1.0e-4\n",
    "                            )"
   ]
  },
  {
   "cell_type": "markdown",
   "metadata": {},
   "source": [
    "The model can be visualised using `keras` utility functions:"
   ]
  },
  {
   "cell_type": "code",
   "execution_count": 14,
   "metadata": {},
   "outputs": [],
   "source": [
    "#from IPython.display import Image\n",
    "\n",
    "inception_line_dot = keras.utils.model_to_dot(inception_line,\n",
    "                                              show_shapes=True,\n",
    "                                              dpi=150\n",
    "                                             )\n",
    "inception_line_dot.write_pdf('./img/inc_arch_h11.pdf')\n",
    "#Image(inception_line_dot.create_png(), width=480)"
   ]
  },
  {
   "cell_type": "markdown",
   "metadata": {},
   "source": [
    "We then train the model."
   ]
  },
  {
   "cell_type": "code",
   "execution_count": 15,
   "metadata": {},
   "outputs": [],
   "source": [
    "os.makedirs('./dat', exist_ok=True)"
   ]
  },
  {
   "cell_type": "markdown",
   "metadata": {},
   "source": [
    "### 80% Training Data w/ Outliers (line kernel)"
   ]
  },
  {
   "cell_type": "code",
   "execution_count": 16,
   "metadata": {
    "scrolled": true
   },
   "outputs": [
    {
     "name": "stdout",
     "output_type": "stream",
     "text": [
      "Training 80% data w/ outliers (line kernel)\n",
      "Model: \"inc_line\"\n",
      "__________________________________________________________________________________________________\n",
      "Layer (type)                    Output Shape         Param #     Connected to                     \n",
      "==================================================================================================\n",
      "inc_line_input (InputLayer)     [(None, 12, 15, 1)]  0                                            \n",
      "__________________________________________________________________________________________________\n",
      "inc_line_convA_1 (Conv2D)       (None, 12, 15, 32)   416         inc_line_input[0][0]             \n",
      "__________________________________________________________________________________________________\n",
      "inc_line_convB_1 (Conv2D)       (None, 12, 15, 32)   512         inc_line_input[0][0]             \n",
      "__________________________________________________________________________________________________\n",
      "inc_line_conc_1 (Concatenate)   (None, 12, 15, 64)   0           inc_line_convA_1[0][0]           \n",
      "                                                                 inc_line_convB_1[0][0]           \n",
      "__________________________________________________________________________________________________\n",
      "inc_line_bnorm_1 (BatchNormaliz (None, 12, 15, 64)   256         inc_line_conc_1[0][0]            \n",
      "__________________________________________________________________________________________________\n",
      "inc_line_convA_2 (Conv2D)       (None, 12, 15, 64)   49216       inc_line_bnorm_1[0][0]           \n",
      "__________________________________________________________________________________________________\n",
      "inc_line_convB_2 (Conv2D)       (None, 12, 15, 64)   61504       inc_line_bnorm_1[0][0]           \n",
      "__________________________________________________________________________________________________\n",
      "inc_line_conc_2 (Concatenate)   (None, 12, 15, 128)  0           inc_line_convA_2[0][0]           \n",
      "                                                                 inc_line_convB_2[0][0]           \n",
      "__________________________________________________________________________________________________\n",
      "inc_line_bnorm_2 (BatchNormaliz (None, 12, 15, 128)  512         inc_line_conc_2[0][0]            \n",
      "__________________________________________________________________________________________________\n",
      "inc_line_convA_3 (Conv2D)       (None, 12, 15, 32)   49184       inc_line_bnorm_2[0][0]           \n",
      "__________________________________________________________________________________________________\n",
      "inc_line_convB_3 (Conv2D)       (None, 12, 15, 32)   61472       inc_line_bnorm_2[0][0]           \n",
      "__________________________________________________________________________________________________\n",
      "inc_line_conc_3 (Concatenate)   (None, 12, 15, 64)   0           inc_line_convA_3[0][0]           \n",
      "                                                                 inc_line_convB_3[0][0]           \n",
      "__________________________________________________________________________________________________\n",
      "inc_line_bnorm_3 (BatchNormaliz (None, 12, 15, 64)   256         inc_line_conc_3[0][0]            \n",
      "__________________________________________________________________________________________________\n",
      "inc_line_drop (Dropout)         (None, 12, 15, 64)   0           inc_line_bnorm_3[0][0]           \n",
      "__________________________________________________________________________________________________\n",
      "inc_line_flat (Flatten)         (None, 11520)        0           inc_line_drop[0][0]              \n",
      "__________________________________________________________________________________________________\n",
      "h11_output (Dense)              (None, 1)            11521       inc_line_flat[0][0]              \n",
      "==================================================================================================\n",
      "Total params: 234,849\n",
      "Trainable params: 234,337\n",
      "Non-trainable params: 512\n",
      "__________________________________________________________________________________________________\n"
     ]
    }
   ],
   "source": [
    "callbacks = [keras.callbacks.ModelCheckpoint('./mod/inception_line_out_80_h11.h5',\n",
    "                                             monitor='val_loss',\n",
    "                                             verbose=0,\n",
    "                                             save_best_only=True\n",
    "                                            ),\n",
    "             keras.callbacks.ReduceLROnPlateau(monitor='val_loss',\n",
    "                                               factor=0.3,\n",
    "                                               patience=80,\n",
    "                                               verbose=0,\n",
    "                                               min_lr=1.0e-6\n",
    "                                              ),\n",
    "             keras.callbacks.EarlyStopping(monitor='val_loss',\n",
    "                                           patience=200,\n",
    "                                           restore_best_weights=True,\n",
    "                                           verbose=0\n",
    "                                          )\n",
    "            ]\n",
    "\n",
    "print('Training 80% data w/ outliers (line kernel)')\n",
    "inception_line.summary()\n",
    "\n",
    "# define the model\n",
    "inception_line = inc_model(input_shape=input_shape,\n",
    "                           model_name='inc_line',\n",
    "                           learning_rate=0.001,\n",
    "                           filters=[32, 64, 32],\n",
    "                           kernel_size=[(12,1), (1,15)],\n",
    "                           dropout=0.2,\n",
    "                           l1_reg=1.0e-4,\n",
    "                           l2_reg=1.0e-4\n",
    "                          )\n",
    "inc_line_out_80 = inception_line.fit(x=mat_out_train_80,\n",
    "                                     y=lab_out_train_80,\n",
    "                                     batch_size=32,\n",
    "                                     epochs=10,\n",
    "                                     verbose=0,\n",
    "                                     callbacks=callbacks,\n",
    "                                     validation_data=(mat_out_val_80, lab_out_val_80)\n",
    "                                    )"
   ]
  },
  {
   "cell_type": "markdown",
   "metadata": {},
   "source": [
    "We the take a look at the accuracy of the output:"
   ]
  },
  {
   "cell_type": "code",
   "execution_count": 17,
   "metadata": {},
   "outputs": [
    {
     "name": "stdout",
     "output_type": "stream",
     "text": [
      "Accuracy for h_11: 55.13%\n"
     ]
    }
   ],
   "source": [
    "import joblib\n",
    "\n",
    "# predictions\n",
    "h11_pred = np.rint(inception_line.predict(mat_out_test_80)).astype(int).reshape(-1,)\n",
    "\n",
    "# true values\n",
    "h11_true = lab_out_test_80.astype(int).reshape(-1,)\n",
    "\n",
    "# accuracy\n",
    "h11_acc = np.mean((h11_pred == h11_true).astype(int))\n",
    "\n",
    "# save predictions\n",
    "predictions = {'h11_pred': h11_pred,\n",
    "               'h11_true': h11_true,\n",
    "              }\n",
    "predictions = pd.DataFrame(predictions)\n",
    "predictions.to_csv('./dat/inc_line_out_80_h11.csv')\n",
    "\n",
    "# save history\n",
    "joblib.dump(inc_line_out_80.history, './dat/inc_line_out_80_h11.pkl')\n",
    "\n",
    "# print accuracy\n",
    "print('Accuracy for h_11: {:.2f}%'.format(h11_acc * 100))"
   ]
  },
  {
   "cell_type": "markdown",
   "metadata": {},
   "source": [
    "### 80% Training Data w/o Outliers (line kernel)"
   ]
  },
  {
   "cell_type": "code",
   "execution_count": 18,
   "metadata": {
    "scrolled": true
   },
   "outputs": [
    {
     "name": "stdout",
     "output_type": "stream",
     "text": [
      "Model: \"inc_line\"\n",
      "__________________________________________________________________________________________________\n",
      "Layer (type)                    Output Shape         Param #     Connected to                     \n",
      "==================================================================================================\n",
      "inc_line_input (InputLayer)     [(None, 12, 15, 1)]  0                                            \n",
      "__________________________________________________________________________________________________\n",
      "inc_line_convA_1 (Conv2D)       (None, 12, 15, 32)   416         inc_line_input[0][0]             \n",
      "__________________________________________________________________________________________________\n",
      "inc_line_convB_1 (Conv2D)       (None, 12, 15, 32)   512         inc_line_input[0][0]             \n",
      "__________________________________________________________________________________________________\n",
      "inc_line_conc_1 (Concatenate)   (None, 12, 15, 64)   0           inc_line_convA_1[0][0]           \n",
      "                                                                 inc_line_convB_1[0][0]           \n",
      "__________________________________________________________________________________________________\n",
      "inc_line_bnorm_1 (BatchNormaliz (None, 12, 15, 64)   256         inc_line_conc_1[0][0]            \n",
      "__________________________________________________________________________________________________\n",
      "inc_line_convA_2 (Conv2D)       (None, 12, 15, 64)   49216       inc_line_bnorm_1[0][0]           \n",
      "__________________________________________________________________________________________________\n",
      "inc_line_convB_2 (Conv2D)       (None, 12, 15, 64)   61504       inc_line_bnorm_1[0][0]           \n",
      "__________________________________________________________________________________________________\n",
      "inc_line_conc_2 (Concatenate)   (None, 12, 15, 128)  0           inc_line_convA_2[0][0]           \n",
      "                                                                 inc_line_convB_2[0][0]           \n",
      "__________________________________________________________________________________________________\n",
      "inc_line_bnorm_2 (BatchNormaliz (None, 12, 15, 128)  512         inc_line_conc_2[0][0]            \n",
      "__________________________________________________________________________________________________\n",
      "inc_line_convA_3 (Conv2D)       (None, 12, 15, 32)   49184       inc_line_bnorm_2[0][0]           \n",
      "__________________________________________________________________________________________________\n",
      "inc_line_convB_3 (Conv2D)       (None, 12, 15, 32)   61472       inc_line_bnorm_2[0][0]           \n",
      "__________________________________________________________________________________________________\n",
      "inc_line_conc_3 (Concatenate)   (None, 12, 15, 64)   0           inc_line_convA_3[0][0]           \n",
      "                                                                 inc_line_convB_3[0][0]           \n",
      "__________________________________________________________________________________________________\n",
      "inc_line_bnorm_3 (BatchNormaliz (None, 12, 15, 64)   256         inc_line_conc_3[0][0]            \n",
      "__________________________________________________________________________________________________\n",
      "inc_line_drop (Dropout)         (None, 12, 15, 64)   0           inc_line_bnorm_3[0][0]           \n",
      "__________________________________________________________________________________________________\n",
      "inc_line_flat (Flatten)         (None, 11520)        0           inc_line_drop[0][0]              \n",
      "__________________________________________________________________________________________________\n",
      "h11_output (Dense)              (None, 1)            11521       inc_line_flat[0][0]              \n",
      "==================================================================================================\n",
      "Total params: 234,849\n",
      "Trainable params: 234,337\n",
      "Non-trainable params: 512\n",
      "__________________________________________________________________________________________________\n",
      "Training 80% data w/o outliers (line kernel)\n"
     ]
    }
   ],
   "source": [
    "callbacks = [keras.callbacks.ModelCheckpoint('./mod/inception_line_noout_80_h11.h5',\n",
    "                                             monitor='val_loss',\n",
    "                                             verbose=0,\n",
    "                                             save_best_only=True\n",
    "                                            ),\n",
    "             keras.callbacks.ReduceLROnPlateau(monitor='val_loss',\n",
    "                                               factor=0.3,\n",
    "                                               patience=80,\n",
    "                                               verbose=0,\n",
    "                                               min_lr=1.0e-6\n",
    "                                              ),\n",
    "             keras.callbacks.EarlyStopping(monitor='val_loss',\n",
    "                                           patience=200,\n",
    "                                           restore_best_weights=True,\n",
    "                                           verbose=0\n",
    "                                          )\n",
    "            ]\n",
    "\n",
    "inception_line.summary()\n",
    "\n",
    "print('Training 80% data w/o outliers (line kernel)')\n",
    "\n",
    "# define the model\n",
    "inception_line = inc_model(input_shape=input_shape,\n",
    "                           model_name='inc_line',\n",
    "                           learning_rate=0.001,\n",
    "                           filters=[32, 64, 32],\n",
    "                           kernel_size=[(12,1), (1,15)],\n",
    "                           dropout=0.2,\n",
    "                           l1_reg=1.0e-4,\n",
    "                           l2_reg=1.0e-4\n",
    "                          )\n",
    "inc_line_noout_80 = inception_line.fit(x=mat_noout_train_80,\n",
    "                                       y=lab_noout_train_80,\n",
    "                                       batch_size=32,\n",
    "                                       epochs=10,\n",
    "                                       verbose=0,\n",
    "                                       callbacks=callbacks,\n",
    "                                       validation_data=(mat_noout_val_80, lab_noout_val_80)\n",
    "                                      )"
   ]
  },
  {
   "cell_type": "markdown",
   "metadata": {},
   "source": [
    "We the take a look at the accuracy of the output:"
   ]
  },
  {
   "cell_type": "code",
   "execution_count": 19,
   "metadata": {},
   "outputs": [
    {
     "name": "stdout",
     "output_type": "stream",
     "text": [
      "Accuracy for h_11: 9.29%\n"
     ]
    }
   ],
   "source": [
    "import joblib\n",
    "\n",
    "# predictions\n",
    "h11_pred = np.rint(inception_line.predict(mat_noout_test_80)).astype(int).reshape(-1,)\n",
    "\n",
    "# true values\n",
    "h11_true = lab_noout_test_80.astype(int).reshape(-1,)\n",
    "\n",
    "# accuracy\n",
    "h11_acc = np.mean((h11_pred == h11_true).astype(int))\n",
    "\n",
    "# save predictions\n",
    "predictions = {'h11_pred': h11_pred,\n",
    "               'h11_true': h11_true\n",
    "              }\n",
    "predictions = pd.DataFrame(predictions)\n",
    "predictions.to_csv('./dat/inc_line_noout_80_h11.csv')\n",
    "\n",
    "# save history\n",
    "joblib.dump(inc_line_noout_80.history, './dat/inc_line_noout_80_h11.pkl')\n",
    "\n",
    "# print accuracy\n",
    "print('Accuracy for h_11: {:.2f}%'.format(h11_acc * 100))"
   ]
  },
  {
   "cell_type": "markdown",
   "metadata": {},
   "source": [
    "### 30% Training Data w/ Outliers (line kernel)"
   ]
  },
  {
   "cell_type": "code",
   "execution_count": 20,
   "metadata": {
    "scrolled": true
   },
   "outputs": [
    {
     "name": "stdout",
     "output_type": "stream",
     "text": [
      "Model: \"inc_line\"\n",
      "__________________________________________________________________________________________________\n",
      "Layer (type)                    Output Shape         Param #     Connected to                     \n",
      "==================================================================================================\n",
      "inc_line_input (InputLayer)     [(None, 12, 15, 1)]  0                                            \n",
      "__________________________________________________________________________________________________\n",
      "inc_line_convA_1 (Conv2D)       (None, 12, 15, 32)   416         inc_line_input[0][0]             \n",
      "__________________________________________________________________________________________________\n",
      "inc_line_convB_1 (Conv2D)       (None, 12, 15, 32)   512         inc_line_input[0][0]             \n",
      "__________________________________________________________________________________________________\n",
      "inc_line_conc_1 (Concatenate)   (None, 12, 15, 64)   0           inc_line_convA_1[0][0]           \n",
      "                                                                 inc_line_convB_1[0][0]           \n",
      "__________________________________________________________________________________________________\n",
      "inc_line_bnorm_1 (BatchNormaliz (None, 12, 15, 64)   256         inc_line_conc_1[0][0]            \n",
      "__________________________________________________________________________________________________\n",
      "inc_line_convA_2 (Conv2D)       (None, 12, 15, 64)   49216       inc_line_bnorm_1[0][0]           \n",
      "__________________________________________________________________________________________________\n",
      "inc_line_convB_2 (Conv2D)       (None, 12, 15, 64)   61504       inc_line_bnorm_1[0][0]           \n",
      "__________________________________________________________________________________________________\n",
      "inc_line_conc_2 (Concatenate)   (None, 12, 15, 128)  0           inc_line_convA_2[0][0]           \n",
      "                                                                 inc_line_convB_2[0][0]           \n",
      "__________________________________________________________________________________________________\n",
      "inc_line_bnorm_2 (BatchNormaliz (None, 12, 15, 128)  512         inc_line_conc_2[0][0]            \n",
      "__________________________________________________________________________________________________\n",
      "inc_line_convA_3 (Conv2D)       (None, 12, 15, 32)   49184       inc_line_bnorm_2[0][0]           \n",
      "__________________________________________________________________________________________________\n",
      "inc_line_convB_3 (Conv2D)       (None, 12, 15, 32)   61472       inc_line_bnorm_2[0][0]           \n",
      "__________________________________________________________________________________________________\n",
      "inc_line_conc_3 (Concatenate)   (None, 12, 15, 64)   0           inc_line_convA_3[0][0]           \n",
      "                                                                 inc_line_convB_3[0][0]           \n",
      "__________________________________________________________________________________________________\n",
      "inc_line_bnorm_3 (BatchNormaliz (None, 12, 15, 64)   256         inc_line_conc_3[0][0]            \n",
      "__________________________________________________________________________________________________\n",
      "inc_line_drop (Dropout)         (None, 12, 15, 64)   0           inc_line_bnorm_3[0][0]           \n",
      "__________________________________________________________________________________________________\n",
      "inc_line_flat (Flatten)         (None, 11520)        0           inc_line_drop[0][0]              \n",
      "__________________________________________________________________________________________________\n",
      "h11_output (Dense)              (None, 1)            11521       inc_line_flat[0][0]              \n",
      "==================================================================================================\n",
      "Total params: 234,849\n",
      "Trainable params: 234,337\n",
      "Non-trainable params: 512\n",
      "__________________________________________________________________________________________________\n",
      "Training 30% data w/ outliers (line kernel)\n"
     ]
    }
   ],
   "source": [
    "callbacks = [keras.callbacks.ModelCheckpoint('./mod/inception_line_out_30_h11.h5',\n",
    "                                             monitor='val_loss',\n",
    "                                             verbose=0,\n",
    "                                             save_best_only=True\n",
    "                                            ),\n",
    "             keras.callbacks.ReduceLROnPlateau(monitor='val_loss',\n",
    "                                               factor=0.3,\n",
    "                                               patience=80,\n",
    "                                               verbose=0,\n",
    "                                               min_lr=1.0e-6\n",
    "                                              ),\n",
    "             keras.callbacks.EarlyStopping(monitor='val_loss',\n",
    "                                           patience=200,\n",
    "                                           verbose=0\n",
    "                                          )\n",
    "            ]\n",
    "\n",
    "inception_line.summary()\n",
    "\n",
    "print('Training 30% data w/ outliers (line kernel)')\n",
    "\n",
    "# define the model\n",
    "inception_line = inc_model(input_shape=input_shape,\n",
    "                           model_name='inc_line',\n",
    "                           learning_rate=0.001,\n",
    "                           filters=[32, 64, 32],\n",
    "                           kernel_size=[(12,1), (1,15)],\n",
    "                           dropout=0.2,\n",
    "                           l1_reg=1.0e-4,\n",
    "                           l2_reg=1.0e-4\n",
    "                          )\n",
    "inc_line_out_30 = inception_line.fit(x=mat_out_train_30,\n",
    "                                     y=lab_out_train_30,\n",
    "                                     batch_size=32,\n",
    "                                     epochs=10,\n",
    "                                     verbose=0,\n",
    "                                     callbacks=callbacks,\n",
    "                                     validation_data=(mat_out_val_30, lab_out_val_30)\n",
    "                                    )"
   ]
  },
  {
   "cell_type": "markdown",
   "metadata": {},
   "source": [
    "We the take a look at the accuracy of the output:"
   ]
  },
  {
   "cell_type": "code",
   "execution_count": 21,
   "metadata": {},
   "outputs": [
    {
     "name": "stdout",
     "output_type": "stream",
     "text": [
      "Accuracy for h_11: 9.80%\n"
     ]
    }
   ],
   "source": [
    "import joblib\n",
    "\n",
    "# predictions\n",
    "h11_pred = np.rint(inception_line.predict(mat_out_test_30)).astype(int).reshape(-1,)\n",
    "\n",
    "# true values\n",
    "h11_true = lab_out_test_30.astype(int).reshape(-1,)\n",
    "\n",
    "# accuracy\n",
    "h11_acc = np.mean((h11_pred == h11_true).astype(int))\n",
    "\n",
    "# save predictions\n",
    "predictions = {'h11_pred': h11_pred,\n",
    "               'h11_true': h11_true\n",
    "              }\n",
    "predictions = pd.DataFrame(predictions)\n",
    "predictions.to_csv('./dat/inc_line_out_30_h11.csv')\n",
    "\n",
    "# save history\n",
    "joblib.dump(inc_line_out_30.history, './dat/inc_line_out_30_h11.pkl')\n",
    "\n",
    "# print accuracy\n",
    "print('Accuracy for h_11: {:.2f}%'.format(h11_acc * 100))"
   ]
  },
  {
   "cell_type": "markdown",
   "metadata": {},
   "source": [
    "### 30% Training Data w/o Outliers (line kernel)"
   ]
  },
  {
   "cell_type": "code",
   "execution_count": 22,
   "metadata": {
    "scrolled": true
   },
   "outputs": [
    {
     "name": "stdout",
     "output_type": "stream",
     "text": [
      "Model: \"inc_line\"\n",
      "__________________________________________________________________________________________________\n",
      "Layer (type)                    Output Shape         Param #     Connected to                     \n",
      "==================================================================================================\n",
      "inc_line_input (InputLayer)     [(None, 12, 15, 1)]  0                                            \n",
      "__________________________________________________________________________________________________\n",
      "inc_line_convA_1 (Conv2D)       (None, 12, 15, 32)   416         inc_line_input[0][0]             \n",
      "__________________________________________________________________________________________________\n",
      "inc_line_convB_1 (Conv2D)       (None, 12, 15, 32)   512         inc_line_input[0][0]             \n",
      "__________________________________________________________________________________________________\n",
      "inc_line_conc_1 (Concatenate)   (None, 12, 15, 64)   0           inc_line_convA_1[0][0]           \n",
      "                                                                 inc_line_convB_1[0][0]           \n",
      "__________________________________________________________________________________________________\n",
      "inc_line_bnorm_1 (BatchNormaliz (None, 12, 15, 64)   256         inc_line_conc_1[0][0]            \n",
      "__________________________________________________________________________________________________\n",
      "inc_line_convA_2 (Conv2D)       (None, 12, 15, 64)   49216       inc_line_bnorm_1[0][0]           \n",
      "__________________________________________________________________________________________________\n",
      "inc_line_convB_2 (Conv2D)       (None, 12, 15, 64)   61504       inc_line_bnorm_1[0][0]           \n",
      "__________________________________________________________________________________________________\n",
      "inc_line_conc_2 (Concatenate)   (None, 12, 15, 128)  0           inc_line_convA_2[0][0]           \n",
      "                                                                 inc_line_convB_2[0][0]           \n",
      "__________________________________________________________________________________________________\n",
      "inc_line_bnorm_2 (BatchNormaliz (None, 12, 15, 128)  512         inc_line_conc_2[0][0]            \n",
      "__________________________________________________________________________________________________\n",
      "inc_line_convA_3 (Conv2D)       (None, 12, 15, 32)   49184       inc_line_bnorm_2[0][0]           \n",
      "__________________________________________________________________________________________________\n",
      "inc_line_convB_3 (Conv2D)       (None, 12, 15, 32)   61472       inc_line_bnorm_2[0][0]           \n",
      "__________________________________________________________________________________________________\n",
      "inc_line_conc_3 (Concatenate)   (None, 12, 15, 64)   0           inc_line_convA_3[0][0]           \n",
      "                                                                 inc_line_convB_3[0][0]           \n",
      "__________________________________________________________________________________________________\n",
      "inc_line_bnorm_3 (BatchNormaliz (None, 12, 15, 64)   256         inc_line_conc_3[0][0]            \n",
      "__________________________________________________________________________________________________\n",
      "inc_line_drop (Dropout)         (None, 12, 15, 64)   0           inc_line_bnorm_3[0][0]           \n",
      "__________________________________________________________________________________________________\n",
      "inc_line_flat (Flatten)         (None, 11520)        0           inc_line_drop[0][0]              \n",
      "__________________________________________________________________________________________________\n",
      "h11_output (Dense)              (None, 1)            11521       inc_line_flat[0][0]              \n",
      "==================================================================================================\n",
      "Total params: 234,849\n",
      "Trainable params: 234,337\n",
      "Non-trainable params: 512\n",
      "__________________________________________________________________________________________________\n",
      "Training 30% data w/o outliers (line kernel)\n"
     ]
    }
   ],
   "source": [
    "callbacks = [keras.callbacks.ModelCheckpoint('./mod/inception_line_noout_30_h11.h5',\n",
    "                                             monitor='val_loss',\n",
    "                                             verbose=0,\n",
    "                                             save_best_only=True\n",
    "                                            ),\n",
    "             keras.callbacks.ReduceLROnPlateau(monitor='val_loss',\n",
    "                                               factor=0.3,\n",
    "                                               patience=80,\n",
    "                                               verbose=0,\n",
    "                                               min_lr=1.0e-6\n",
    "                                              ),\n",
    "             keras.callbacks.EarlyStopping(monitor='val_loss',\n",
    "                                           patience=200,\n",
    "                                           restore_best_weights=True,\n",
    "                                           verbose=0\n",
    "                                          )\n",
    "            ]\n",
    "\n",
    "inception_line.summary()\n",
    "\n",
    "print('Training 30% data w/o outliers (line kernel)')\n",
    "\n",
    "# define the model\n",
    "inception_line = inc_model(input_shape=input_shape,\n",
    "                           model_name='inc_line',\n",
    "                           learning_rate=0.001,\n",
    "                           filters=[32, 64, 32],\n",
    "                           kernel_size=[(12,1), (1,15)],\n",
    "                           dropout=0.2,\n",
    "                           l1_reg=1.0e-4,\n",
    "                           l2_reg=1.0e-4\n",
    "                          )\n",
    "inc_line_noout_30 = inception_line.fit(x=mat_noout_train_30,\n",
    "                                       y=lab_noout_train_30,\n",
    "                                       batch_size=32,\n",
    "                                       epochs=10,\n",
    "                                       verbose=0,\n",
    "                                       callbacks=callbacks,\n",
    "                                       validation_data=(mat_noout_val_30, lab_noout_val_30)\n",
    "                                      )"
   ]
  },
  {
   "cell_type": "markdown",
   "metadata": {},
   "source": [
    "We the take a look at the accuracy of the output:"
   ]
  },
  {
   "cell_type": "code",
   "execution_count": 23,
   "metadata": {},
   "outputs": [
    {
     "name": "stdout",
     "output_type": "stream",
     "text": [
      "Accuracy for h_11: 4.88%\n"
     ]
    }
   ],
   "source": [
    "import joblib\n",
    "\n",
    "# predictions\n",
    "h11_pred = np.rint(inception_line.predict(mat_noout_test_30)).astype(int).reshape(-1,)\n",
    "\n",
    "# true values\n",
    "h11_true = lab_noout_test_30.astype(int).reshape(-1,)\n",
    "\n",
    "# accuracy\n",
    "h11_acc = np.mean((h11_pred == h11_true).astype(int))\n",
    "\n",
    "# save predictions\n",
    "predictions = {'h11_pred': h11_pred,\n",
    "               'h11_true': h11_true\n",
    "              }\n",
    "predictions = pd.DataFrame(predictions)\n",
    "predictions.to_csv('./dat/inc_line_noout_30_h11.csv')\n",
    "\n",
    "# save history\n",
    "joblib.dump(inc_line_noout_30.history, './dat/inc_line_noout_30_h11.pkl')\n",
    "\n",
    "# print accuracy\n",
    "print('Accuracy for h_11: {:.2f}%'.format(h11_acc * 100))"
   ]
  },
  {
   "cell_type": "markdown",
   "metadata": {},
   "source": [
    "### 80% Training Data w/ Outliers (square kernel)"
   ]
  },
  {
   "cell_type": "code",
   "execution_count": 16,
   "metadata": {
    "scrolled": true
   },
   "outputs": [
    {
     "name": "stdout",
     "output_type": "stream",
     "text": [
      "Model: \"inc_square\"\n",
      "__________________________________________________________________________________________________\n",
      "Layer (type)                    Output Shape         Param #     Connected to                     \n",
      "==================================================================================================\n",
      "inc_square_input (InputLayer)   [(None, 12, 15, 1)]  0                                            \n",
      "__________________________________________________________________________________________________\n",
      "inc_square_convA_1 (Conv2D)     (None, 12, 15, 64)   640         inc_square_input[0][0]           \n",
      "__________________________________________________________________________________________________\n",
      "inc_square_convB_1 (Conv2D)     (None, 12, 15, 64)   1664        inc_square_input[0][0]           \n",
      "__________________________________________________________________________________________________\n",
      "inc_square_conc_1 (Concatenate) (None, 12, 15, 128)  0           inc_square_convA_1[0][0]         \n",
      "                                                                 inc_square_convB_1[0][0]         \n",
      "__________________________________________________________________________________________________\n",
      "inc_square_bnorm_1 (BatchNormal (None, 12, 15, 128)  512         inc_square_conc_1[0][0]          \n",
      "__________________________________________________________________________________________________\n",
      "inc_square_convA_2 (Conv2D)     (None, 12, 15, 64)   73792       inc_square_bnorm_1[0][0]         \n",
      "__________________________________________________________________________________________________\n",
      "inc_square_convB_2 (Conv2D)     (None, 12, 15, 64)   204864      inc_square_bnorm_1[0][0]         \n",
      "__________________________________________________________________________________________________\n",
      "inc_square_conc_2 (Concatenate) (None, 12, 15, 128)  0           inc_square_convA_2[0][0]         \n",
      "                                                                 inc_square_convB_2[0][0]         \n",
      "__________________________________________________________________________________________________\n",
      "inc_square_bnorm_2 (BatchNormal (None, 12, 15, 128)  512         inc_square_conc_2[0][0]          \n",
      "__________________________________________________________________________________________________\n",
      "inc_square_convA_3 (Conv2D)     (None, 12, 15, 32)   36896       inc_square_bnorm_2[0][0]         \n",
      "__________________________________________________________________________________________________\n",
      "inc_square_convB_3 (Conv2D)     (None, 12, 15, 32)   102432      inc_square_bnorm_2[0][0]         \n",
      "__________________________________________________________________________________________________\n",
      "inc_square_conc_3 (Concatenate) (None, 12, 15, 64)   0           inc_square_convA_3[0][0]         \n",
      "                                                                 inc_square_convB_3[0][0]         \n",
      "__________________________________________________________________________________________________\n",
      "inc_square_bnorm_3 (BatchNormal (None, 12, 15, 64)   256         inc_square_conc_3[0][0]          \n",
      "__________________________________________________________________________________________________\n",
      "inc_square_drop (Dropout)       (None, 12, 15, 64)   0           inc_square_bnorm_3[0][0]         \n",
      "__________________________________________________________________________________________________\n",
      "inc_square_flat (Flatten)       (None, 11520)        0           inc_square_drop[0][0]            \n",
      "__________________________________________________________________________________________________\n",
      "h11_output (Dense)              (None, 1)            11521       inc_square_flat[0][0]            \n",
      "==================================================================================================\n",
      "Total params: 433,089\n",
      "Trainable params: 432,449\n",
      "Non-trainable params: 640\n",
      "__________________________________________________________________________________________________\n",
      "Training 80% data w/ outliers (square kernel)\n"
     ]
    }
   ],
   "source": [
    "callbacks = [keras.callbacks.ModelCheckpoint('./mod/inception_square_out_80_h11.h5',\n",
    "                                             monitor='val_loss',\n",
    "                                             verbose=0,\n",
    "                                             save_best_only=True\n",
    "                                            ),\n",
    "             keras.callbacks.ReduceLROnPlateau(monitor='val_loss',\n",
    "                                               factor=0.3,\n",
    "                                               patience=80,\n",
    "                                               verbose=0,\n",
    "                                               min_lr=1.0e-6\n",
    "                                              ),\n",
    "             keras.callbacks.EarlyStopping(monitor='val_loss',\n",
    "                                           patience=200,\n",
    "                                           restore_best_weights=True,\n",
    "                                           verbose=0\n",
    "                                          )\n",
    "            ]\n",
    "\n",
    "inception_square.summary()\n",
    "\n",
    "print('Training 80% data w/ outliers (square kernel)')\n",
    "\n",
    "# define the model\n",
    "inception_square = inc_model(input_shape=input_shape,\n",
    "                             model_name='inc_square',\n",
    "                             learning_rate=0.001,\n",
    "                             filters=[32, 64, 32],\n",
    "                             kernel_size=[(3,3), (5,5)],\n",
    "                             dropout=0.2,\n",
    "                             l1_reg=1.0e-4,\n",
    "                             l2_reg=1.0e-4\n",
    "                            )\n",
    "inc_square_out_80 = inception_square.fit(x=mat_out_train_80,\n",
    "                                         y=lab_out_train_80,\n",
    "                                         batch_size=32,\n",
    "                                         epochs=10,\n",
    "                                         verbose=0,\n",
    "                                         callbacks=callbacks,\n",
    "                                         validation_data=(mat_out_val_80, lab_out_val_80)\n",
    "                                        )"
   ]
  },
  {
   "cell_type": "markdown",
   "metadata": {},
   "source": [
    "We the take a look at the accuracy of the output:"
   ]
  },
  {
   "cell_type": "code",
   "execution_count": 17,
   "metadata": {},
   "outputs": [
    {
     "name": "stdout",
     "output_type": "stream",
     "text": [
      "Accuracy for h_11: 82.89%\n"
     ]
    }
   ],
   "source": [
    "import joblib\n",
    "\n",
    "# predictions\n",
    "h11_pred = np.rint(inception_square.predict(mat_out_test_80)).astype(int).reshape(-1,)\n",
    "\n",
    "# true values\n",
    "h11_true = lab_out_test_80.astype(int).reshape(-1,)\n",
    "\n",
    "# accuracy\n",
    "h11_acc = np.mean((h11_pred == h11_true).astype(int))\n",
    "\n",
    "# save predictions\n",
    "predictions = {'h11_pred': h11_pred,\n",
    "               'h11_true': h11_true\n",
    "              }\n",
    "predictions = pd.DataFrame(predictions)\n",
    "predictions.to_csv('./dat/inc_square_out_80_h11.csv')\n",
    "\n",
    "# save history\n",
    "joblib.dump(inc_square_out_80.history, './dat/inc_square_out_80_h11.pkl')\n",
    "\n",
    "# print accuracy\n",
    "print('Accuracy for h_11: {:.2f}%'.format(h11_acc * 100))"
   ]
  },
  {
   "cell_type": "markdown",
   "metadata": {},
   "source": [
    "### 80% Training Data w/o Outliers (square kernel)"
   ]
  },
  {
   "cell_type": "code",
   "execution_count": 18,
   "metadata": {
    "scrolled": true
   },
   "outputs": [
    {
     "name": "stdout",
     "output_type": "stream",
     "text": [
      "Model: \"inc_square\"\n",
      "__________________________________________________________________________________________________\n",
      "Layer (type)                    Output Shape         Param #     Connected to                     \n",
      "==================================================================================================\n",
      "inc_square_input (InputLayer)   [(None, 12, 15, 1)]  0                                            \n",
      "__________________________________________________________________________________________________\n",
      "inc_square_convA_1 (Conv2D)     (None, 12, 15, 32)   320         inc_square_input[0][0]           \n",
      "__________________________________________________________________________________________________\n",
      "inc_square_convB_1 (Conv2D)     (None, 12, 15, 32)   832         inc_square_input[0][0]           \n",
      "__________________________________________________________________________________________________\n",
      "inc_square_conc_1 (Concatenate) (None, 12, 15, 64)   0           inc_square_convA_1[0][0]         \n",
      "                                                                 inc_square_convB_1[0][0]         \n",
      "__________________________________________________________________________________________________\n",
      "inc_square_bnorm_1 (BatchNormal (None, 12, 15, 64)   256         inc_square_conc_1[0][0]          \n",
      "__________________________________________________________________________________________________\n",
      "inc_square_convA_2 (Conv2D)     (None, 12, 15, 64)   36928       inc_square_bnorm_1[0][0]         \n",
      "__________________________________________________________________________________________________\n",
      "inc_square_convB_2 (Conv2D)     (None, 12, 15, 64)   102464      inc_square_bnorm_1[0][0]         \n",
      "__________________________________________________________________________________________________\n",
      "inc_square_conc_2 (Concatenate) (None, 12, 15, 128)  0           inc_square_convA_2[0][0]         \n",
      "                                                                 inc_square_convB_2[0][0]         \n",
      "__________________________________________________________________________________________________\n",
      "inc_square_bnorm_2 (BatchNormal (None, 12, 15, 128)  512         inc_square_conc_2[0][0]          \n",
      "__________________________________________________________________________________________________\n",
      "inc_square_convA_3 (Conv2D)     (None, 12, 15, 32)   36896       inc_square_bnorm_2[0][0]         \n",
      "__________________________________________________________________________________________________\n",
      "inc_square_convB_3 (Conv2D)     (None, 12, 15, 32)   102432      inc_square_bnorm_2[0][0]         \n",
      "__________________________________________________________________________________________________\n",
      "inc_square_conc_3 (Concatenate) (None, 12, 15, 64)   0           inc_square_convA_3[0][0]         \n",
      "                                                                 inc_square_convB_3[0][0]         \n",
      "__________________________________________________________________________________________________\n",
      "inc_square_bnorm_3 (BatchNormal (None, 12, 15, 64)   256         inc_square_conc_3[0][0]          \n",
      "__________________________________________________________________________________________________\n",
      "inc_square_drop (Dropout)       (None, 12, 15, 64)   0           inc_square_bnorm_3[0][0]         \n",
      "__________________________________________________________________________________________________\n",
      "inc_square_flat (Flatten)       (None, 11520)        0           inc_square_drop[0][0]            \n",
      "__________________________________________________________________________________________________\n",
      "h11_output (Dense)              (None, 1)            11521       inc_square_flat[0][0]            \n",
      "==================================================================================================\n",
      "Total params: 292,417\n",
      "Trainable params: 291,905\n",
      "Non-trainable params: 512\n",
      "__________________________________________________________________________________________________\n",
      "Training 80% data w/o outliers (square kernel)\n"
     ]
    }
   ],
   "source": [
    "callbacks = [keras.callbacks.ModelCheckpoint('./mod/inception_square_noout_80_h11.h5',\n",
    "                                             monitor='val_loss',\n",
    "                                             verbose=0,\n",
    "                                             save_best_only=True\n",
    "                                            ),\n",
    "             keras.callbacks.ReduceLROnPlateau(monitor='val_loss',\n",
    "                                               factor=0.3,\n",
    "                                               patience=80,\n",
    "                                               verbose=0,\n",
    "                                               min_lr=1.0e-6\n",
    "                                              ),\n",
    "             keras.callbacks.EarlyStopping(monitor='val_loss',\n",
    "                                           patience=200,\n",
    "                                           restore_best_weights=True,\n",
    "                                           verbose=0\n",
    "                                          )\n",
    "            ]\n",
    "\n",
    "inception_square.summary()\n",
    "\n",
    "print('Training 80% data w/o outliers (square kernel)')\n",
    "\n",
    "# define the model\n",
    "inception_square = inc_model(input_shape=input_shape,\n",
    "                             model_name='inc_square',\n",
    "                             learning_rate=0.001,\n",
    "                             filters=[32, 64, 32],\n",
    "                             kernel_size=[(3,3), (5,5)],\n",
    "                             dropout=0.2,\n",
    "                             l1_reg=1.0e-4,\n",
    "                             l2_reg=1.0e-4\n",
    "                            )\n",
    "inc_square_noout_80 = inception_square.fit(x=mat_noout_train_80,\n",
    "                                           y=lab_noout_train_80,\n",
    "                                           batch_size=32,\n",
    "                                           epochs=10,\n",
    "                                           verbose=0,\n",
    "                                           callbacks=callbacks,\n",
    "                                           validation_data=(mat_noout_val_80, lab_noout_val_80)\n",
    "                                          )"
   ]
  },
  {
   "cell_type": "markdown",
   "metadata": {},
   "source": [
    "We the take a look at the accuracy of the output:"
   ]
  },
  {
   "cell_type": "code",
   "execution_count": 19,
   "metadata": {},
   "outputs": [
    {
     "name": "stdout",
     "output_type": "stream",
     "text": [
      "Accuracy for h_11: 88.93%\n"
     ]
    }
   ],
   "source": [
    "import joblib\n",
    "\n",
    "# predictions\n",
    "h11_pred = np.rint(inception_square.predict(mat_noout_test_80)).astype(int).reshape(-1,)\n",
    "\n",
    "# true values\n",
    "h11_true = lab_noout_test_80.astype(int).reshape(-1,)\n",
    "\n",
    "# accuracy\n",
    "h11_acc = np.mean((h11_pred == h11_true).astype(int))\n",
    "\n",
    "# save predictions\n",
    "predictions = {'h11_pred': h11_pred,\n",
    "               'h11_true': h11_true\n",
    "              }\n",
    "predictions = pd.DataFrame(predictions)\n",
    "predictions.to_csv('./dat/inc_square_noout_80_h11.csv')\n",
    "\n",
    "# save history\n",
    "joblib.dump(inc_square_noout_80.history, './dat/inc_square_noout_80_h11.pkl')\n",
    "\n",
    "# print accuracy\n",
    "print('Accuracy for h_11: {:.2f}%'.format(h11_acc * 100))"
   ]
  },
  {
   "cell_type": "markdown",
   "metadata": {},
   "source": [
    "### 30% Training Data w/ Outliers (square kernel)"
   ]
  },
  {
   "cell_type": "code",
   "execution_count": 23,
   "metadata": {
    "scrolled": true
   },
   "outputs": [
    {
     "name": "stdout",
     "output_type": "stream",
     "text": [
      "Model: \"inc_square\"\n",
      "__________________________________________________________________________________________________\n",
      "Layer (type)                    Output Shape         Param #     Connected to                     \n",
      "==================================================================================================\n",
      "inc_square_input (InputLayer)   [(None, 12, 15, 1)]  0                                            \n",
      "__________________________________________________________________________________________________\n",
      "inc_square_convA_1 (Conv2D)     (None, 12, 15, 32)   416         inc_square_input[0][0]           \n",
      "__________________________________________________________________________________________________\n",
      "inc_square_convB_1 (Conv2D)     (None, 12, 15, 32)   512         inc_square_input[0][0]           \n",
      "__________________________________________________________________________________________________\n",
      "inc_square_conc_1 (Concatenate) (None, 12, 15, 64)   0           inc_square_convA_1[0][0]         \n",
      "                                                                 inc_square_convB_1[0][0]         \n",
      "__________________________________________________________________________________________________\n",
      "inc_square_bnorm_1 (BatchNormal (None, 12, 15, 64)   256         inc_square_conc_1[0][0]          \n",
      "__________________________________________________________________________________________________\n",
      "inc_square_convA_2 (Conv2D)     (None, 12, 15, 64)   49216       inc_square_bnorm_1[0][0]         \n",
      "__________________________________________________________________________________________________\n",
      "inc_square_convB_2 (Conv2D)     (None, 12, 15, 64)   61504       inc_square_bnorm_1[0][0]         \n",
      "__________________________________________________________________________________________________\n",
      "inc_square_conc_2 (Concatenate) (None, 12, 15, 128)  0           inc_square_convA_2[0][0]         \n",
      "                                                                 inc_square_convB_2[0][0]         \n",
      "__________________________________________________________________________________________________\n",
      "inc_square_bnorm_2 (BatchNormal (None, 12, 15, 128)  512         inc_square_conc_2[0][0]          \n",
      "__________________________________________________________________________________________________\n",
      "inc_square_convA_3 (Conv2D)     (None, 12, 15, 32)   49184       inc_square_bnorm_2[0][0]         \n",
      "__________________________________________________________________________________________________\n",
      "inc_square_convB_3 (Conv2D)     (None, 12, 15, 32)   61472       inc_square_bnorm_2[0][0]         \n",
      "__________________________________________________________________________________________________\n",
      "inc_square_conc_3 (Concatenate) (None, 12, 15, 64)   0           inc_square_convA_3[0][0]         \n",
      "                                                                 inc_square_convB_3[0][0]         \n",
      "__________________________________________________________________________________________________\n",
      "inc_square_bnorm_3 (BatchNormal (None, 12, 15, 64)   256         inc_square_conc_3[0][0]          \n",
      "__________________________________________________________________________________________________\n",
      "inc_square_drop (Dropout)       (None, 12, 15, 64)   0           inc_square_bnorm_3[0][0]         \n",
      "__________________________________________________________________________________________________\n",
      "inc_square_flat (Flatten)       (None, 11520)        0           inc_square_drop[0][0]            \n",
      "__________________________________________________________________________________________________\n",
      "h11_output (Dense)              (None, 1)            11521       inc_square_flat[0][0]            \n",
      "==================================================================================================\n",
      "Total params: 234,849\n",
      "Trainable params: 234,337\n",
      "Non-trainable params: 512\n",
      "__________________________________________________________________________________________________\n",
      "Training 30% data w/ outliers (square kernel)\n"
     ]
    }
   ],
   "source": [
    "callbacks = [keras.callbacks.ModelCheckpoint('./mod/inception_square_out_30_h11.h5',\n",
    "                                             monitor='val_loss',\n",
    "                                             verbose=0,\n",
    "                                             save_best_only=True\n",
    "                                            ),\n",
    "             keras.callbacks.ReduceLROnPlateau(monitor='val_loss',\n",
    "                                               factor=0.3,\n",
    "                                               patience=80,\n",
    "                                               verbose=0,\n",
    "                                               min_lr=1.0e-6\n",
    "                                              ),\n",
    "             keras.callbacks.EarlyStopping(monitor='val_loss',\n",
    "                                           patience=200,\n",
    "                                           restore_best_weights=True,\n",
    "                                           verbose=0\n",
    "                                          )\n",
    "            ]\n",
    "\n",
    "inception_square.summary()\n",
    "\n",
    "print('Training 30% data w/ outliers (square kernel)')\n",
    "\n",
    "# define the model\n",
    "inception_square = inc_model(input_shape=input_shape,\n",
    "                             model_name='inc_square',\n",
    "                             learning_rate=0.001,\n",
    "                             filters=[32, 64, 32],\n",
    "                             kernel_size=[(3,3), (5,5)],\n",
    "                             dropout=0.2,\n",
    "                             l1_reg=1.0e-4,\n",
    "                             l2_reg=1.0e-4\n",
    "                            )\n",
    "inc_square_out_30 = inception_square.fit(x=mat_out_train_30,\n",
    "                                         y=lab_out_train_30,\n",
    "                                         batch_size=32,\n",
    "                                         epochs=10,\n",
    "                                         verbose=0,\n",
    "                                         callbacks=callbacks,\n",
    "                                         validation_data=(mat_out_val_30, lab_out_val_30)\n",
    "                                        )"
   ]
  },
  {
   "cell_type": "markdown",
   "metadata": {},
   "source": [
    "We the take a look at the accuracy of the output:"
   ]
  },
  {
   "cell_type": "code",
   "execution_count": 24,
   "metadata": {},
   "outputs": [
    {
     "name": "stdout",
     "output_type": "stream",
     "text": [
      "Accuracy for h_11: 19.16%\n"
     ]
    }
   ],
   "source": [
    "import joblib\n",
    "\n",
    "# predictions\n",
    "h11_pred = np.rint(inception_square.predict(mat_out_test_30)).astype(int).reshape(-1,)\n",
    "\n",
    "# true values\n",
    "h11_true = lab_out_test_30.astype(int).reshape(-1,)\n",
    "\n",
    "# accuracy\n",
    "h11_acc = np.mean((h11_pred == h11_true).astype(int))\n",
    "\n",
    "# save predictions\n",
    "predictions = {'h11_pred': h11_pred,\n",
    "               'h11_true': h11_true\n",
    "              }\n",
    "predictions = pd.DataFrame(predictions)\n",
    "predictions.to_csv('./dat/inc_square_out_30_h11.csv')\n",
    "\n",
    "# save history\n",
    "joblib.dump(inc_square_out_30.history, './dat/inc_square_out_30_h11.pkl')\n",
    "\n",
    "# print accuracy\n",
    "print('Accuracy for h_11: {:.2f}%'.format(h11_acc * 100))"
   ]
  },
  {
   "cell_type": "markdown",
   "metadata": {},
   "source": [
    "### 30% Training Data w/o Outliers (square kernel)"
   ]
  },
  {
   "cell_type": "code",
   "execution_count": 25,
   "metadata": {
    "scrolled": true
   },
   "outputs": [
    {
     "name": "stdout",
     "output_type": "stream",
     "text": [
      "Model: \"inc_square\"\n",
      "__________________________________________________________________________________________________\n",
      "Layer (type)                    Output Shape         Param #     Connected to                     \n",
      "==================================================================================================\n",
      "inc_square_input (InputLayer)   [(None, 12, 15, 1)]  0                                            \n",
      "__________________________________________________________________________________________________\n",
      "inc_square_convA_1 (Conv2D)     (None, 12, 15, 32)   320         inc_square_input[0][0]           \n",
      "__________________________________________________________________________________________________\n",
      "inc_square_convB_1 (Conv2D)     (None, 12, 15, 32)   832         inc_square_input[0][0]           \n",
      "__________________________________________________________________________________________________\n",
      "inc_square_conc_1 (Concatenate) (None, 12, 15, 64)   0           inc_square_convA_1[0][0]         \n",
      "                                                                 inc_square_convB_1[0][0]         \n",
      "__________________________________________________________________________________________________\n",
      "inc_square_bnorm_1 (BatchNormal (None, 12, 15, 64)   256         inc_square_conc_1[0][0]          \n",
      "__________________________________________________________________________________________________\n",
      "inc_square_convA_2 (Conv2D)     (None, 12, 15, 64)   36928       inc_square_bnorm_1[0][0]         \n",
      "__________________________________________________________________________________________________\n",
      "inc_square_convB_2 (Conv2D)     (None, 12, 15, 64)   102464      inc_square_bnorm_1[0][0]         \n",
      "__________________________________________________________________________________________________\n",
      "inc_square_conc_2 (Concatenate) (None, 12, 15, 128)  0           inc_square_convA_2[0][0]         \n",
      "                                                                 inc_square_convB_2[0][0]         \n",
      "__________________________________________________________________________________________________\n",
      "inc_square_bnorm_2 (BatchNormal (None, 12, 15, 128)  512         inc_square_conc_2[0][0]          \n",
      "__________________________________________________________________________________________________\n",
      "inc_square_convA_3 (Conv2D)     (None, 12, 15, 32)   36896       inc_square_bnorm_2[0][0]         \n",
      "__________________________________________________________________________________________________\n",
      "inc_square_convB_3 (Conv2D)     (None, 12, 15, 32)   102432      inc_square_bnorm_2[0][0]         \n",
      "__________________________________________________________________________________________________\n",
      "inc_square_conc_3 (Concatenate) (None, 12, 15, 64)   0           inc_square_convA_3[0][0]         \n",
      "                                                                 inc_square_convB_3[0][0]         \n",
      "__________________________________________________________________________________________________\n",
      "inc_square_bnorm_3 (BatchNormal (None, 12, 15, 64)   256         inc_square_conc_3[0][0]          \n",
      "__________________________________________________________________________________________________\n",
      "inc_square_drop (Dropout)       (None, 12, 15, 64)   0           inc_square_bnorm_3[0][0]         \n",
      "__________________________________________________________________________________________________\n",
      "inc_square_flat (Flatten)       (None, 11520)        0           inc_square_drop[0][0]            \n",
      "__________________________________________________________________________________________________\n",
      "h11_output (Dense)              (None, 1)            11521       inc_square_flat[0][0]            \n",
      "==================================================================================================\n",
      "Total params: 292,417\n",
      "Trainable params: 291,905\n",
      "Non-trainable params: 512\n",
      "__________________________________________________________________________________________________\n",
      "Training 30% data w/o outliers (square kernel)\n"
     ]
    }
   ],
   "source": [
    "callbacks = [keras.callbacks.ModelCheckpoint('./mod/inception_square_noout_30_h11.h5',\n",
    "                                             monitor='val_loss',\n",
    "                                             verbose=0,\n",
    "                                             save_best_only=True\n",
    "                                            ),\n",
    "             keras.callbacks.ReduceLROnPlateau(monitor='val_loss',\n",
    "                                               factor=0.3,\n",
    "                                               patience=80,\n",
    "                                               verbose=0,\n",
    "                                               min_lr=1.0e-6\n",
    "                                              ),\n",
    "             keras.callbacks.EarlyStopping(monitor='val_loss',\n",
    "                                           patience=200,\n",
    "                                           restore_best_weights=True,\n",
    "                                           verbose=0\n",
    "                                          )\n",
    "            ]\n",
    "\n",
    "inception_square.summary()\n",
    "\n",
    "print('Training 30% data w/o outliers (square kernel)')\n",
    "\n",
    "# define the model\n",
    "inception_square = inc_model(input_shape=input_shape,\n",
    "                             model_name='inc_square',\n",
    "                             learning_rate=0.001,\n",
    "                             filters=[32, 64, 32],\n",
    "                             kernel_size=[(3,3), (5,5)],\n",
    "                             dropout=0.2,\n",
    "                             l1_reg=1.0e-4,\n",
    "                             l2_reg=1.0e-4\n",
    "                            )\n",
    "inc_square_noout_30 = inception_square.fit(x=mat_noout_train_30,\n",
    "                                           y=lab_noout_train_30,\n",
    "                                           batch_size=32,\n",
    "                                           epochs=10,\n",
    "                                           verbose=0,\n",
    "                                           callbacks=callbacks,\n",
    "                                           validation_data=(mat_noout_val_30, lab_noout_val_30)\n",
    "                                          )"
   ]
  },
  {
   "cell_type": "markdown",
   "metadata": {},
   "source": [
    "We the take a look at the accuracy of the output:"
   ]
  },
  {
   "cell_type": "code",
   "execution_count": 26,
   "metadata": {},
   "outputs": [
    {
     "name": "stdout",
     "output_type": "stream",
     "text": [
      "Accuracy for h_11: 1.80%\n"
     ]
    }
   ],
   "source": [
    "import joblib\n",
    "\n",
    "# predictions\n",
    "h11_pred = np.rint(inception_square.predict(mat_noout_test_30)).astype(int).reshape(-1,)\n",
    "\n",
    "# true values\n",
    "h11_true = lab_noout_test_30.astype(int).reshape(-1,)\n",
    "\n",
    "# accuracy\n",
    "h11_acc = np.mean((h11_pred == h11_true).astype(int))\n",
    "\n",
    "# save predictions\n",
    "predictions = {'h11_pred': h11_pred,\n",
    "               'h11_true': h11_true\n",
    "              }\n",
    "predictions = pd.DataFrame(predictions)\n",
    "predictions.to_csv('./dat/inc_square_noout_30_h11.csv')\n",
    "\n",
    "# save history\n",
    "joblib.dump(inc_square_noout_30.history, './dat/inc_square_noout_30_h11.pkl')\n",
    "\n",
    "# print accuracy\n",
    "print('Accuracy for h_11: {:.2f}%'.format(h11_acc * 100))"
   ]
  },
  {
   "cell_type": "markdown",
   "metadata": {},
   "source": [
    "## Sequential CNN"
   ]
  },
  {
   "cell_type": "code",
   "execution_count": 32,
   "metadata": {},
   "outputs": [],
   "source": [
    "from tensorflow import keras\n",
    "\n",
    "def seq_model(input_shape,\n",
    "              model_name='sequential',\n",
    "              learning_rate=0.001,\n",
    "              filters=[32],\n",
    "              padding='same',\n",
    "              kernel_size=(2,2),\n",
    "              dropout=0.2,\n",
    "              momentum=0.99,\n",
    "              l1_reg=0.0,\n",
    "              l2_reg=0.0\n",
    "             ):\n",
    "    \n",
    "    # reset session\n",
    "    keras.backend.clear_session()\n",
    "    \n",
    "    # define the regularisation factor\n",
    "    kernel_regularizer = keras.regularizers.l1_l2(l1=l1_reg, l2=l2_reg)\n",
    "    \n",
    "    # input of the model\n",
    "    I = keras.layers.Input(shape=input_shape, name=model_name + '_input')\n",
    "    x = I\n",
    "    \n",
    "    # convolutional layers\n",
    "    for n in range(len(filters)):\n",
    "        x = keras.layers.Conv2D(filters=filters[n],\n",
    "                                kernel_size=kernel_size,\n",
    "                                padding=padding,\n",
    "                                kernel_regularizer=kernel_regularizer,\n",
    "                                activation='relu',\n",
    "                                name=model_name + '_conv_' + str(n+1)\n",
    "                               )(x)\n",
    "        if momentum > 0.0:\n",
    "            x = keras.layers.BatchNormalization(momentum=momentum,\n",
    "                                                name=model_name + '_bnorm_' + str(n+1)\n",
    "                                               )(x)\n",
    "    \n",
    "    # dropout layer\n",
    "    if dropout > 0.0:\n",
    "        x = keras.layers.Dropout(rate=dropout, name=model_name + '_drop')(x)\n",
    "        \n",
    "    # flatten\n",
    "    x = keras.layers.Flatten(name=model_name + '_flat')(x)\n",
    "    \n",
    "    # output\n",
    "    h11 = keras.layers.Dense(units=1,\n",
    "                             activation='relu',\n",
    "                             name='h11_output'\n",
    "                            )(x)\n",
    "    \n",
    "    # define the model\n",
    "    model = keras.models.Model(inputs=I, outputs=h11, name=model_name)\n",
    "    model.compile(optimizer=keras.optimizers.Adam(learning_rate=learning_rate),\n",
    "                  loss='mse',\n",
    "                  metrics=['mse', 'mae']\n",
    "                 )\n",
    "    \n",
    "    return model"
   ]
  },
  {
   "cell_type": "markdown",
   "metadata": {},
   "source": [
    "We then define the model."
   ]
  },
  {
   "cell_type": "code",
   "execution_count": 33,
   "metadata": {},
   "outputs": [],
   "source": [
    "sequential_small = seq_model(input_shape=input_shape,\n",
    "                             model_name='seq_small',\n",
    "                             learning_rate=0.001,\n",
    "                             filters=[180, 100, 40, 20],\n",
    "                             kernel_size=(3,3),\n",
    "                             dropout=0.3,\n",
    "                             l1_reg=1.0e-5,\n",
    "                             l2_reg=1.0e-5\n",
    "                            )\n",
    "sequential_large = seq_model(input_shape=input_shape,\n",
    "                             model_name='seq_large',\n",
    "                             learning_rate=0.001,\n",
    "                             filters=[180, 100, 40, 20],\n",
    "                             kernel_size=(5,5),\n",
    "                             dropout=0.3,\n",
    "                             l1_reg=1.0e-5,\n",
    "                             l2_reg=1.0e-5\n",
    "                            )"
   ]
  },
  {
   "cell_type": "markdown",
   "metadata": {},
   "source": [
    "The model can be visualised using `keras` utility functions:"
   ]
  },
  {
   "cell_type": "code",
   "execution_count": 34,
   "metadata": {},
   "outputs": [],
   "source": [
    "#from IPython.display import Image\n",
    "\n",
    "sequential_dot = keras.utils.model_to_dot(sequential_small,\n",
    "                                          show_shapes=True,\n",
    "                                          dpi=150\n",
    "                                         )\n",
    "sequential_dot.write_pdf('./img/seq_arch_h11.pdf')\n",
    "#Image(sequential_dot.create_png(), width=480)"
   ]
  },
  {
   "cell_type": "markdown",
   "metadata": {},
   "source": [
    "We then train the model."
   ]
  },
  {
   "cell_type": "code",
   "execution_count": 35,
   "metadata": {},
   "outputs": [],
   "source": [
    "os.makedirs('./dat', exist_ok=True)"
   ]
  },
  {
   "cell_type": "markdown",
   "metadata": {},
   "source": [
    "### 80% Training Data w/ Outliers (small kernel)"
   ]
  },
  {
   "cell_type": "code",
   "execution_count": 56,
   "metadata": {
    "scrolled": true
   },
   "outputs": [
    {
     "name": "stdout",
     "output_type": "stream",
     "text": [
      "Model: \"seq_small\"\n",
      "_________________________________________________________________\n",
      "Layer (type)                 Output Shape              Param #   \n",
      "=================================================================\n",
      "seq_small_input (InputLayer) [(None, 12, 15, 1)]       0         \n",
      "_________________________________________________________________\n",
      "seq_small_conv_1 (Conv2D)    (None, 12, 15, 180)       1800      \n",
      "_________________________________________________________________\n",
      "seq_small_bnorm_1 (BatchNorm (None, 12, 15, 180)       720       \n",
      "_________________________________________________________________\n",
      "seq_small_conv_2 (Conv2D)    (None, 12, 15, 100)       162100    \n",
      "_________________________________________________________________\n",
      "seq_small_bnorm_2 (BatchNorm (None, 12, 15, 100)       400       \n",
      "_________________________________________________________________\n",
      "seq_small_conv_3 (Conv2D)    (None, 12, 15, 40)        36040     \n",
      "_________________________________________________________________\n",
      "seq_small_bnorm_3 (BatchNorm (None, 12, 15, 40)        160       \n",
      "_________________________________________________________________\n",
      "seq_small_conv_4 (Conv2D)    (None, 12, 15, 20)        7220      \n",
      "_________________________________________________________________\n",
      "seq_small_bnorm_4 (BatchNorm (None, 12, 15, 20)        80        \n",
      "_________________________________________________________________\n",
      "seq_small_drop (Dropout)     (None, 12, 15, 20)        0         \n",
      "_________________________________________________________________\n",
      "seq_small_flat (Flatten)     (None, 3600)              0         \n",
      "_________________________________________________________________\n",
      "h11_output (Dense)           (None, 1)                 3601      \n",
      "=================================================================\n",
      "Total params: 212,121\n",
      "Trainable params: 211,441\n",
      "Non-trainable params: 680\n",
      "_________________________________________________________________\n",
      "Training 80% data w/ outliers (small kernel)\n"
     ]
    }
   ],
   "source": [
    "callbacks = [keras.callbacks.ModelCheckpoint('./mod/sequential_small_out_80_h11.h5',\n",
    "                                             monitor='val_loss',\n",
    "                                             verbose=0,\n",
    "                                             save_best_only=True\n",
    "                                            ),\n",
    "             keras.callbacks.ReduceLROnPlateau(monitor='val_loss',\n",
    "                                               factor=0.3,\n",
    "                                               patience=80,\n",
    "                                               verbose=0,\n",
    "                                               min_lr=1.0e-6\n",
    "                                              ),\n",
    "             keras.callbacks.EarlyStopping(monitor='val_loss',\n",
    "                                           patience=200,\n",
    "                                           restore_best_weights=True,\n",
    "                                           verbose=0\n",
    "                                          )\n",
    "            ]\n",
    "\n",
    "sequential_small.summary()\n",
    "\n",
    "print('Training 80% data w/ outliers (small kernel)')\n",
    "\n",
    "# define the model\n",
    "sequential_small = seq_model(input_shape=input_shape,\n",
    "                            model_name='seq_small',\n",
    "                            learning_rate=0.001,\n",
    "                            filters=[180, 100, 40, 20],\n",
    "                            kernel_size=(3,3),\n",
    "                            dropout=0.3,\n",
    "                            l1_reg=1.0e-5,\n",
    "                            l2_reg=1.0e-5\n",
    "                           )\n",
    "seq_small_out_80 = sequential_small.fit(x=mat_out_train_80,\n",
    "                                        y=lab_out_train_80,\n",
    "                                        batch_size=32,\n",
    "                                        epochs=10,\n",
    "                                        verbose=0,\n",
    "                                        callbacks=callbacks,\n",
    "                                        validation_data=(mat_out_val_80, lab_out_val_80)\n",
    "                                       )"
   ]
  },
  {
   "cell_type": "markdown",
   "metadata": {},
   "source": [
    "We the take a look at the accuracy of the output:"
   ]
  },
  {
   "cell_type": "code",
   "execution_count": 57,
   "metadata": {},
   "outputs": [
    {
     "name": "stdout",
     "output_type": "stream",
     "text": [
      "Accuracy for h_11: 63.37%\n"
     ]
    }
   ],
   "source": [
    "import joblib\n",
    "\n",
    "# predictions\n",
    "h11_pred = np.rint(sequential_small.predict(mat_out_test_80)).astype(int).reshape(-1,)\n",
    "\n",
    "# true values\n",
    "h11_true = lab_out_test_80.astype(int).reshape(-1,)\n",
    "\n",
    "# accuracy\n",
    "h11_acc = np.mean((h11_pred == h11_true).astype(int))\n",
    "\n",
    "# save predictions\n",
    "predictions = {'h11_pred': h11_pred,\n",
    "               'h11_true': h11_true\n",
    "              }\n",
    "predictions = pd.DataFrame(predictions)\n",
    "predictions.to_csv('./dat/seq_small_out_80_h11.csv')\n",
    "\n",
    "# save history\n",
    "joblib.dump(seq_small_out_80.history, './dat/seq_small_out_80_h11.pkl')\n",
    "\n",
    "# print accuracy\n",
    "print('Accuracy for h_11: {:.2f}%'.format(h11_acc * 100))"
   ]
  },
  {
   "cell_type": "markdown",
   "metadata": {},
   "source": [
    "### 80% Training Data w/o Outliers (small kernel)"
   ]
  },
  {
   "cell_type": "code",
   "execution_count": 41,
   "metadata": {
    "scrolled": true
   },
   "outputs": [
    {
     "name": "stdout",
     "output_type": "stream",
     "text": [
      "Model: \"seq_small\"\n",
      "_________________________________________________________________\n",
      "Layer (type)                 Output Shape              Param #   \n",
      "=================================================================\n",
      "seq_small_input (InputLayer) [(None, 12, 15, 1)]       0         \n",
      "_________________________________________________________________\n",
      "seq_small_conv_1 (Conv2D)    (None, 12, 15, 180)       1800      \n",
      "_________________________________________________________________\n",
      "seq_small_bnorm_1 (BatchNorm (None, 12, 15, 180)       720       \n",
      "_________________________________________________________________\n",
      "seq_small_conv_2 (Conv2D)    (None, 12, 15, 100)       162100    \n",
      "_________________________________________________________________\n",
      "seq_small_bnorm_2 (BatchNorm (None, 12, 15, 100)       400       \n",
      "_________________________________________________________________\n",
      "seq_small_conv_3 (Conv2D)    (None, 12, 15, 40)        36040     \n",
      "_________________________________________________________________\n",
      "seq_small_bnorm_3 (BatchNorm (None, 12, 15, 40)        160       \n",
      "_________________________________________________________________\n",
      "seq_small_conv_4 (Conv2D)    (None, 12, 15, 20)        7220      \n",
      "_________________________________________________________________\n",
      "seq_small_bnorm_4 (BatchNorm (None, 12, 15, 20)        80        \n",
      "_________________________________________________________________\n",
      "seq_small_drop (Dropout)     (None, 12, 15, 20)        0         \n",
      "_________________________________________________________________\n",
      "seq_small_flat (Flatten)     (None, 3600)              0         \n",
      "_________________________________________________________________\n",
      "h11_output (Dense)           (None, 1)                 3601      \n",
      "=================================================================\n",
      "Total params: 212,121\n",
      "Trainable params: 211,441\n",
      "Non-trainable params: 680\n",
      "_________________________________________________________________\n",
      "Training 80% data w/o outliers (small kernel)\n"
     ]
    }
   ],
   "source": [
    "callbacks = [keras.callbacks.ModelCheckpoint('./mod/sequential_small_noout_80_h11.h5',\n",
    "                                             monitor='val_loss',\n",
    "                                             verbose=0,\n",
    "                                             save_best_only=True\n",
    "                                            ),\n",
    "             keras.callbacks.ReduceLROnPlateau(monitor='val_loss',\n",
    "                                               factor=0.3,\n",
    "                                               patience=80,\n",
    "                                               verbose=0,\n",
    "                                               min_lr=1.0e-6\n",
    "                                              ),\n",
    "             keras.callbacks.EarlyStopping(monitor='val_loss',\n",
    "                                           patience=200,\n",
    "                                           restore_best_weights=True,\n",
    "                                           verbose=0\n",
    "                                          )\n",
    "            ]\n",
    "\n",
    "sequential_small.summary()\n",
    "\n",
    "print('Training 80% data w/o outliers (small kernel)')\n",
    "\n",
    "# define the model\n",
    "sequential_small = seq_model(input_shape=input_shape,\n",
    "                             model_name='seq_small',\n",
    "                             learning_rate=0.001,\n",
    "                             filters=[180, 100, 40, 20],\n",
    "                             kernel_size=(3,3),\n",
    "                             dropout=0.3,\n",
    "                             l1_reg=1.0e-5,\n",
    "                             l2_reg=1.0e-5\n",
    "                            )\n",
    "seq_small_noout_80 = sequential_small.fit(x=mat_noout_train_80,\n",
    "                                          y=lab_noout_train_80,\n",
    "                                          batch_size=32,\n",
    "                                          epochs=10,\n",
    "                                          verbose=0,\n",
    "                                          callbacks=callbacks,\n",
    "                                          validation_data=(mat_noout_val_80, lab_noout_val_80)\n",
    "                                         )"
   ]
  },
  {
   "cell_type": "markdown",
   "metadata": {},
   "source": [
    "We the take a look at the accuracy of the output:"
   ]
  },
  {
   "cell_type": "code",
   "execution_count": 42,
   "metadata": {},
   "outputs": [
    {
     "name": "stdout",
     "output_type": "stream",
     "text": [
      "Accuracy for h_11: 0.00%\n"
     ]
    }
   ],
   "source": [
    "import joblib\n",
    "\n",
    "# predictions\n",
    "h11_pred = np.rint(sequential_small.predict(mat_noout_test_80)).astype(int).reshape(-1,)\n",
    "\n",
    "# true values\n",
    "h11_true = lab_noout_test_80.astype(int).reshape(-1,)\n",
    "\n",
    "# accuracy\n",
    "h11_acc = np.mean((h11_pred == h11_true).astype(int))\n",
    "\n",
    "# save predictions\n",
    "predictions = {'h11_pred': h11_pred,\n",
    "               'h11_true': h11_true\n",
    "              }\n",
    "predictions = pd.DataFrame(predictions)\n",
    "predictions.to_csv('./dat/seq_small_noout_80_h11.csv')\n",
    "\n",
    "# save history\n",
    "joblib.dump(seq_small_noout_80.history, './dat/seq_small_noout_80_h11.pkl')\n",
    "\n",
    "# print accuracy\n",
    "print('Accuracy for h_11: {:.2f}%'.format(h11_acc * 100))"
   ]
  },
  {
   "cell_type": "markdown",
   "metadata": {},
   "source": [
    "### 30% Training Data w/ Outliers (small kernel)"
   ]
  },
  {
   "cell_type": "code",
   "execution_count": 43,
   "metadata": {
    "scrolled": true
   },
   "outputs": [
    {
     "name": "stdout",
     "output_type": "stream",
     "text": [
      "Model: \"seq_small\"\n",
      "_________________________________________________________________\n",
      "Layer (type)                 Output Shape              Param #   \n",
      "=================================================================\n",
      "seq_small_input (InputLayer) [(None, 12, 15, 1)]       0         \n",
      "_________________________________________________________________\n",
      "seq_small_conv_1 (Conv2D)    (None, 12, 15, 180)       1800      \n",
      "_________________________________________________________________\n",
      "seq_small_bnorm_1 (BatchNorm (None, 12, 15, 180)       720       \n",
      "_________________________________________________________________\n",
      "seq_small_conv_2 (Conv2D)    (None, 12, 15, 100)       162100    \n",
      "_________________________________________________________________\n",
      "seq_small_bnorm_2 (BatchNorm (None, 12, 15, 100)       400       \n",
      "_________________________________________________________________\n",
      "seq_small_conv_3 (Conv2D)    (None, 12, 15, 40)        36040     \n",
      "_________________________________________________________________\n",
      "seq_small_bnorm_3 (BatchNorm (None, 12, 15, 40)        160       \n",
      "_________________________________________________________________\n",
      "seq_small_conv_4 (Conv2D)    (None, 12, 15, 20)        7220      \n",
      "_________________________________________________________________\n",
      "seq_small_bnorm_4 (BatchNorm (None, 12, 15, 20)        80        \n",
      "_________________________________________________________________\n",
      "seq_small_drop (Dropout)     (None, 12, 15, 20)        0         \n",
      "_________________________________________________________________\n",
      "seq_small_flat (Flatten)     (None, 3600)              0         \n",
      "_________________________________________________________________\n",
      "h11_output (Dense)           (None, 1)                 3601      \n",
      "=================================================================\n",
      "Total params: 212,121\n",
      "Trainable params: 211,441\n",
      "Non-trainable params: 680\n",
      "_________________________________________________________________\n",
      "Training 30% data w/ outliers (small kernel)\n"
     ]
    }
   ],
   "source": [
    "callbacks = [keras.callbacks.ModelCheckpoint('./mod/sequential_small_out_30_h11.h5',\n",
    "                                             monitor='val_loss',\n",
    "                                             verbose=0,\n",
    "                                             save_best_only=True\n",
    "                                            ),\n",
    "             keras.callbacks.ReduceLROnPlateau(monitor='val_loss',\n",
    "                                               factor=0.3,\n",
    "                                               patience=80,\n",
    "                                               verbose=0,\n",
    "                                               min_lr=1.0e-6\n",
    "                                              ),\n",
    "             keras.callbacks.EarlyStopping(monitor='val_loss',\n",
    "                                           patience=200,\n",
    "                                           restore_best_weights=True,\n",
    "                                           verbose=0\n",
    "                                          )\n",
    "            ]\n",
    "\n",
    "sequential_small.summary()\n",
    "\n",
    "print('Training 30% data w/ outliers (small kernel)')\n",
    "\n",
    "# define the model\n",
    "sequential_small = seq_model(input_shape=input_shape,\n",
    "                             model_name='seq_small',\n",
    "                             learning_rate=0.001,\n",
    "                             filters=[180, 100, 40, 20],\n",
    "                             kernel_size=(3,3),\n",
    "                             dropout=0.3,\n",
    "                             l1_reg=1.0e-5,\n",
    "                             l2_reg=1.0e-5\n",
    "                            )\n",
    "seq_small_out_30 = sequential_small.fit(x=mat_out_train_30,\n",
    "                                        y=lab_out_train_30,\n",
    "                                        batch_size=32,\n",
    "                                        epochs=10,\n",
    "                                        verbose=0,\n",
    "                                        callbacks=callbacks,\n",
    "                                        validation_data=(mat_out_val_30, lab_out_val_30)\n",
    "                                       )"
   ]
  },
  {
   "cell_type": "markdown",
   "metadata": {},
   "source": [
    "We the take a look at the accuracy of the output:"
   ]
  },
  {
   "cell_type": "code",
   "execution_count": 44,
   "metadata": {},
   "outputs": [
    {
     "name": "stdout",
     "output_type": "stream",
     "text": [
      "Accuracy for h_11: 9.48%\n"
     ]
    }
   ],
   "source": [
    "import joblib\n",
    "\n",
    "# predictions\n",
    "h11_pred = np.rint(sequential_small.predict(mat_out_test_30)).astype(int).reshape(-1,)\n",
    "\n",
    "# true values\n",
    "h11_true = lab_out_test_30.astype(int).reshape(-1,)\n",
    "\n",
    "# accuracy\n",
    "h11_acc = np.mean((h11_pred == h11_true).astype(int))\n",
    "\n",
    "# save predictions\n",
    "predictions = {'h11_pred': h11_pred,\n",
    "               'h11_true': h11_true,\n",
    "              }\n",
    "predictions = pd.DataFrame(predictions)\n",
    "predictions.to_csv('./dat/seq_small_out_30_h11.csv')\n",
    "\n",
    "# save history\n",
    "joblib.dump(seq_small_out_30.history, './dat/seq_small_out_30_h11.pkl')\n",
    "\n",
    "# print accuracy\n",
    "print('Accuracy for h_11: {:.2f}%'.format(h11_acc * 100))"
   ]
  },
  {
   "cell_type": "markdown",
   "metadata": {},
   "source": [
    "### 30% Training Data w/o Outliers (small kernel)"
   ]
  },
  {
   "cell_type": "code",
   "execution_count": 45,
   "metadata": {
    "scrolled": true
   },
   "outputs": [
    {
     "name": "stdout",
     "output_type": "stream",
     "text": [
      "Model: \"seq_small\"\n",
      "_________________________________________________________________\n",
      "Layer (type)                 Output Shape              Param #   \n",
      "=================================================================\n",
      "seq_small_input (InputLayer) [(None, 12, 15, 1)]       0         \n",
      "_________________________________________________________________\n",
      "seq_small_conv_1 (Conv2D)    (None, 12, 15, 180)       1800      \n",
      "_________________________________________________________________\n",
      "seq_small_bnorm_1 (BatchNorm (None, 12, 15, 180)       720       \n",
      "_________________________________________________________________\n",
      "seq_small_conv_2 (Conv2D)    (None, 12, 15, 100)       162100    \n",
      "_________________________________________________________________\n",
      "seq_small_bnorm_2 (BatchNorm (None, 12, 15, 100)       400       \n",
      "_________________________________________________________________\n",
      "seq_small_conv_3 (Conv2D)    (None, 12, 15, 40)        36040     \n",
      "_________________________________________________________________\n",
      "seq_small_bnorm_3 (BatchNorm (None, 12, 15, 40)        160       \n",
      "_________________________________________________________________\n",
      "seq_small_conv_4 (Conv2D)    (None, 12, 15, 20)        7220      \n",
      "_________________________________________________________________\n",
      "seq_small_bnorm_4 (BatchNorm (None, 12, 15, 20)        80        \n",
      "_________________________________________________________________\n",
      "seq_small_drop (Dropout)     (None, 12, 15, 20)        0         \n",
      "_________________________________________________________________\n",
      "seq_small_flat (Flatten)     (None, 3600)              0         \n",
      "_________________________________________________________________\n",
      "h11_output (Dense)           (None, 1)                 3601      \n",
      "=================================================================\n",
      "Total params: 212,121\n",
      "Trainable params: 211,441\n",
      "Non-trainable params: 680\n",
      "_________________________________________________________________\n",
      "Training 30% data w/o outliers (small kernel)\n"
     ]
    }
   ],
   "source": [
    "callbacks = [keras.callbacks.ModelCheckpoint('./mod/sequential_small_noout_30_h11.h5',\n",
    "                                             monitor='val_loss',\n",
    "                                             verbose=0,\n",
    "                                             save_best_only=True\n",
    "                                            ),\n",
    "             keras.callbacks.ReduceLROnPlateau(monitor='val_loss',\n",
    "                                               factor=0.3,\n",
    "                                               patience=80,\n",
    "                                               verbose=0,\n",
    "                                               min_lr=1.0e-6\n",
    "                                              ),\n",
    "             keras.callbacks.EarlyStopping(monitor='val_loss',\n",
    "                                           patience=200,\n",
    "                                           restore_best_weights=True,\n",
    "                                           verbose=0\n",
    "                                          )\n",
    "            ]\n",
    "\n",
    "sequential_small.summary()\n",
    "\n",
    "print('Training 30% data w/o outliers (small kernel)')\n",
    "\n",
    "# define the model\n",
    "sequential_small = seq_model(input_shape=input_shape,\n",
    "                             model_name='seq_small',\n",
    "                             learning_rate=0.001,\n",
    "                             filters=[180, 100, 40, 20],\n",
    "                             kernel_size=(3,3),\n",
    "                             dropout=0.3,\n",
    "                             l1_reg=1.0e-5,\n",
    "                             l2_reg=1.0e-5\n",
    "                            )\n",
    "seq_small_noout_30 = sequential_small.fit(x=mat_noout_train_30,\n",
    "                                          y=lab_noout_train_30,\n",
    "                                          batch_size=32,\n",
    "                                          epochs=10,\n",
    "                                          verbose=0,\n",
    "                                          callbacks=callbacks,\n",
    "                                          validation_data=(mat_noout_val_30, lab_noout_val_30)\n",
    "                                         )"
   ]
  },
  {
   "cell_type": "markdown",
   "metadata": {},
   "source": [
    "We the take a look at the accuracy of the output:"
   ]
  },
  {
   "cell_type": "code",
   "execution_count": 46,
   "metadata": {},
   "outputs": [
    {
     "name": "stdout",
     "output_type": "stream",
     "text": [
      "Accuracy for h_11: 1.36%\n"
     ]
    }
   ],
   "source": [
    "import joblib\n",
    "\n",
    "# predictions\n",
    "h11_pred = np.rint(sequential_small.predict(mat_noout_test_30)).astype(int).reshape(-1,)\n",
    "\n",
    "# true values\n",
    "h11_true = lab_noout_test_30.astype(int).reshape(-1,)\n",
    "\n",
    "# accuracy\n",
    "h11_acc = np.mean((h11_pred == h11_true).astype(int))\n",
    "\n",
    "# save predictions\n",
    "predictions = {'h11_pred': h11_pred,\n",
    "               'h11_true': h11_true\n",
    "              }\n",
    "predictions = pd.DataFrame(predictions)\n",
    "predictions.to_csv('./dat/seq_small_noout_30_h11.csv')\n",
    "\n",
    "# save history\n",
    "joblib.dump(seq_small_noout_30.history, './dat/seq_small_noout_30_h11.pkl')\n",
    "\n",
    "# print accuracy\n",
    "print('Accuracy for h_11: {:.2f}%'.format(h11_acc * 100))"
   ]
  },
  {
   "cell_type": "markdown",
   "metadata": {},
   "source": [
    "### 80% Training Data w/ Outliers (large kernel)"
   ]
  },
  {
   "cell_type": "code",
   "execution_count": 47,
   "metadata": {
    "scrolled": true
   },
   "outputs": [
    {
     "name": "stdout",
     "output_type": "stream",
     "text": [
      "Model: \"seq_large\"\n",
      "_________________________________________________________________\n",
      "Layer (type)                 Output Shape              Param #   \n",
      "=================================================================\n",
      "seq_large_input (InputLayer) [(None, 12, 15, 1)]       0         \n",
      "_________________________________________________________________\n",
      "seq_large_conv_1 (Conv2D)    (None, 12, 15, 180)       4680      \n",
      "_________________________________________________________________\n",
      "seq_large_bnorm_1 (BatchNorm (None, 12, 15, 180)       720       \n",
      "_________________________________________________________________\n",
      "seq_large_conv_2 (Conv2D)    (None, 12, 15, 100)       450100    \n",
      "_________________________________________________________________\n",
      "seq_large_bnorm_2 (BatchNorm (None, 12, 15, 100)       400       \n",
      "_________________________________________________________________\n",
      "seq_large_conv_3 (Conv2D)    (None, 12, 15, 40)        100040    \n",
      "_________________________________________________________________\n",
      "seq_large_bnorm_3 (BatchNorm (None, 12, 15, 40)        160       \n",
      "_________________________________________________________________\n",
      "seq_large_conv_4 (Conv2D)    (None, 12, 15, 20)        20020     \n",
      "_________________________________________________________________\n",
      "seq_large_bnorm_4 (BatchNorm (None, 12, 15, 20)        80        \n",
      "_________________________________________________________________\n",
      "seq_large_drop (Dropout)     (None, 12, 15, 20)        0         \n",
      "_________________________________________________________________\n",
      "seq_large_flat (Flatten)     (None, 3600)              0         \n",
      "_________________________________________________________________\n",
      "h11_output (Dense)           (None, 1)                 3601      \n",
      "=================================================================\n",
      "Total params: 579,801\n",
      "Trainable params: 579,121\n",
      "Non-trainable params: 680\n",
      "_________________________________________________________________\n",
      "Training 80% data w/ outliers (large kernel)\n"
     ]
    }
   ],
   "source": [
    "callbacks = [keras.callbacks.ModelCheckpoint('./mod/sequential_large_out_80_h11.h5',\n",
    "                                             monitor='val_loss',\n",
    "                                             verbose=0,\n",
    "                                             save_best_only=True\n",
    "                                            ),\n",
    "             keras.callbacks.ReduceLROnPlateau(monitor='val_loss',\n",
    "                                               factor=0.3,\n",
    "                                               patience=80,\n",
    "                                               verbose=0,\n",
    "                                               min_lr=1.0e-6\n",
    "                                              ),\n",
    "             keras.callbacks.EarlyStopping(monitor='val_loss',\n",
    "                                           patience=200,\n",
    "                                           restore_best_weights=True,\n",
    "                                           verbose=0\n",
    "                                          )\n",
    "            ]\n",
    "\n",
    "sequential_large.summary()\n",
    "\n",
    "print('Training 80% data w/ outliers (large kernel)')\n",
    "\n",
    "# define the model\n",
    "sequential_large = seq_model(input_shape=input_shape,\n",
    "                             model_name='seq_large',\n",
    "                             learning_rate=0.001,\n",
    "                             filters=[180, 100, 40, 20],\n",
    "                             kernel_size=(5,5),\n",
    "                             dropout=0.3,\n",
    "                             l1_reg=1.0e-5,\n",
    "                             l2_reg=1.0e-5\n",
    "                            )\n",
    "seq_large_out_80 = sequential_large.fit(x=mat_out_train_80,\n",
    "                                        y=lab_out_train_80,\n",
    "                                        batch_size=32,\n",
    "                                        epochs=10,\n",
    "                                        verbose=0,\n",
    "                                        callbacks=callbacks,\n",
    "                                        validation_data=(mat_out_val_80, lab_out_val_80)\n",
    "                                       )"
   ]
  },
  {
   "cell_type": "markdown",
   "metadata": {},
   "source": [
    "We the take a look at the accuracy of the output:"
   ]
  },
  {
   "cell_type": "code",
   "execution_count": 48,
   "metadata": {},
   "outputs": [
    {
     "name": "stdout",
     "output_type": "stream",
     "text": [
      "Accuracy for h_11: 4.56%\n"
     ]
    }
   ],
   "source": [
    "import joblib\n",
    "\n",
    "# predictions\n",
    "h11_pred = np.rint(sequential_large.predict(mat_out_test_80)).astype(int).reshape(-1,)\n",
    "\n",
    "# true values\n",
    "h11_true = lab_out_test_80.astype(int).reshape(-1,)\n",
    "\n",
    "# accuracy\n",
    "h11_acc = np.mean((h11_pred == h11_true).astype(int))\n",
    "\n",
    "# save predictions\n",
    "predictions = {'h11_pred': h11_pred,\n",
    "               'h11_true': h11_true\n",
    "              }\n",
    "predictions = pd.DataFrame(predictions)\n",
    "predictions.to_csv('./dat/seq_large_out_80_h11.csv')\n",
    "\n",
    "# save history\n",
    "joblib.dump(seq_large_out_80.history, './dat/seq_large_out_80_h11.pkl')\n",
    "\n",
    "# print accuracy\n",
    "print('Accuracy for h_11: {:.2f}%'.format(h11_acc * 100))"
   ]
  },
  {
   "cell_type": "markdown",
   "metadata": {},
   "source": [
    "### 80% Training Data w/o Outliers (large kernel)"
   ]
  },
  {
   "cell_type": "code",
   "execution_count": 49,
   "metadata": {
    "scrolled": true
   },
   "outputs": [
    {
     "name": "stdout",
     "output_type": "stream",
     "text": [
      "Model: \"seq_large\"\n",
      "_________________________________________________________________\n",
      "Layer (type)                 Output Shape              Param #   \n",
      "=================================================================\n",
      "seq_large_input (InputLayer) [(None, 12, 15, 1)]       0         \n",
      "_________________________________________________________________\n",
      "seq_large_conv_1 (Conv2D)    (None, 12, 15, 180)       4680      \n",
      "_________________________________________________________________\n",
      "seq_large_bnorm_1 (BatchNorm (None, 12, 15, 180)       720       \n",
      "_________________________________________________________________\n",
      "seq_large_conv_2 (Conv2D)    (None, 12, 15, 100)       450100    \n",
      "_________________________________________________________________\n",
      "seq_large_bnorm_2 (BatchNorm (None, 12, 15, 100)       400       \n",
      "_________________________________________________________________\n",
      "seq_large_conv_3 (Conv2D)    (None, 12, 15, 40)        100040    \n",
      "_________________________________________________________________\n",
      "seq_large_bnorm_3 (BatchNorm (None, 12, 15, 40)        160       \n",
      "_________________________________________________________________\n",
      "seq_large_conv_4 (Conv2D)    (None, 12, 15, 20)        20020     \n",
      "_________________________________________________________________\n",
      "seq_large_bnorm_4 (BatchNorm (None, 12, 15, 20)        80        \n",
      "_________________________________________________________________\n",
      "seq_large_drop (Dropout)     (None, 12, 15, 20)        0         \n",
      "_________________________________________________________________\n",
      "seq_large_flat (Flatten)     (None, 3600)              0         \n",
      "_________________________________________________________________\n",
      "h11_output (Dense)           (None, 1)                 3601      \n",
      "=================================================================\n",
      "Total params: 579,801\n",
      "Trainable params: 579,121\n",
      "Non-trainable params: 680\n",
      "_________________________________________________________________\n",
      "Training 80% data w/o outliers (large kernel)\n"
     ]
    }
   ],
   "source": [
    "callbacks = [keras.callbacks.ModelCheckpoint('./mod/sequential_large_noout_80_h11.h5',\n",
    "                                             monitor='val_loss',\n",
    "                                             verbose=0,\n",
    "                                             save_best_only=True\n",
    "                                            ),\n",
    "             keras.callbacks.ReduceLROnPlateau(monitor='val_loss',\n",
    "                                               factor=0.3,\n",
    "                                               patience=80,\n",
    "                                               verbose=0,\n",
    "                                               min_lr=1.0e-6\n",
    "                                              ),\n",
    "             keras.callbacks.EarlyStopping(monitor='val_loss',\n",
    "                                           patience=200,\n",
    "                                           restore_best_weights=True,\n",
    "                                           verbose=0\n",
    "                                          )\n",
    "            ]\n",
    "\n",
    "sequential_large.summary()\n",
    "\n",
    "print('Training 80% data w/o outliers (large kernel)')\n",
    "\n",
    "# define the model\n",
    "sequential_large = seq_model(input_shape=input_shape,\n",
    "                             model_name='seq_large',\n",
    "                             learning_rate=0.001,\n",
    "                             filters=[180, 100, 40, 20],\n",
    "                             kernel_size=(5,5),\n",
    "                             dropout=0.3,\n",
    "                             l1_reg=1.0e-5,\n",
    "                             l2_reg=1.0e-5\n",
    "                            )\n",
    "seq_large_noout_80 = sequential_large.fit(x=mat_noout_train_80,\n",
    "                                          y=lab_noout_train_80,\n",
    "                                          batch_size=32,\n",
    "                                          epochs=10,\n",
    "                                          verbose=0,\n",
    "                                          callbacks=callbacks,\n",
    "                                          validation_data=(mat_noout_val_80, lab_noout_val_80)\n",
    "                                         )"
   ]
  },
  {
   "cell_type": "markdown",
   "metadata": {},
   "source": [
    "We the take a look at the accuracy of the output:"
   ]
  },
  {
   "cell_type": "code",
   "execution_count": 50,
   "metadata": {},
   "outputs": [
    {
     "name": "stdout",
     "output_type": "stream",
     "text": [
      "Accuracy for h_11: 0.00%\n"
     ]
    }
   ],
   "source": [
    "import joblib\n",
    "\n",
    "# predictions\n",
    "h11_pred = np.rint(sequential_large.predict(mat_noout_test_80)).astype(int).reshape(-1,)\n",
    "\n",
    "# true values\n",
    "h11_true = lab_noout_test_80.astype(int).reshape(-1,)\n",
    "\n",
    "# accuracy\n",
    "h11_acc = np.mean((h11_pred == h11_true).astype(int))\n",
    "\n",
    "# save predictions\n",
    "predictions = {'h11_pred': h11_pred,\n",
    "               'h11_true': h11_true\n",
    "              }\n",
    "predictions = pd.DataFrame(predictions)\n",
    "predictions.to_csv('./dat/seq_large_noout_80_h11.csv')\n",
    "\n",
    "# save history\n",
    "joblib.dump(seq_large_noout_80.history, './dat/seq_large_noout_80_h11.pkl')\n",
    "\n",
    "# print accuracy\n",
    "print('Accuracy for h_11: {:.2f}%'.format(h11_acc * 100))"
   ]
  },
  {
   "cell_type": "markdown",
   "metadata": {},
   "source": [
    "### 30% Training Data w/ Outliers (large kernel)"
   ]
  },
  {
   "cell_type": "code",
   "execution_count": 51,
   "metadata": {
    "scrolled": true
   },
   "outputs": [
    {
     "name": "stdout",
     "output_type": "stream",
     "text": [
      "Model: \"seq_large\"\n",
      "_________________________________________________________________\n",
      "Layer (type)                 Output Shape              Param #   \n",
      "=================================================================\n",
      "seq_large_input (InputLayer) [(None, 12, 15, 1)]       0         \n",
      "_________________________________________________________________\n",
      "seq_large_conv_1 (Conv2D)    (None, 12, 15, 180)       4680      \n",
      "_________________________________________________________________\n",
      "seq_large_bnorm_1 (BatchNorm (None, 12, 15, 180)       720       \n",
      "_________________________________________________________________\n",
      "seq_large_conv_2 (Conv2D)    (None, 12, 15, 100)       450100    \n",
      "_________________________________________________________________\n",
      "seq_large_bnorm_2 (BatchNorm (None, 12, 15, 100)       400       \n",
      "_________________________________________________________________\n",
      "seq_large_conv_3 (Conv2D)    (None, 12, 15, 40)        100040    \n",
      "_________________________________________________________________\n",
      "seq_large_bnorm_3 (BatchNorm (None, 12, 15, 40)        160       \n",
      "_________________________________________________________________\n",
      "seq_large_conv_4 (Conv2D)    (None, 12, 15, 20)        20020     \n",
      "_________________________________________________________________\n",
      "seq_large_bnorm_4 (BatchNorm (None, 12, 15, 20)        80        \n",
      "_________________________________________________________________\n",
      "seq_large_drop (Dropout)     (None, 12, 15, 20)        0         \n",
      "_________________________________________________________________\n",
      "seq_large_flat (Flatten)     (None, 3600)              0         \n",
      "_________________________________________________________________\n",
      "h11_output (Dense)           (None, 1)                 3601      \n",
      "=================================================================\n",
      "Total params: 579,801\n",
      "Trainable params: 579,121\n",
      "Non-trainable params: 680\n",
      "_________________________________________________________________\n",
      "Training 30% data w/ outliers (large kernel)\n"
     ]
    }
   ],
   "source": [
    "callbacks = [keras.callbacks.ModelCheckpoint('./mod/sequential_large_out_30_h11.h5',\n",
    "                                             monitor='val_loss',\n",
    "                                             verbose=0,\n",
    "                                             save_best_only=True\n",
    "                                            ),\n",
    "             keras.callbacks.ReduceLROnPlateau(monitor='val_loss',\n",
    "                                               factor=0.3,\n",
    "                                               patience=80,\n",
    "                                               verbose=0,\n",
    "                                               min_lr=1.0e-6\n",
    "                                              ),\n",
    "             keras.callbacks.EarlyStopping(monitor='val_loss',\n",
    "                                           patience=200,\n",
    "                                           restore_best_weights=True,\n",
    "                                           verbose=0\n",
    "                                          )\n",
    "            ]\n",
    "\n",
    "sequential_large.summary()\n",
    "\n",
    "print('Training 30% data w/ outliers (large kernel)')\n",
    "\n",
    "# define the model\n",
    "sequential_large = seq_model(input_shape=input_shape,\n",
    "                             model_name='seq_large',\n",
    "                             learning_rate=0.001,\n",
    "                             filters=[180, 100, 40, 20],\n",
    "                             kernel_size=(5,5),\n",
    "                             dropout=0.3,\n",
    "                             l1_reg=1.0e-5,\n",
    "                             l2_reg=1.0e-5\n",
    "                            )\n",
    "seq_large_out_30 = sequential_large.fit(x=mat_out_train_30,\n",
    "                                        y=lab_out_train_30,\n",
    "                                        batch_size=32,\n",
    "                                        epochs=10,\n",
    "                                        verbose=0,\n",
    "                                        callbacks=callbacks,\n",
    "                                        validation_data=(mat_out_val_30, lab_out_val_30)\n",
    "                                       )"
   ]
  },
  {
   "cell_type": "markdown",
   "metadata": {},
   "source": [
    "We the take a look at the accuracy of the output:"
   ]
  },
  {
   "cell_type": "code",
   "execution_count": 52,
   "metadata": {},
   "outputs": [
    {
     "name": "stdout",
     "output_type": "stream",
     "text": [
      "Accuracy for h_11: 21.40%\n"
     ]
    }
   ],
   "source": [
    "import joblib\n",
    "\n",
    "# predictions\n",
    "h11_pred = np.rint(sequential_large.predict(mat_out_test_30)).astype(int).reshape(-1,)\n",
    "\n",
    "# true values\n",
    "h11_true = lab_out_test_30.astype(int).reshape(-1,)\n",
    "\n",
    "# accuracy\n",
    "h11_acc = np.mean((h11_pred == h11_true).astype(int))\n",
    "\n",
    "# save predictions\n",
    "predictions = {'h11_pred': h11_pred,\n",
    "               'h11_true': h11_true\n",
    "              }\n",
    "predictions = pd.DataFrame(predictions)\n",
    "predictions.to_csv('./dat/seq_large_out_30_h11.csv')\n",
    "\n",
    "# save history\n",
    "joblib.dump(seq_large_out_30.history, './dat/seq_large_out_30_h11.pkl')\n",
    "\n",
    "# print accuracy\n",
    "print('Accuracy for h_11: {:.2f}%'.format(h11_acc * 100))"
   ]
  },
  {
   "cell_type": "markdown",
   "metadata": {},
   "source": [
    "### 30% Training Data w/o Outliers (large kernel)"
   ]
  },
  {
   "cell_type": "code",
   "execution_count": 53,
   "metadata": {
    "scrolled": true
   },
   "outputs": [
    {
     "name": "stdout",
     "output_type": "stream",
     "text": [
      "Model: \"seq_large\"\n",
      "_________________________________________________________________\n",
      "Layer (type)                 Output Shape              Param #   \n",
      "=================================================================\n",
      "seq_large_input (InputLayer) [(None, 12, 15, 1)]       0         \n",
      "_________________________________________________________________\n",
      "seq_large_conv_1 (Conv2D)    (None, 12, 15, 180)       4680      \n",
      "_________________________________________________________________\n",
      "seq_large_bnorm_1 (BatchNorm (None, 12, 15, 180)       720       \n",
      "_________________________________________________________________\n",
      "seq_large_conv_2 (Conv2D)    (None, 12, 15, 100)       450100    \n",
      "_________________________________________________________________\n",
      "seq_large_bnorm_2 (BatchNorm (None, 12, 15, 100)       400       \n",
      "_________________________________________________________________\n",
      "seq_large_conv_3 (Conv2D)    (None, 12, 15, 40)        100040    \n",
      "_________________________________________________________________\n",
      "seq_large_bnorm_3 (BatchNorm (None, 12, 15, 40)        160       \n",
      "_________________________________________________________________\n",
      "seq_large_conv_4 (Conv2D)    (None, 12, 15, 20)        20020     \n",
      "_________________________________________________________________\n",
      "seq_large_bnorm_4 (BatchNorm (None, 12, 15, 20)        80        \n",
      "_________________________________________________________________\n",
      "seq_large_drop (Dropout)     (None, 12, 15, 20)        0         \n",
      "_________________________________________________________________\n",
      "seq_large_flat (Flatten)     (None, 3600)              0         \n",
      "_________________________________________________________________\n",
      "h11_output (Dense)           (None, 1)                 3601      \n",
      "=================================================================\n",
      "Total params: 579,801\n",
      "Trainable params: 579,121\n",
      "Non-trainable params: 680\n",
      "_________________________________________________________________\n",
      "Training 30% data w/o outliers (large kernel)\n"
     ]
    }
   ],
   "source": [
    "callbacks = [keras.callbacks.ModelCheckpoint('./mod/sequential_large_noout_30_h11.h5',\n",
    "                                             monitor='val_loss',\n",
    "                                             verbose=0,\n",
    "                                             save_best_only=True\n",
    "                                            ),\n",
    "             keras.callbacks.ReduceLROnPlateau(monitor='val_loss',\n",
    "                                               factor=0.3,\n",
    "                                               patience=80,\n",
    "                                               verbose=0,\n",
    "                                               min_lr=1.0e-6\n",
    "                                              ),\n",
    "             keras.callbacks.EarlyStopping(monitor='val_loss',\n",
    "                                           patience=200,\n",
    "                                           restore_best_weights=True,\n",
    "                                           verbose=0\n",
    "                                          )\n",
    "            ]\n",
    "\n",
    "sequential_large.summary()\n",
    "\n",
    "print('Training 30% data w/o outliers (large kernel)')\n",
    "\n",
    "# define the model\n",
    "sequential_large = seq_model(input_shape=input_shape,\n",
    "                             model_name='seq_large',\n",
    "                             learning_rate=0.001,\n",
    "                             filters=[180, 100, 40, 20],\n",
    "                             kernel_size=(5,5),\n",
    "                             dropout=0.3,\n",
    "                             l1_reg=1.0e-5,\n",
    "                             l2_reg=1.0e-5\n",
    "                            )\n",
    "seq_large_noout_30 = sequential_large.fit(x=mat_noout_train_30,\n",
    "                                          y=lab_noout_train_30,\n",
    "                                          batch_size=32,\n",
    "                                          epochs=10,\n",
    "                                          verbose=0,\n",
    "                                          callbacks=callbacks,\n",
    "                                          validation_data=(mat_noout_val_30, lab_noout_val_30)\n",
    "                                         )"
   ]
  },
  {
   "cell_type": "markdown",
   "metadata": {},
   "source": [
    "We the take a look at the accuracy of the output:"
   ]
  },
  {
   "cell_type": "code",
   "execution_count": 54,
   "metadata": {},
   "outputs": [
    {
     "name": "stdout",
     "output_type": "stream",
     "text": [
      "Accuracy for h_11: 0.00%\n"
     ]
    }
   ],
   "source": [
    "import joblib\n",
    "\n",
    "# predictions\n",
    "h11_pred = np.rint(sequential_large.predict(mat_noout_test_30)).astype(int).reshape(-1,)\n",
    "\n",
    "# true values\n",
    "h11_true = lab_noout_test_30.astype(int).reshape(-1,)\n",
    "\n",
    "# accuracy\n",
    "h11_acc = np.mean((h11_pred == h11_true).astype(int))\n",
    "\n",
    "# save predictions\n",
    "predictions = {'h11_pred': h11_pred,\n",
    "               'h11_true': h11_true\n",
    "              }\n",
    "predictions = pd.DataFrame(predictions)\n",
    "predictions.to_csv('./dat/seq_large_noout_30_h11.csv')\n",
    "\n",
    "# save history\n",
    "joblib.dump(seq_large_noout_30.history, './dat/seq_large_noout_30_h11.pkl')\n",
    "\n",
    "# print accuracy\n",
    "print('Accuracy for h_11: {:.2f}%'.format(h11_acc * 100))"
   ]
  }
 ],
 "metadata": {
  "kernelspec": {
   "display_name": "Python 3",
   "language": "python",
   "name": "python3"
  },
  "language_info": {
   "codemirror_mode": {
    "name": "ipython",
    "version": 3
   },
   "file_extension": ".py",
   "mimetype": "text/x-python",
   "name": "python",
   "nbconvert_exporter": "python",
   "pygments_lexer": "ipython3",
   "version": "3.8.4"
  }
 },
 "nbformat": 4,
 "nbformat_minor": 4
}
