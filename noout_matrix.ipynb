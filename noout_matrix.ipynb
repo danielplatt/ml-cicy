{
 "cells": [
  {
   "cell_type": "markdown",
   "metadata": {},
   "source": [
    "# Import the Database"
   ]
  },
  {
   "cell_type": "code",
   "execution_count": 1,
   "metadata": {},
   "outputs": [],
   "source": [
    "# set memory growth (necessary for training)\n",
    "import tensorflow as tf\n",
    "\n",
    "gpus = tf.config.experimental.list_physical_devices('GPU')\n",
    "\n",
    "if gpus:\n",
    "    try:\n",
    "        for gpu in gpus:\n",
    "            tf.config.experimental.set_memory_growth(gpu, True)\n",
    "            logical_gpus = tf.config.experimental.list_logical_devices('GPU')\n",
    "            #print(len(gpus), \"Physical GPUs,\", len(logical_gpus), \"Logical GPUs\")\n",
    "    except RuntimeError as e:\n",
    "        print(e)"
   ]
  },
  {
   "cell_type": "code",
   "execution_count": 4,
   "metadata": {},
   "outputs": [],
   "source": [
    "import pandas as pd\n",
    "\n",
    "df = pd.read_csv('./cicy3o_tidy.csv')\n",
    "\n",
    "# remove the outliers completely\n",
    "df = df.loc[(df['h11'] >= 1) &\n",
    "            (df['h11'] <= 16) &\n",
    "            (df['h21'] >= 15) &\n",
    "            (df['h21'] <= 86)\n",
    "           ].reset_index(drop=True)\n",
    "\n",
    "# select the matrix to compute the PCA\n",
    "mat = df.filter(regex='^matrix_')\n",
    "\n",
    "h11    = df['h11'].values.reshape(-1,)\n",
    "h21    = df['h21'].values.reshape(-1,)"
   ]
  },
  {
   "cell_type": "markdown",
   "metadata": {},
   "source": [
    "# Train Test Split"
   ]
  },
  {
   "cell_type": "code",
   "execution_count": 9,
   "metadata": {},
   "outputs": [],
   "source": [
    "RAND = 42"
   ]
  },
  {
   "cell_type": "code",
   "execution_count": 10,
   "metadata": {},
   "outputs": [],
   "source": [
    "from sklearn.model_selection import train_test_split\n",
    "\n",
    "mat_train_80, mat_test_80, \\\n",
    "h11_train_80, h11_test_80, \\\n",
    "h21_train_80, h21_test_80 = train_test_split(mat, h11, h21,\n",
    "                                             train_size=0.8, shuffle=True, random_state=RAND)\n",
    "\n",
    "mat_train_30, mat_test_30, \\\n",
    "h11_train_30, h11_test_30, \\\n",
    "h21_train_30, h21_test_30 = train_test_split(mat, h11, h21,\n",
    "                                             train_size=0.3, shuffle=True, random_state=RAND)"
   ]
  },
  {
   "cell_type": "markdown",
   "metadata": {},
   "source": [
    "# Linear Regression"
   ]
  },
  {
   "cell_type": "code",
   "execution_count": 12,
   "metadata": {},
   "outputs": [
    {
     "name": "stdout",
     "output_type": "stream",
     "text": [
      "\n",
      "LINEAR REGRESSION\n",
      "80% training data:\n",
      "    h11 accuracy: 0.511\n",
      "    h21 accuracy: 0.117\n",
      "\n",
      "30% training data:\n",
      "    h11 accuracy: 0.490\n",
      "    h21 accuracy: 0.103\n"
     ]
    }
   ],
   "source": [
    "from sklearn.linear_model import Lasso\n",
    "from sklearn.metrics import accuracy_score\n",
    "import numpy as np\n",
    "\n",
    "est_h11_80 = Lasso(alpha=2.0e-6, fit_intercept=False, max_iter=1e6, random_state=RAND)\n",
    "est_h21_80 = Lasso(alpha=1.0e-6, fit_intercept=True, normalize=False, max_iter=1e6, random_state=RAND)\n",
    "est_h11_30 = Lasso(alpha=2.0e-6, fit_intercept=False, max_iter=1e6, random_state=RAND)\n",
    "est_h21_30 = Lasso(alpha=1.0e-6, fit_intercept=True, normalize=False, max_iter=1e6, random_state=RAND)\n",
    "\n",
    "est_h11_80.fit(mat_train_80, h11_train_80)\n",
    "est_h21_80.fit(mat_train_80, h21_train_80)\n",
    "est_h11_30.fit(mat_train_30, h11_train_30)\n",
    "est_h21_30.fit(mat_train_30, h21_train_30)\n",
    "\n",
    "h11_pred_80 = np.floor(est_h11_80.predict(mat_test_80)).astype(int)\n",
    "h21_pred_80 = np.floor(est_h21_80.predict(mat_test_80)).astype(int)\n",
    "h11_pred_30 = np.floor(est_h11_30.predict(mat_test_30)).astype(int)\n",
    "h21_pred_30 = np.floor(est_h21_30.predict(mat_test_30)).astype(int)\n",
    "\n",
    "print('\\nLINEAR REGRESSION')\n",
    "print('80% training data:')\n",
    "print('    h11 accuracy: {:.3f}'.format(accuracy_score(h11_test_80, h11_pred_80)))\n",
    "print('    h21 accuracy: {:.3f}'.format(accuracy_score(h21_test_80, h21_pred_80)))\n",
    "print('')\n",
    "print('30% training data:')\n",
    "print('    h11 accuracy: {:.3f}'.format(accuracy_score(h11_test_30, h11_pred_30)))\n",
    "print('    h21 accuracy: {:.3f}'.format(accuracy_score(h21_test_30, h21_pred_30)))"
   ]
  },
  {
   "cell_type": "markdown",
   "metadata": {},
   "source": [
    "# Linear SVM"
   ]
  },
  {
   "cell_type": "code",
   "execution_count": 14,
   "metadata": {},
   "outputs": [
    {
     "name": "stdout",
     "output_type": "stream",
     "text": [
      "\n",
      "LINEAR SVM\n",
      "80% training data:\n",
      "    h11 accuracy: 0.612\n",
      "    h21 accuracy: 0.108\n",
      "\n",
      "30% training data:\n",
      "    h11 accuracy: 0.607\n",
      "    h21 accuracy: 0.103\n"
     ]
    }
   ],
   "source": [
    "from sklearn.svm import LinearSVR\n",
    "from sklearn.metrics import accuracy_score\n",
    "import numpy as np\n",
    "\n",
    "est_h11_80 = LinearSVR(C=0.13, epsilon=0.7, fit_intercept=True, intercept_scaling=0.13, loss='epsilon_insensitive', max_iter=1e6, random_state=RAND)\n",
    "est_h21_80 = LinearSVR(C=0.30, epsilon=0.0, fit_intercept=True, intercept_scaling=100, loss='epsilon_insensitive', max_iter=1e6, random_state=RAND)\n",
    "est_h11_30 = LinearSVR(C=0.13, epsilon=0.7, fit_intercept=True, intercept_scaling=0.13, loss='epsilon_insensitive', max_iter=1e6, random_state=RAND)\n",
    "est_h21_30 = LinearSVR(C=0.30, epsilon=0.0, fit_intercept=True, intercept_scaling=100, loss='epsilon_insensitive', max_iter=1e6, random_state=RAND)\n",
    "\n",
    "est_h11_80.fit(mat_train_80, h11_train_80)\n",
    "est_h21_80.fit(mat_train_80, h21_train_80)\n",
    "est_h11_30.fit(mat_train_30, h11_train_30)\n",
    "est_h21_30.fit(mat_train_30, h21_train_30)\n",
    "\n",
    "h11_pred_80 = np.floor(est_h11_80.predict(mat_test_80)).astype(int)\n",
    "h21_pred_80 = np.floor(est_h21_80.predict(mat_test_80)).astype(int)\n",
    "h11_pred_30 = np.floor(est_h11_30.predict(mat_test_30)).astype(int)\n",
    "h21_pred_30 = np.floor(est_h21_30.predict(mat_test_30)).astype(int)\n",
    "\n",
    "print('\\nLINEAR SVM')\n",
    "print('80% training data:')\n",
    "print('    h11 accuracy: {:.3f}'.format(accuracy_score(h11_test_80, h11_pred_80)))\n",
    "print('    h21 accuracy: {:.3f}'.format(accuracy_score(h21_test_80, h21_pred_80)))\n",
    "print('')\n",
    "print('30% training data:')\n",
    "print('    h11 accuracy: {:.3f}'.format(accuracy_score(h11_test_30, h11_pred_30)))\n",
    "print('    h21 accuracy: {:.3f}'.format(accuracy_score(h21_test_30, h21_pred_30)))"
   ]
  },
  {
   "cell_type": "markdown",
   "metadata": {},
   "source": [
    "# Gaussian SVM"
   ]
  },
  {
   "cell_type": "code",
   "execution_count": 15,
   "metadata": {},
   "outputs": [
    {
     "name": "stdout",
     "output_type": "stream",
     "text": [
      "\n",
      "GAUSSIAN SVM\n",
      "80% training data:\n",
      "    h11 accuracy: 0.700\n",
      "    h21 accuracy: 0.222\n",
      "\n",
      "30% training data:\n",
      "    h11 accuracy: 0.576\n",
      "    h21 accuracy: 0.161\n"
     ]
    }
   ],
   "source": [
    "from sklearn.svm import SVR\n",
    "from sklearn.metrics import accuracy_score\n",
    "import numpy as np\n",
    "\n",
    "est_h11_80 = SVR(C=14, epsilon=0.01, gamma=0.03)\n",
    "est_h21_80 = SVR(C=40, epsilon=0.01, gamma=0.06)\n",
    "est_h11_30 = SVR(C=14, epsilon=0.01, gamma=0.03)\n",
    "est_h21_30 = SVR(C=40, epsilon=0.01, gamma=0.06)\n",
    "\n",
    "est_h11_80.fit(mat_train_80, h11_train_80)\n",
    "est_h21_80.fit(mat_train_80, h21_train_80)\n",
    "est_h11_30.fit(mat_train_30, h11_train_30)\n",
    "est_h21_30.fit(mat_train_30, h21_train_30)\n",
    "\n",
    "h11_pred_80 = np.rint(est_h11_80.predict(mat_test_80)).astype(int)\n",
    "h21_pred_80 = np.rint(est_h21_80.predict(mat_test_80)).astype(int)\n",
    "h11_pred_30 = np.rint(est_h11_30.predict(mat_test_30)).astype(int)\n",
    "h21_pred_30 = np.rint(est_h21_30.predict(mat_test_30)).astype(int)\n",
    "\n",
    "print('\\nGAUSSIAN SVM')\n",
    "print('80% training data:')\n",
    "print('    h11 accuracy: {:.3f}'.format(accuracy_score(h11_test_80, h11_pred_80)))\n",
    "print('    h21 accuracy: {:.3f}'.format(accuracy_score(h21_test_80, h21_pred_80)))\n",
    "print('')\n",
    "print('30% training data:')\n",
    "print('    h11 accuracy: {:.3f}'.format(accuracy_score(h11_test_30, h11_pred_30)))\n",
    "print('    h21 accuracy: {:.3f}'.format(accuracy_score(h21_test_30, h21_pred_30)))"
   ]
  },
  {
   "cell_type": "markdown",
   "metadata": {},
   "source": [
    "# Random Forest"
   ]
  },
  {
   "cell_type": "code",
   "execution_count": 16,
   "metadata": {},
   "outputs": [
    {
     "name": "stdout",
     "output_type": "stream",
     "text": [
      "\n",
      "RANDOM FOREST\n",
      "80% training data:\n",
      "    h11 accuracy: 0.560\n",
      "    h21 accuracy: 0.104\n",
      "\n",
      "30% training data:\n",
      "    h11 accuracy: 0.540\n",
      "    h21 accuracy: 0.114\n"
     ]
    }
   ],
   "source": [
    "from sklearn.ensemble import RandomForestRegressor\n",
    "from sklearn.metrics import accuracy_score\n",
    "import numpy as np\n",
    "\n",
    "est_h11_80 = RandomForestRegressor(criterion='mse',\n",
    "                                   max_depth=100,\n",
    "                                   max_leaf_nodes=100,\n",
    "                                   min_samples_leaf=1,\n",
    "                                   min_samples_split=2,\n",
    "                                   min_weight_fraction_leaf=0.0,\n",
    "                                   n_estimators=10,\n",
    "                                   random_state=RAND,\n",
    "                                   n_jobs=-1\n",
    "                                  )\n",
    "est_h21_80 = RandomForestRegressor(criterion='mae',\n",
    "                                   max_depth=90,\n",
    "                                   max_leaf_nodes=90,\n",
    "                                   min_samples_leaf=30,\n",
    "                                   min_samples_split=30,\n",
    "                                   min_weight_fraction_leaf=3.0e-4,\n",
    "                                   n_estimators=190,\n",
    "                                   random_state=RAND,\n",
    "                                   n_jobs=-1\n",
    "                                  )\n",
    "est_h11_30 = RandomForestRegressor(criterion='mse',\n",
    "                                   max_depth=100,\n",
    "                                   max_leaf_nodes=100,\n",
    "                                   min_samples_leaf=1,\n",
    "                                   min_samples_split=2,\n",
    "                                   min_weight_fraction_leaf=0.0,\n",
    "                                   n_estimators=10,\n",
    "                                   random_state=RAND,\n",
    "                                   n_jobs=-1\n",
    "                                  )\n",
    "est_h21_30 = RandomForestRegressor(criterion='mae',\n",
    "                                   max_depth=90,\n",
    "                                   max_leaf_nodes=90,\n",
    "                                   min_samples_leaf=3,\n",
    "                                   min_samples_split=30,\n",
    "                                   min_weight_fraction_leaf=3.0e-4,\n",
    "                                   n_estimators=190,\n",
    "                                   random_state=RAND,\n",
    "                                   n_jobs=-1\n",
    "                                  )\n",
    "\n",
    "est_h11_80.fit(mat_train_80, h11_train_80)\n",
    "est_h21_80.fit(mat_train_80, h21_train_80)\n",
    "est_h11_30.fit(mat_train_30, h11_train_30)\n",
    "est_h21_30.fit(mat_train_30, h21_train_30)\n",
    "\n",
    "h11_pred_80 = np.floor(est_h11_80.predict(mat_test_80)).astype(int)\n",
    "h21_pred_80 = np.floor(est_h21_80.predict(mat_test_80)).astype(int)\n",
    "h11_pred_30 = np.floor(est_h11_30.predict(mat_test_30)).astype(int)\n",
    "h21_pred_30 = np.floor(est_h21_30.predict(mat_test_30)).astype(int)\n",
    "\n",
    "print('\\nRANDOM FOREST')\n",
    "print('80% training data:')\n",
    "print('    h11 accuracy: {:.3f}'.format(accuracy_score(h11_test_80, h11_pred_80)))\n",
    "print('    h21 accuracy: {:.3f}'.format(accuracy_score(h21_test_80, h21_pred_80)))\n",
    "print('')\n",
    "print('30% training data:')\n",
    "print('    h11 accuracy: {:.3f}'.format(accuracy_score(h11_test_30, h11_pred_30)))\n",
    "print('    h21 accuracy: {:.3f}'.format(accuracy_score(h21_test_30, h21_pred_30)))"
   ]
  },
  {
   "cell_type": "markdown",
   "metadata": {},
   "source": [
    "# Gradient Boosting (eng. feat.)"
   ]
  },
  {
   "cell_type": "code",
   "execution_count": 17,
   "metadata": {},
   "outputs": [
    {
     "name": "stdout",
     "output_type": "stream",
     "text": [
      "\n",
      "GRADIENT BOOSTING\n",
      "80% training data:\n",
      "    h11 accuracy: 0.495\n",
      "    h21 accuracy: 0.115\n",
      "\n",
      "30% training data:\n",
      "    h11 accuracy: 0.461\n",
      "    h21 accuracy: 0.103\n"
     ]
    }
   ],
   "source": [
    "from sklearn.ensemble import GradientBoostingRegressor\n",
    "from sklearn.metrics import accuracy_score\n",
    "import numpy as np\n",
    "\n",
    "est_h11_80 = GradientBoostingRegressor(criterion='mae',\n",
    "                                       learning_rate=0.3,\n",
    "                                       loss='huber',\n",
    "                                       alpha=0.4,\n",
    "                                       max_depth=100,\n",
    "                                       min_samples_split=2,\n",
    "                                       min_weight_fraction_leaf=0.03,\n",
    "                                       n_estimators=90,\n",
    "                                       subsample=0.8,\n",
    "                                       random_state=RAND\n",
    "                                      )\n",
    "est_h21_80 = GradientBoostingRegressor(criterion='mae',\n",
    "                                       learning_rate=0.6,\n",
    "                                       loss='ls',\n",
    "                                       max_depth=85,\n",
    "                                       min_samples_split=30,\n",
    "                                       min_weight_fraction_leaf=0.0,\n",
    "                                       n_estimators=100,\n",
    "                                       subsample=0.7,\n",
    "                                       random_state=RAND\n",
    "                                      )\n",
    "est_h11_30 = GradientBoostingRegressor(criterion='mae',\n",
    "                                       learning_rate=0.3,\n",
    "                                       loss='huber',\n",
    "                                       alpha=0.4,\n",
    "                                       max_depth=100,\n",
    "                                       min_samples_split=2,\n",
    "                                       min_weight_fraction_leaf=0.03,\n",
    "                                       n_estimators=90,\n",
    "                                       subsample=0.8,\n",
    "                                       random_state=RAND\n",
    "                                      )\n",
    "est_h21_30 = GradientBoostingRegressor(criterion='mae',\n",
    "                                       learning_rate=0.6,\n",
    "                                       loss='ls',\n",
    "                                       max_depth=85,\n",
    "                                       min_samples_split=30,\n",
    "                                       min_weight_fraction_leaf=0.0,\n",
    "                                       n_estimators=100,\n",
    "                                       subsample=0.7,\n",
    "                                       random_state=RAND\n",
    "                                      )\n",
    "\n",
    "est_h11_80.fit(mat_train_80, h11_train_80)\n",
    "est_h21_80.fit(mat_train_80, h21_train_80)\n",
    "est_h11_30.fit(mat_train_30, h11_train_30)\n",
    "est_h21_30.fit(mat_train_30, h21_train_30)\n",
    "\n",
    "h11_pred_80 = np.floor(est_h11_80.predict(mat_test_80)).astype(int)\n",
    "h21_pred_80 = np.floor(est_h21_80.predict(mat_test_80)).astype(int)\n",
    "h11_pred_30 = np.floor(est_h11_30.predict(mat_test_30)).astype(int)\n",
    "h21_pred_30 = np.floor(est_h21_30.predict(mat_test_30)).astype(int)\n",
    "\n",
    "print('\\nGRADIENT BOOSTING')\n",
    "print('80% training data:')\n",
    "print('    h11 accuracy: {:.3f}'.format(accuracy_score(h11_test_80, h11_pred_80)))\n",
    "print('    h21 accuracy: {:.3f}'.format(accuracy_score(h21_test_80, h21_pred_80)))\n",
    "print('')\n",
    "print('30% training data:')\n",
    "print('    h11 accuracy: {:.3f}'.format(accuracy_score(h11_test_30, h11_pred_30)))\n",
    "print('    h21 accuracy: {:.3f}'.format(accuracy_score(h21_test_30, h21_pred_30)))"
   ]
  }
 ],
 "metadata": {
  "kernelspec": {
   "display_name": "Python 3",
   "language": "python",
   "name": "python3"
  },
  "language_info": {
   "codemirror_mode": {
    "name": "ipython",
    "version": 3
   },
   "file_extension": ".py",
   "mimetype": "text/x-python",
   "name": "python",
   "nbconvert_exporter": "python",
   "pygments_lexer": "ipython3",
   "version": "3.8.4"
  }
 },
 "nbformat": 4,
 "nbformat_minor": 4
}
