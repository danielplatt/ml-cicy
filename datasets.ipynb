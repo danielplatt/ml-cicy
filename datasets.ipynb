{
 "cells": [
  {
   "cell_type": "markdown",
   "metadata": {},
   "source": [
    "# Dataset Preparation\n",
    "\n",
    "We first prepare the datasets to be used in training the *Deep Convolutional Generative Adversarial Network* (DCGAN)."
   ]
  },
  {
   "cell_type": "code",
   "execution_count": 1,
   "metadata": {},
   "outputs": [],
   "source": [
    "%load_ext autoreload\n",
    "%autoreload 2"
   ]
  },
  {
   "cell_type": "markdown",
   "metadata": {},
   "source": [
    "## Load the Datasets\n",
    "\n",
    "We first load the old and favourable dataset."
   ]
  },
  {
   "cell_type": "code",
   "execution_count": 2,
   "metadata": {},
   "outputs": [],
   "source": [
    "import pandas as pd\n",
    "\n",
    "old = pd.read_csv('./data/cicy3o_tidy.csv')\n",
    "fav = pd.read_csv('./data/cicy3f_tidy.csv')\n",
    "\n",
    "# keep only the favourable entries\n",
    "old = old.loc[fav['favour'] == 1]\n",
    "fav = fav.loc[fav['favour'] == 1]\n",
    "\n",
    "# keep only the matrix entries\n",
    "old = old.filter(regex='^matrix_.*')\n",
    "fav = fav.filter(regex='^matrix_.*')"
   ]
  },
  {
   "cell_type": "markdown",
   "metadata": {},
   "source": [
    "We rename the columns in the datasets:"
   ]
  },
  {
   "cell_type": "code",
   "execution_count": 3,
   "metadata": {},
   "outputs": [],
   "source": [
    "import re\n",
    "\n",
    "old = old.rename(columns=lambda c: re.sub('^matrix', 'old', c))\n",
    "fav = fav.rename(columns=lambda c: re.sub('^matrix', 'fav', c))"
   ]
  },
  {
   "cell_type": "markdown",
   "metadata": {},
   "source": [
    "We then merge the datasets on the Hodge numbers:"
   ]
  },
  {
   "cell_type": "code",
   "execution_count": 4,
   "metadata": {},
   "outputs": [],
   "source": [
    "df = pd.concat([old, fav], axis=1)\n",
    "df.to_csv('./data/full.csv', index=False)"
   ]
  }
 ],
 "metadata": {
  "kernelspec": {
   "display_name": "Python 3",
   "language": "python",
   "name": "python3"
  },
  "language_info": {
   "codemirror_mode": {
    "name": "ipython",
    "version": 3
   },
   "file_extension": ".py",
   "mimetype": "text/x-python",
   "name": "python",
   "nbconvert_exporter": "python",
   "pygments_lexer": "ipython3",
   "version": "3.8.5"
  }
 },
 "nbformat": 4,
 "nbformat_minor": 4
}
