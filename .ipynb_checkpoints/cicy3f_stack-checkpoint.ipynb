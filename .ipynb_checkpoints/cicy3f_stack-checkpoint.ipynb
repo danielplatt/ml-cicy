{
 "cells": [
  {
   "cell_type": "markdown",
   "metadata": {},
   "source": [
    "# Machine Learning for Complete Intersection Calabi-Yau Manifolds\n",
    "\n",
    "In order to improve the results of the analysis, we employ the _stacking_ procedure to improve the predictions on $h_{11}$ and $h_{21}$. This is an **ensemble** learning technique typically used in competitions. We use:\n",
    "\n",
    "- [ElasticNet](https://scikit-learn.org/stable/modules/generated/sklearn.linear_model.ElasticNet.html) to see whether **L1** and **L2** can be implemented together,\n",
    "- [SVR (with Gaussian kernel)](https://scikit-learn.org/stable/modules/generated/sklearn.svm.SVR.html) to introduce a kernel function,\n",
    "- [RandomForestRegressor](https://scikit-learn.org/stable/modules/generated/sklearn.ensemble.RandomForestRegressor.html#sklearn.ensemble.RandomForestRegressor) to use forests of **decision trees** for the predictions,\n",
    "- Inception-like neural network,\n",
    "\n",
    "on a first level training set to have predictions on a second level set. We then use a second level (or **meta**) estimator, such as:\n",
    "\n",
    "- [Lasso](https://scikit-learn.org/stable/modules/generated/sklearn.linear_model.Lasso.html)\n",
    "\n",
    "on the new predictions.\n",
    "\n",
    "For this analysis we use the feature engineered version of the **favourable** dataset."
   ]
  },
  {
   "cell_type": "markdown",
   "metadata": {},
   "source": [
    "## Infrastructure\n",
    "\n",
    "We print information about the current OS:"
   ]
  },
  {
   "cell_type": "code",
   "execution_count": 1,
   "metadata": {},
   "outputs": [
    {
     "name": "stdout",
     "output_type": "stream",
     "text": [
      "Current OS:                  Linux (kernel release: 5.6.12-arch1-1, architecture: x86_64)\n",
      "Number of available threads: 8\n",
      "Current CPU frequency:       3100 MHz (max: 3800 MHz)\n",
      "Available RAM memory:        5926 MB (tot: 15758 MB)\n"
     ]
    }
   ],
   "source": [
    "from mltools.libos import InfoOS\n",
    "\n",
    "print('Current OS:                  {} (kernel release: {}, architecture: {})'.format(InfoOS().os, InfoOS().kernel, InfoOS().arch))\n",
    "print('Number of available threads: {:d}'.format(InfoOS().threads))\n",
    "print('Current CPU frequency:       {:.0f} MHz (max: {:.0f} MHz)'.format(InfoOS().freq, InfoOS().freqm))\n",
    "print('Available RAM memory:        {:d} MB (tot: {:d} MB)'.format(InfoOS().vmav, InfoOS().vmtot))"
   ]
  },
  {
   "cell_type": "markdown",
   "metadata": {},
   "source": [
    "For future use, we establish early in the notebook the number of maximum jobs that every algorithm can take concurrently. Thus, if we want to run parallel notebooks with different jobs, we will not encounter issues."
   ]
  },
  {
   "cell_type": "code",
   "execution_count": 2,
   "metadata": {},
   "outputs": [],
   "source": [
    "#n_jobs = int(InfoOS().threads) #---------- very intensive but faster\n",
    "n_jobs = int(InfoOS().threads / 2) #------ still fast enough but less intensive (only 50% of available threads are occupied)\n",
    "#n_jobs = int(InfoOS().threads / 4) #------ slower"
   ]
  },
  {
   "cell_type": "markdown",
   "metadata": {},
   "source": [
    "We then print information on the current GPU setup (if available):"
   ]
  },
  {
   "cell_type": "code",
   "execution_count": 3,
   "metadata": {},
   "outputs": [
    {
     "name": "stdout",
     "output_type": "stream",
     "text": [
      "Wed May 20 08:49:30 2020       \n",
      "+-----------------------------------------------------------------------------+\n",
      "| NVIDIA-SMI 440.82       Driver Version: 440.82       CUDA Version: 10.2     |\n",
      "|-------------------------------+----------------------+----------------------+\n",
      "| GPU  Name        Persistence-M| Bus-Id        Disp.A | Volatile Uncorr. ECC |\n",
      "| Fan  Temp  Perf  Pwr:Usage/Cap|         Memory-Usage | GPU-Util  Compute M. |\n",
      "|===============================+======================+======================|\n",
      "|   0  GeForce 940MX       Off  | 00000000:02:00.0 Off |                  N/A |\n",
      "| N/A   62C    P8    N/A /  N/A |      5MiB /  2004MiB |      0%      Default |\n",
      "+-------------------------------+----------------------+----------------------+\n",
      "                                                                               \n",
      "+-----------------------------------------------------------------------------+\n",
      "| Processes:                                                       GPU Memory |\n",
      "|  GPU       PID   Type   Process name                             Usage      |\n",
      "|=============================================================================|\n",
      "|    0   1400850      G   /usr/lib/Xorg                                  4MiB |\n",
      "+-----------------------------------------------------------------------------+\n"
     ]
    }
   ],
   "source": [
    "!nvidia-smi"
   ]
  },
  {
   "cell_type": "markdown",
   "metadata": {},
   "source": [
    "## Setup\n",
    "\n",
    "We import the Python modules we use and print their versions to keep track of changes."
   ]
  },
  {
   "cell_type": "code",
   "execution_count": 4,
   "metadata": {},
   "outputs": [
    {
     "name": "stdout",
     "output_type": "stream",
     "text": [
      "Python version: 3.7\n",
      "Matplot version: 3.2.1\n",
      "Numpy version: 1.18.4\n",
      "Pandas version: 1.0.3\n",
      "Scikit-learn version: 0.22.2.post1\n",
      "Scikit-optimize version: 0.7.4\n",
      "Tensorflow version: 2.0.0\n",
      "Keras version: 2.2.4-tf (backend: tensorflow)\n"
     ]
    }
   ],
   "source": [
    "import sys\n",
    "\n",
    "import matplotlib as mpl\n",
    "import random     as rnd\n",
    "import sklearn    as skl\n",
    "import skopt      as sko\n",
    "import numpy      as np\n",
    "import pandas     as pd\n",
    "import tensorflow as tf\n",
    "\n",
    "from tensorflow       import keras\n",
    "from tensorflow.keras import backend as K\n",
    "\n",
    "import warnings\n",
    "warnings.simplefilter(action='ignore', category=UserWarning) # ignore user warnings: nothing that I can really do anything about it...\n",
    "\n",
    "\n",
    "%matplotlib inline\n",
    "mpl.rc('axes', labelsize=12)\n",
    "mpl.rc('xtick', labelsize=12)\n",
    "mpl.rc('ytick', labelsize=12)\n",
    "\n",
    "# print the version of the modules\n",
    "print('Python version: {:d}.{:d}'      .format(sys.version_info.major, sys.version_info.minor))\n",
    "print('Matplot version: {}'            .format(mpl.__version__))\n",
    "print('Numpy version: {}'              .format(np.__version__))\n",
    "print('Pandas version: {}'             .format(pd.__version__))\n",
    "print('Scikit-learn version: {}'       .format(skl.__version__))\n",
    "print('Scikit-optimize version: {}'    .format(sko.__version__))\n",
    "print('Tensorflow version: {}'         .format(tf.__version__))\n",
    "print('Keras version: {} (backend: {})'.format(keras.__version__, K.backend()))\n",
    "\n",
    "# fix random_seed\n",
    "RAND = 42\n",
    "rnd.seed(RAND)\n",
    "np.random.seed(RAND)\n",
    "tf.random.set_seed(RAND)"
   ]
  },
  {
   "cell_type": "markdown",
   "metadata": {},
   "source": [
    "## Session Preparation\n",
    "\n",
    "in order to save the results of the analysis, we define where to store images, log files and models:"
   ]
  },
  {
   "cell_type": "code",
   "execution_count": 5,
   "metadata": {},
   "outputs": [],
   "source": [
    "from os import path, makedirs\n",
    "\n",
    "ROOT_DIR = '.' #-------------------------------------------------- root directory\n",
    "IMG_DIR  = 'img' #------------------------------------------------ directory of images\n",
    "MOD_DIR  = 'models' #--------------------------------------------- directory of saved models\n",
    "LOG_DIR  = 'log' #------------------------------------------------ directory of logs\n",
    "\n",
    "DB_NAME = 'cicy3f' #---------------------------------------------- name of the dataset\n",
    "DB_FILE = DB_NAME + '_analysis.h5' #------------------------------ full name with extension\n",
    "DB_PATH = path.join(ROOT_DIR, DB_FILE) #-------------------------- full path of the dataset\n",
    "DB_DIR  = 'original' if DB_NAME == 'cicy3o' else 'favourable' #--- subdir where to store images, models, logs\n",
    "\n",
    "# define full paths\n",
    "IMG_PATH = path.join(ROOT_DIR, IMG_DIR, DB_DIR)\n",
    "MOD_PATH = path.join(ROOT_DIR, MOD_DIR, DB_DIR)\n",
    "LOG_PATH = path.join(ROOT_DIR, LOG_DIR, DB_DIR)\n",
    "\n",
    "# create directories if non existent\n",
    "if not path.isdir(IMG_PATH):\n",
    "    makedirs(IMG_PATH, exist_ok=True)\n",
    "if not path.isdir(MOD_PATH):\n",
    "    makedirs(MOD_PATH, exist_ok=True)\n",
    "if not path.isdir(LOG_PATH):\n",
    "    makedirs(LOG_PATH, exist_ok=True)"
   ]
  },
  {
   "cell_type": "markdown",
   "metadata": {},
   "source": [
    "We also create a log file to store debug and related information:"
   ]
  },
  {
   "cell_type": "code",
   "execution_count": 6,
   "metadata": {},
   "outputs": [
    {
     "name": "stderr",
     "output_type": "stream",
     "text": [
      "2020-05-20 08:49:33,131: INFO ==> New logging session started. Log is at ./log/favourable/cicy3f_stack.log.\n"
     ]
    }
   ],
   "source": [
    "import logging\n",
    "\n",
    "from mltools.liblog import create_logfile\n",
    "\n",
    "path_to_log = path.join(LOG_PATH,\n",
    "                        DB_NAME + '_stack.log'\n",
    "                       )\n",
    "log = create_logfile(path_to_log,\n",
    "                     name=DB_NAME + '_stack',\n",
    "                     level=logging.DEBUG\n",
    "                    )\n",
    "\n",
    "# these lines provide the same setup also for the Jupyter logging\n",
    "logger = logging.getLogger() #------------------------------------------------- get the current logging session\n",
    "\n",
    "fmt = logging.Formatter('%(asctime)s: %(levelname)s ==> %(message)s') #-------- customise the formatting options\n",
    "\n",
    "handler = logging.StreamHandler() #-------------------------------------------- handle the stream to the default (stderr)\n",
    "handler.setLevel(logging.DEBUG) #---------------------------------------------- print everything\n",
    "handler.setFormatter(fmt) #---------------------------------------------------- set the formatting options\n",
    "\n",
    "logger.handlers = [handler] #-------------------------------------------------- override the default stream\n",
    "\n",
    "# we are ready to go!\n",
    "log.info('New logging session started. Log is at {}.'.format(path_to_log))"
   ]
  },
  {
   "cell_type": "markdown",
   "metadata": {},
   "source": [
    "We finally set the _memory growth_ property of the GPU in order to avoid overflowing its RAM memory:"
   ]
  },
  {
   "cell_type": "code",
   "execution_count": 7,
   "metadata": {},
   "outputs": [
    {
     "name": "stdout",
     "output_type": "stream",
     "text": [
      "GPU setup: 1 physical GPUs, 1 logical GPUs.\n"
     ]
    }
   ],
   "source": [
    "gpus = tf.config.experimental.list_physical_devices('GPU') #--------------------------------------- list of physical GPUs\n",
    "\n",
    "if gpus: #----------------------------------------------------------------------------------------- set memory growth only if GPU is active\n",
    "    try:\n",
    "        for gpu in gpus:\n",
    "            tf.config.experimental.set_memory_growth(gpu, True) #---------------------------------- set memory growth\n",
    "            \n",
    "        logical_gpus = tf.config.experimental.list_logical_devices('GPU') #------------------------ list of logical devices\n",
    "        print('GPU setup: {:d} physical GPUs, {:d} logical GPUs.'.format(len(gpus),\n",
    "                                                                         len(logical_gpus)\n",
    "                                                                        )\n",
    "             )\n",
    "    except RuntimeError as e:\n",
    "        print(e)\n",
    "else:\n",
    "    print('No GPUs in the setup!')"
   ]
  },
  {
   "cell_type": "markdown",
   "metadata": {},
   "source": [
    "## Loading the Dataset\n",
    "\n",
    "We first load the dataset we built during the preanalysis."
   ]
  },
  {
   "cell_type": "code",
   "execution_count": 8,
   "metadata": {},
   "outputs": [
    {
     "name": "stderr",
     "output_type": "stream",
     "text": [
      "2020-05-20 08:49:33,660: DEBUG ==> Database loaded.\n",
      "2020-05-20 08:49:33,661: INFO ==> Shape is 7852 rows x 7 columns.\n"
     ]
    }
   ],
   "source": [
    "import pandas as pd\n",
    "\n",
    "# load the dataset\n",
    "if path.isfile(DB_PATH):\n",
    "    df = pd.read_hdf(DB_PATH)\n",
    "    log.debug('Database loaded.')\n",
    "    log.info('Shape is {:d} rows x {:d} columns.'.format(df.shape[0], df.shape[1]))\n",
    "else:\n",
    "    log.error('Cannot load database from {}!'.format(DB_PATH))"
   ]
  },
  {
   "cell_type": "markdown",
   "metadata": {},
   "source": [
    "We print the `dtypes` and the name of the keys inside the dataframe as a reference:"
   ]
  },
  {
   "cell_type": "code",
   "execution_count": 9,
   "metadata": {},
   "outputs": [
    {
     "data": {
      "text/plain": [
       "h11            int16\n",
       "h21            int16\n",
       "num_cp          int8\n",
       "dim_cp        object\n",
       "dim_h0_amb    object\n",
       "matrix        object\n",
       "pca           object\n",
       "dtype: object"
      ]
     },
     "execution_count": 9,
     "metadata": {},
     "output_type": "execute_result"
    }
   ],
   "source": [
    "df.dtypes"
   ]
  },
  {
   "cell_type": "markdown",
   "metadata": {},
   "source": [
    "## Dense Format Extraction\n",
    "\n",
    "We now extract the needed features from the sparse format in which they are stores. We also contextually build the feature matrices and the labels vectors needed in the analisis."
   ]
  },
  {
   "cell_type": "code",
   "execution_count": 10,
   "metadata": {},
   "outputs": [],
   "source": [
    "from mltools.libtransformer import ExtractTensor\n",
    "\n",
    "# extract the labels\n",
    "h11        = df['h11'].values\n",
    "h21        = df['h21'].values\n",
    "\n",
    "# extract the scalar feature\n",
    "num_cp     = np.reshape(df['num_cp'].values, (-1,1)) #------------------------------- num_cp needs to be reshaped because it is a single feature\n",
    "\n",
    "# extract the vector features\n",
    "dim_cp     = np.array(ExtractTensor(flatten=True).fit_transform(df['dim_cp']))\n",
    "dim_h0_amb = np.array(ExtractTensor(flatten=True).fit_transform(df['dim_h0_amb']))\n",
    "\n",
    "# extract the PCA\n",
    "pca        = np.array(ExtractTensor(flatten=True).fit_transform(df['pca']))\n",
    "\n",
    "# extract the matrix\n",
    "matrix = np.array(ExtractTensor(flatten=False).fit_transform(df['matrix'])) #-------- old shape is (batch, width, height)\n",
    "matrix = np.reshape(matrix, (-1, np.shape(matrix)[1], np.shape(matrix)[2], 1)) #----- new shape is (batch, width, height, 1)\n",
    "\n",
    "# build the feature engineered sets\n",
    "feat_h11 = np.c_[num_cp, dim_cp, pca]\n",
    "feat_h21 = np.c_[num_cp, dim_cp, dim_h0_amb, pca]"
   ]
  },
  {
   "cell_type": "markdown",
   "metadata": {},
   "source": [
    "## Training and Validation Strategy\n",
    "\n",
    "We will split the original **full** training set (90% of the total dataset) in two levels (50% of it each) and train the first level estimator on it (using **cross-validation** with 5 splits, such that roughly 9% of the total training set will be used for validation each time). We then keep the final 10% of the dataset as test set. We use Bayesan optimization (from the [_Scikit-optimize_](https://scikit-optimize.github.io/stable/index.html) library) of the hyperparameters as it helps in finding a \"direction\" in the procedure (as opposed to a random search) and avoids useless grid searches which for large hyperparameter spaces are unfeasible."
   ]
  },
  {
   "cell_type": "code",
   "execution_count": 11,
   "metadata": {},
   "outputs": [
    {
     "name": "stderr",
     "output_type": "stream",
     "text": [
      "2020-05-20 08:49:36,232: DEBUG ==> Train set size (lv.1): 3533\n",
      "2020-05-20 08:49:36,232: DEBUG ==> Train set size (lv.2): 3533\n",
      "2020-05-20 08:49:36,233: DEBUG ==> Test set size: 786\n"
     ]
    }
   ],
   "source": [
    "from sklearn.model_selection import train_test_split, KFold\n",
    "\n",
    "# define the cross-validation splits\n",
    "cv = KFold(n_splits=5, shuffle=True, random_state=RAND)\n",
    "\n",
    "# divide into training and test sets\n",
    "feat_h11_train, feat_h11_test, \\\n",
    "feat_h21_train, feat_h21_test, \\\n",
    "matrix_train, matrix_test, \\\n",
    "h11_train, h11_test, \\\n",
    "h21_train, h21_test = train_test_split(feat_h11, feat_h21, matrix, h11, h21,\n",
    "                                       test_size=0.1,\n",
    "                                       shuffle=True,\n",
    "                                       random_state=RAND\n",
    "                                      )\n",
    "\n",
    "# split the dataset into two branches\n",
    "feat_h11_train_lv1, feat_h11_train_lv2, \\\n",
    "feat_h21_train_lv1, feat_h21_train_lv2, \\\n",
    "matrix_train_lv1, matrix_train_lv2, \\\n",
    "h11_train_lv1, h11_train_lv2, \\\n",
    "h21_train_lv1, h21_train_lv2 = train_test_split(feat_h11_train, feat_h21_train, matrix_train, h11_train, h21_train,\n",
    "                                                test_size=0.5,\n",
    "                                                shuffle=True,\n",
    "                                                random_state=RAND\n",
    "                                               )\n",
    "\n",
    "# keep a development set for the matrix at lv1\n",
    "matrix_train_lv1, matrix_val_lv1, \\\n",
    "h11_matrix_train_lv1, h11_matrix_val_lv1, \\\n",
    "h21_matrix_train_lv1, h21_matrix_val_lv1 = train_test_split(matrix_train_lv1, h11_train_lv1, h21_train_lv1,\n",
    "                                                            test_size=0.2,\n",
    "                                                            shuffle=True,\n",
    "                                                            random_state=RAND\n",
    "                                                           )\n",
    "\n",
    "# rescale the matrix\n",
    "scale_factor     = np.max(matrix_train_lv1) - np.min(matrix_train_lv1)\n",
    "matrix_train_lv1 = matrix_train_lv1 / scale_factor\n",
    "matrix_val_lv1   = matrix_val_lv1 / scale_factor\n",
    "matrix_train_lv2 = matrix_train_lv2 / scale_factor\n",
    "matrix_test      = matrix_test / scale_factor\n",
    "\n",
    "# debug info\n",
    "log.debug('Train set size (lv.1): {:d}'.format(np.shape(feat_h11_train_lv1)[0]))\n",
    "log.debug('Train set size (lv.2): {:d}'.format(np.shape(feat_h11_train_lv2)[0]))\n",
    "log.debug('Test set size: {:d}'.format(np.shape(feat_h11_test)[0]))"
   ]
  },
  {
   "cell_type": "markdown",
   "metadata": {},
   "source": [
    "In the analysis that follows we will then study the accuracy of the algorithms both on validation and test sets and we will plot the predictions made by each algorithm. We will also clearly print the best fitting hyperparameters."
   ]
  },
  {
   "cell_type": "code",
   "execution_count": 12,
   "metadata": {},
   "outputs": [],
   "source": [
    "def pretty(dct, indent=True):\n",
    "    '''\n",
    "    Pretty print the dictionary of best parameters.\n",
    "    \n",
    "    Required argument:\n",
    "        dct:    the dictionary to pretty print.\n",
    "        \n",
    "    Optional argument:\n",
    "        indent: whether to indent the printed output.\n",
    "    '''\n",
    "    \n",
    "    for key, value in dct.items():\n",
    "        if indent:\n",
    "            print('    {} = {}'.format(key, value))\n",
    "        else:\n",
    "            print('{} = {}'.format(key, value))"
   ]
  },
  {
   "cell_type": "markdown",
   "metadata": {},
   "source": [
    "## First Level Training\n",
    "\n",
    "First of all we train the algorithms on the first level training set and produce the predictions for the second level and the test predictions."
   ]
  },
  {
   "cell_type": "markdown",
   "metadata": {},
   "source": [
    "### [Elastic Net](https://scikit-learn.org/stable/modules/generated/sklearn.linear_model.ElasticNet.html)\n",
    "\n",
    "We start by training an elastic net which implements both **L1** and **L2** regularization. The additional term to the cost function is $\\Delta J(\\theta) = \\alpha L_1 \\vert\\vert \\theta \\vert\\vert + \\frac{1}{2} \\alpha (1 - L_1) \\vert\\vert \\theta \\vert\\vert^2$. In the same way, we could have written $\\Delta J(\\theta) = a \\vert\\vert \\theta \\vert\\vert + b \\vert\\vert  \\theta \\vert\\vert^2$ where $\\alpha = a + b$ and $L_1 = \\frac{a}{a + b}$. The hyperparameters we control are:\n",
    "\n",
    "- `fit_intercept` $\\in \\lbrace 0, 1 \\rbrace$,\n",
    "- `normalize` $\\in \\lbrace 0, 1 \\rbrace$,\n",
    "- `positive` $\\in \\lbrace 0, 1 \\rbrace$,\n",
    "- `alpha` $\\in \\left[ 10^{-6}, 10^{-1} \\right]$,\n",
    "- `l1_ratio` $\\in \\left[ 0, 1 \\right]$ (the $L_1$ in the previous formulae),\n",
    "- `selection` $\\in \\lbrace random, cyclic \\rbrace$ (controls whether to update coefficients randomly or looping through the features)."
   ]
  },
  {
   "cell_type": "code",
   "execution_count": 13,
   "metadata": {},
   "outputs": [
    {
     "name": "stderr",
     "output_type": "stream",
     "text": [
      "2020-05-20 08:49:36,262: INFO ==> Trainining elastic net...\n"
     ]
    },
    {
     "name": "stdout",
     "output_type": "stream",
     "text": [
      "\n",
      "Best parameters for h11:\n",
      "\n",
      "    alpha = 0.05040382691218727\n",
      "    fit_intercept = 0\n",
      "    l1_ratio = 0.6175394239653023\n",
      "    normalize = 0\n",
      "    positive = 0\n",
      "    selection = cyclic\n",
      "\n",
      "Accuracy of the cross-validation: 99.632% ± 0.192%\n",
      "Accuracy of the predictions: 99.618%\n",
      "\n",
      "Best parameters for h21:\n",
      "\n",
      "    alpha = 0.04038513430050506\n",
      "    fit_intercept = 1\n",
      "    l1_ratio = 0.0\n",
      "    normalize = 0\n",
      "    positive = 0\n",
      "    selection = random\n",
      "\n",
      "Accuracy of the cross-validation: 19.332% ± 0.968%\n",
      "Accuracy of the predictions: 18.702%\n"
     ]
    },
    {
     "data": {
      "image/png": "[encoded data removed]",
      "text/plain": [
       "<Figure size 432x360 with 1 Axes>"
      ]
     },
     "metadata": {
      "needs_background": "light"
     },
     "output_type": "display_data"
    },
    {
     "name": "stderr",
     "output_type": "stream",
     "text": [
      "2020-05-20 08:59:31,085: DEBUG ==> Plot saved to ./img/favourable/el_net_lv1_error.pdf.\n"
     ]
    }
   ],
   "source": [
    "from sklearn.linear_model import ElasticNet\n",
    "from skopt                import BayesSearchCV\n",
    "from skopt.space          import Integer, Real, Categorical\n",
    "from sklearn.metrics      import make_scorer\n",
    "from mltools.libscore     import accuracy, Score, ViewCV\n",
    "from mltools.libplot      import Plot\n",
    "\n",
    "log.info('Trainining elastic net...')\n",
    "\n",
    "rounding      = np.floor #----------------------------------------------------------------- choose a rounding function\n",
    "n_iter        = 50 #----------------------------------------------------------------------- the number of iteration of the Bayes search\n",
    "search_params = {'fit_intercept': Integer(0, 1),\n",
    "                 'normalize':     Integer(0, 1),\n",
    "                 'positive':      Integer(0, 1),\n",
    "                 'l1_ratio':      Real(0.0,    1.0,    prior='uniform'),\n",
    "                 'alpha':         Real(1.0e-6, 1.0e-1, prior='log-uniform'),\n",
    "                 'selection':     Categorical(['random', 'cyclic'])\n",
    "                } #------------------------------------------------------------------------ define the hyperparameter optimization space\n",
    "estimator     = BayesSearchCV(ElasticNet(max_iter=1e4, tol=1.0e-2, random_state=RAND), #--- choose the base estimator\n",
    "                              search_spaces=search_params,\n",
    "                              scoring=make_scorer(accuracy,\n",
    "                                                  greater_is_better=True,\n",
    "                                                  rounding=rounding\n",
    "                                                 ), #--------------------------------------- create a custom scoring function (use accuracy after rounding)\n",
    "                              n_jobs=n_jobs,\n",
    "                              refit=True,\n",
    "                              cv=cv\n",
    "                             )\n",
    "\n",
    "estimator.fit(feat_h11_train_lv1, h11_train_lv1) #----------------------------------------------- fit the estimator to h11\n",
    "\n",
    "cv_score = ViewCV(estimator) #------------------------------------------------------------------- display CV scores\n",
    "print('\\nBest parameters for h11:\\n')\n",
    "pretty(cv_score.best_parameters)\n",
    "print('\\nAccuracy of the cross-validation: {:.3f}% ± {:.3f}%'.format(cv_score.test_mean()*100,\n",
    "                                                                     cv_score.test_std()*100\n",
    "                                                                    ) #-------------------------- print CV accuracy\n",
    "     )\n",
    "\n",
    "el_net_preds_h11 = estimator.best_estimator_.predict(feat_h11_train_lv2) #----------------------- compute predictions for h11 (lv2)\n",
    "el_net_test_preds_h11 = estimator.best_estimator_.predict(feat_h11_test) #----------------------- compute predictions for h11 (test)\n",
    "pred_score_h11  = Score(y_true=h11_test, y_pred=el_net_test_preds_h11, rounding=rounding)\n",
    "print('Accuracy of the predictions: {:.3f}%'.format(pred_score_h11.accuracy()*100)) #------------ print test accuracy\n",
    "\n",
    "estimator.fit(feat_h21_train_lv1, h21_train_lv1) #----------------------------------------------- fit the estimator to h21\n",
    "\n",
    "cv_score = ViewCV(estimator) #------------------------------------------------------------------- display CV scores\n",
    "print('\\nBest parameters for h21:\\n')\n",
    "pretty(cv_score.best_parameters)\n",
    "print('\\nAccuracy of the cross-validation: {:.3f}% ± {:.3f}%'.format(cv_score.test_mean()*100,\n",
    "                                                                     cv_score.test_std()*100\n",
    "                                                                    ) #-------------------------- print CV accuracy\n",
    "     )\n",
    "\n",
    "el_net_preds_h21 = estimator.best_estimator_.predict(feat_h21_train_lv2) #----------------------- compute predictions for h21 (lv2)\n",
    "el_net_test_preds_h21 = estimator.best_estimator_.predict(feat_h21_test) #----------------------- compute predictions for h21 (test)\n",
    "pred_score_h21  = Score(y_true=h21_test, y_pred=el_net_test_preds_h21, rounding=rounding)\n",
    "print('Accuracy of the predictions: {:.3f}%'.format(pred_score_h21.accuracy()*100)) #------------ print test accuracy\n",
    "\n",
    "plot = Plot(rows=1, columns=1) #----------------------------------------------------------------- plot the comparison of the predictions\n",
    "\n",
    "plot.hist2D(pred_score_h11.error(),\n",
    "            title='Distance of the Predictions from the Real Value',\n",
    "            legend='$h_{11}$',\n",
    "            xlabel='error difference',\n",
    "            ylabel='#',\n",
    "            binstep=2\n",
    "           )\n",
    "plot.hist2D(pred_score_h21.error(),\n",
    "            title='Distance of the Predictions from the Real Value',\n",
    "            legend='$h_{21}$',\n",
    "            xlabel='error difference',\n",
    "            ylabel='#',\n",
    "            binstep=2\n",
    "           )\n",
    "\n",
    "plot.save_and_close(path.join(IMG_PATH, 'el_net_lv1_error'))\n",
    "log.debug('Plot saved to {}.'.format(path.join(IMG_PATH, 'el_net_lv1_error.pdf')))"
   ]
  },
  {
   "cell_type": "markdown",
   "metadata": {},
   "source": [
    "### [SVR](https://scikit-learn.org/stable/modules/generated/sklearn.svm.SVR.html)\n",
    "\n",
    "We then consider the **support vector machine**. The hyperparameter space is:\n",
    "\n",
    "- `gamma` $\\in \\left[ 10^{-3}, 10^3 \\right]$,\n",
    "- `epsilon` $\\in \\left[ 10^{-2}, 10^2 \\right]$ (the $\\epsilon$ parameter for the penalty computation),\n",
    "- `C` $\\in \\left[ 1, 10^3 \\right]$ (the regularization parameter),\n",
    "- `shrinking` $\\in \\lbrace 0, 1 \\rbrace$ (whether to use shrinking heuristic)."
   ]
  },
  {
   "cell_type": "code",
   "execution_count": 14,
   "metadata": {},
   "outputs": [
    {
     "name": "stderr",
     "output_type": "stream",
     "text": [
      "2020-05-20 08:59:31,102: INFO ==> Trainining svr (Gaussian kernel)...\n"
     ]
    },
    {
     "name": "stdout",
     "output_type": "stream",
     "text": [
      "\n",
      "Best parameters for h11:\n",
      "\n",
      "    C = 1.0\n",
      "    epsilon = 0.015765942184607917\n",
      "    gamma = 0.001\n",
      "    shrinking = 0\n",
      "\n",
      "Accuracy of the cross-validation: 99.632% ± 0.192%\n",
      "Accuracy of the predictions: 99.618%\n",
      "\n",
      "Best parameters for h21:\n",
      "\n",
      "    C = 33.59956340894911\n",
      "    epsilon = 0.047430227762050345\n",
      "    gamma = 0.0027304685938703954\n",
      "    shrinking = 1\n",
      "\n",
      "Accuracy of the cross-validation: 28.871% ± 1.386%\n",
      "Accuracy of the predictions: 33.969%\n"
     ]
    },
    {
     "data": {
      "image/png": "[encoded data removed]",
      "text/plain": [
       "<Figure size 432x360 with 1 Axes>"
      ]
     },
     "metadata": {
      "needs_background": "light"
     },
     "output_type": "display_data"
    },
    {
     "name": "stderr",
     "output_type": "stream",
     "text": [
      "2020-05-20 09:13:36,907: DEBUG ==> Plot saved to ./img/favourable/svr_lv1_error.pdf.\n"
     ]
    }
   ],
   "source": [
    "from sklearn.svm      import SVR\n",
    "from skopt            import BayesSearchCV\n",
    "from skopt.space      import Integer, Real, Categorical\n",
    "from sklearn.metrics  import make_scorer\n",
    "from mltools.libscore import accuracy, Score, ViewCV\n",
    "from mltools.libplot  import Plot\n",
    "\n",
    "log.info('Trainining svr (Gaussian kernel)...')\n",
    "\n",
    "rounding      = np.rint #---------------------------------------------------------- choose a rounding function\n",
    "n_iter        = 50 #--------------------------------------------------------------- the number of iteration of the Bayes search\n",
    "search_params = {'shrinking': Integer(0, 1),\n",
    "                 'epsilon':   Real(1.0e-2, 1.0e2, prior='log-uniform'),\n",
    "                 'C':         Real(1.0e0, 1.0e3,  prior='log-uniform'),\n",
    "                 'gamma':     Real(1.0e-3, 1.0e3, prior='log-uniform')\n",
    "                } #---------------------------------------------------------------- define the hyperparameter optimization space\n",
    "estimator     = BayesSearchCV(SVR(kernel='rbf', max_iter=1e5), #------------------- choose the base estimator\n",
    "                              search_spaces=search_params,\n",
    "                              scoring=make_scorer(accuracy,\n",
    "                                                  greater_is_better=True,\n",
    "                                                  rounding=rounding\n",
    "                                                 ), #------------------------------- create a custom scoring function (use accuracy after rounding)\n",
    "                              n_jobs=n_jobs,\n",
    "                              refit=True,\n",
    "                              cv=cv\n",
    "                             )\n",
    "\n",
    "estimator.fit(feat_h11_train_lv1, h11_train_lv1) #----------------------------------------------- fit the estimator to h11\n",
    "\n",
    "cv_score = ViewCV(estimator) #------------------------------------------------------------------- display CV scores\n",
    "print('\\nBest parameters for h11:\\n')\n",
    "pretty(cv_score.best_parameters)\n",
    "print('\\nAccuracy of the cross-validation: {:.3f}% ± {:.3f}%'.format(cv_score.test_mean()*100,\n",
    "                                                                     cv_score.test_std()*100\n",
    "                                                                    ) #-------------------------- print CV accuracy\n",
    "     )\n",
    "\n",
    "svr_rbf_preds_h11   = estimator.best_estimator_.predict(feat_h11_train_lv2) #-------------------- compute predictions for h11 (lv2)\n",
    "svr_rbf_test_preds_h11   = estimator.best_estimator_.predict(feat_h11_test) #-------------------- compute predictions for h11 (test)\n",
    "pred_score_h11  = Score(y_true=h11_test, y_pred=svr_rbf_test_preds_h11, rounding=rounding)\n",
    "print('Accuracy of the predictions: {:.3f}%'.format(pred_score_h11.accuracy()*100)) #------------ print test accuracy\n",
    "\n",
    "estimator.fit(feat_h21_train_lv1, h21_train_lv1) #----------------------------------------------- fit the estimator to h21\n",
    "\n",
    "cv_score = ViewCV(estimator) #------------------------------------------------------------------- display CV scores\n",
    "print('\\nBest parameters for h21:\\n')\n",
    "pretty(cv_score.best_parameters)\n",
    "print('\\nAccuracy of the cross-validation: {:.3f}% ± {:.3f}%'.format(cv_score.test_mean()*100,\n",
    "                                                                     cv_score.test_std()*100\n",
    "                                                                    ) #-------------------------- print CV accuracy\n",
    "     )\n",
    "\n",
    "svr_rbf_preds_h21   = estimator.best_estimator_.predict(feat_h21_train_lv2) #-------------------- compute predictions for h21 (lv2)\n",
    "svr_rbf_test_preds_h21   = estimator.best_estimator_.predict(feat_h21_test) #-------------------- compute predictions for h21 (test)\n",
    "pred_score_h21  = Score(y_true=h21_test, y_pred=svr_rbf_test_preds_h21, rounding=rounding)\n",
    "print('Accuracy of the predictions: {:.3f}%'.format(pred_score_h21.accuracy()*100)) #------------ print test accuracy\n",
    "\n",
    "plot = Plot(rows=1, columns=1) #----------------------------------------------------------------- plot the comparison of the predictions\n",
    "\n",
    "plot.hist2D(pred_score_h11.error(),\n",
    "            title='Distance of the Predictions from the Real Value',\n",
    "            legend='$h_{11}$',\n",
    "            xlabel='error difference',\n",
    "            ylabel='#',\n",
    "            binstep=2\n",
    "           )\n",
    "plot.hist2D(pred_score_h21.error(),\n",
    "            title='Distance of the Predictions from the Real Value',\n",
    "            legend='$h_{21}$',\n",
    "            xlabel='error difference',\n",
    "            ylabel='#',\n",
    "            binstep=2\n",
    "           )\n",
    "\n",
    "plot.save_and_close(path.join(IMG_PATH, 'svr_lv1_error'))\n",
    "log.debug('Plot saved to {}.'.format(path.join(IMG_PATH, 'svr_lv1_error.pdf')))"
   ]
  },
  {
   "cell_type": "markdown",
   "metadata": {},
   "source": [
    "### [Random Forest](https://scikit-learn.org/stable/modules/generated/sklearn.ensemble.RandomForestRegressor.html)\n",
    "\n",
    "We then move to a different kind of decision tree algorithm and train a random forest of trees on the dataset.  In this case the hyperparameter space we explore is:\n",
    "\n",
    "- `n_estimators` $\\in \\left[ 5, 75 \\right]$,\n",
    "- `criterion` $\\in \\lbrace mse, mae \\rbrace$,\n",
    "- `max_depth` $\\in \\left[ 2, 100 \\right]$,\n",
    "- `min_samples_split` $\\in \\left[ 2, 100 \\right]$,\n",
    "- `min_samples_leaf` $\\in \\left[ 1, 100 \\right]$,\n",
    "- `min_weight_fraction_leaf` $\\in \\left[ 0, \\frac{1}{2} \\right]$,\n",
    "- `max_leaf_nodes` $\\in \\left[ 2, 100 \\right]$."
   ]
  },
  {
   "cell_type": "code",
   "execution_count": 15,
   "metadata": {},
   "outputs": [
    {
     "name": "stderr",
     "output_type": "stream",
     "text": [
      "2020-05-20 09:13:36,933: INFO ==> Trainining random forest...\n"
     ]
    },
    {
     "name": "stdout",
     "output_type": "stream",
     "text": [
      "\n",
      "Best parameters for h11:\n",
      "\n",
      "    criterion = mse\n",
      "    max_depth = 26\n",
      "    max_leaf_nodes = 64\n",
      "    min_samples_leaf = 1\n",
      "    min_samples_split = 2\n",
      "    min_weight_fraction_leaf = 0.0\n",
      "    n_estimators = 16\n",
      "\n",
      "Accuracy of the cross-validation: 98.217% ± 0.828%\n",
      "Accuracy of the predictions: 98.219%\n",
      "\n",
      "Best parameters for h21:\n",
      "\n",
      "    criterion = mae\n",
      "    max_depth = 66\n",
      "    max_leaf_nodes = 66\n",
      "    min_samples_leaf = 1\n",
      "    min_samples_split = 100\n",
      "    min_weight_fraction_leaf = 0.0\n",
      "    n_estimators = 5\n",
      "\n",
      "Accuracy of the cross-validation: 21.596% ± 1.788%\n",
      "Accuracy of the predictions: 23.919%\n"
     ]
    },
    {
     "data": {
      "image/png": "[encoded data removed]",
      "text/plain": [
       "<Figure size 432x360 with 1 Axes>"
      ]
     },
     "metadata": {
      "needs_background": "light"
     },
     "output_type": "display_data"
    },
    {
     "name": "stderr",
     "output_type": "stream",
     "text": [
      "2020-05-20 12:36:52,064: DEBUG ==> Plot saved to ./img/favourable/rnd_for_lv1_error.pdf.\n"
     ]
    }
   ],
   "source": [
    "from sklearn.ensemble import RandomForestRegressor\n",
    "from skopt            import BayesSearchCV\n",
    "from skopt.space      import Integer, Real, Categorical\n",
    "from sklearn.metrics  import make_scorer\n",
    "from mltools.libscore import accuracy, Score, ViewCV\n",
    "from mltools.libplot  import Plot\n",
    "\n",
    "log.info('Trainining random forest...')\n",
    "\n",
    "rounding      = np.floor #------------------------------------------------------------------- choose a rounding function\n",
    "n_iter        = 20 #------------------------------------------------------------------------- the number of iteration of the Bayes search\n",
    "search_params = {'n_estimators':             Integer(5, 75,  prior='uniform'),\n",
    "                 'max_depth':                Integer(2, 100, prior='uniform'),\n",
    "                 'min_samples_split':        Integer(2, 100, prior='uniform'),\n",
    "                 'min_samples_leaf':         Integer(1, 100, prior='uniform'),\n",
    "                 'max_leaf_nodes':           Integer(2, 100, prior='uniform'),\n",
    "                 'min_weight_fraction_leaf': Real(0.0, 0.5, prior='uniform'),\n",
    "                 'criterion':                Categorical(['mse', 'mae'])\n",
    "                } #-------------------------------------------------------------------------- define the hyperparameter optimization space\n",
    "estimator     = BayesSearchCV(RandomForestRegressor(random_state=RAND), #-------------------- choose the base estimator\n",
    "                              search_spaces=search_params,\n",
    "                              scoring=make_scorer(accuracy,\n",
    "                                                  greater_is_better=True,\n",
    "                                                  rounding=rounding\n",
    "                                                 ), #----------------------------------------- create a custom scoring function (use accuracy after rounding)\n",
    "                              n_jobs=n_jobs,\n",
    "                              refit=True,\n",
    "                              cv=cv\n",
    "                             )\n",
    "\n",
    "estimator.fit(feat_h11_train_lv1, h11_train_lv1) #----------------------------------------------- fit the estimator to h11\n",
    "\n",
    "cv_score = ViewCV(estimator) #------------------------------------------------------------------- display CV scores\n",
    "print('\\nBest parameters for h11:\\n')\n",
    "pretty(cv_score.best_parameters)\n",
    "print('\\nAccuracy of the cross-validation: {:.3f}% ± {:.3f}%'.format(cv_score.test_mean()*100,\n",
    "                                                                     cv_score.test_std()*100\n",
    "                                                                    ) #-------------------------- print CV accuracy\n",
    "     )\n",
    "\n",
    "rnd_for_preds_h11   = estimator.best_estimator_.predict(feat_h11_train_lv2) #-------------------- compute predictions for h11 (lv2)\n",
    "rnd_for_test_preds_h11   = estimator.best_estimator_.predict(feat_h11_test) #-------------------- compute predictions for h11 (test)\n",
    "pred_score_h11  = Score(y_true=h11_test, y_pred=rnd_for_test_preds_h11, rounding=rounding)\n",
    "print('Accuracy of the predictions: {:.3f}%'.format(pred_score_h11.accuracy()*100)) #------------ print test accuracy\n",
    "\n",
    "estimator.fit(feat_h21_train_lv1, h21_train_lv1) #----------------------------------------------- fit the estimator to h21\n",
    "\n",
    "cv_score = ViewCV(estimator) #------------------------------------------------------------------- display CV scores\n",
    "print('\\nBest parameters for h21:\\n')\n",
    "pretty(cv_score.best_parameters)\n",
    "print('\\nAccuracy of the cross-validation: {:.3f}% ± {:.3f}%'.format(cv_score.test_mean()*100,\n",
    "                                                                     cv_score.test_std()*100\n",
    "                                                                    ) #-------------------------- print CV accuracy\n",
    "     )\n",
    "\n",
    "rnd_for_preds_h21   = estimator.best_estimator_.predict(feat_h21_train_lv2) #-------------------- compute predictions for h21 (lv2)\n",
    "rnd_for_test_preds_h21   = estimator.best_estimator_.predict(feat_h21_test) #-------------------- compute predictions for h21 (test)\n",
    "pred_score_h21  = Score(y_true=h21_test, y_pred=rnd_for_test_preds_h21, rounding=rounding)\n",
    "print('Accuracy of the predictions: {:.3f}%'.format(pred_score_h21.accuracy()*100)) #------------ print test accuracy\n",
    "\n",
    "plot = Plot(rows=1, columns=1) #----------------------------------------------------------------- plot the comparison of the predictions\n",
    "\n",
    "plot.hist2D(pred_score_h11.error(),\n",
    "            title='Distance of the Predictions from the Real Value',\n",
    "            legend='$h_{11}$',\n",
    "            xlabel='error difference',\n",
    "            ylabel='#',\n",
    "            binstep=2\n",
    "           )\n",
    "plot.hist2D(pred_score_h21.error(),\n",
    "            title='Distance of the Predictions from the Real Value',\n",
    "            legend='$h_{21}$',\n",
    "            xlabel='error difference',\n",
    "            ylabel='#',\n",
    "            binstep=2\n",
    "           )\n",
    "\n",
    "plot.save_and_close(path.join(IMG_PATH, 'rnd_for_lv1_error'))\n",
    "log.debug('Plot saved to {}.'.format(path.join(IMG_PATH, 'rnd_for_lv1_error.pdf')))"
   ]
  },
  {
   "cell_type": "markdown",
   "metadata": {},
   "source": [
    "## Neural Network\n",
    "\n",
    "We import the models using the _inception-like_ architecture and let them train (we start from the weights used in the training for the complete set: at worst they are sufficiently asymmetric to provide a good initialization and at best they can speed up the training process)."
   ]
  },
  {
   "cell_type": "code",
   "execution_count": 16,
   "metadata": {},
   "outputs": [],
   "source": [
    "from tensorflow.keras.models       import Model\n",
    "from tensorflow.keras.layers       import Input, Conv2D, Dense, LeakyReLU, Dropout, ZeroPadding2D, BatchNormalization, Flatten, concatenate\n",
    "from tensorflow.keras.regularizers import l1_l2\n",
    "from tensorflow.keras.optimizers   import Adam\n",
    "from tensorflow.keras.models       import load_model\n",
    "from tensorflow.keras.backend      import clear_session\n",
    "from tensorflow.keras.callbacks    import EarlyStopping, ModelCheckpoint, ReduceLROnPlateau\n",
    "from mltools.libscore              import Score\n",
    "\n",
    "# define a function to build a model\n",
    "def scan_inception_model(input_shape,\n",
    "                         model_name='inception_model',\n",
    "                         learning_rate=0.01,\n",
    "                         conv_layers=[32],\n",
    "                         conv_padding='same',\n",
    "                         conv_alpha=0.0,\n",
    "                         fc_layers=[],\n",
    "                         fc_alpha=0.0,\n",
    "                         dropout=0.2,\n",
    "                         full_dropout=0.0,\n",
    "                         normalization=0.99,\n",
    "                         last_relu=True,\n",
    "                         out_name='output',\n",
    "                         l1_reg=0.0,\n",
    "                         l2_reg=0.0\n",
    "                        ):\n",
    "    '''\n",
    "    Build a CNN 'scan-inception' model: scan over rows and columns and merge.\n",
    "    \n",
    "    Required arguments:\n",
    "        input_size:    the size of the input tensor.\n",
    "        \n",
    "    Optional arguments:\n",
    "        model_name:    the name of the model,\n",
    "        learning_rate: the learning rate of the gradient descent,\n",
    "        conv_layers:   a list-like object with the no. of filters for each 'inception' modules,\n",
    "        conv_padding:  the padding to use for the convolutional scans,\n",
    "        conv_alpha:    the slope of the LeakyReLU activation (ReLU if 0.0) of the convolution layers,\n",
    "        fc_layers:     a list-like object with the no. of units for each hidden dense layer,\n",
    "        fc_alpha:      the slope of the LeakyReLU activation (ReLU if 0.0) of the FC network,\n",
    "        dropout:       the dropout rate (do not use dropout if <= 0.0),\n",
    "        full_dropout:  use this dropout rate after every layer (disabled if <= 0.0),\n",
    "        normalization: the momentum of the batch normalization (do not use normalization if <= 0.0),\n",
    "        last_relu:     whether to use ReLU activation in the output layer (force positive output),\n",
    "        out_name:      the name of the output layer,\n",
    "        l1_reg:        the L1 kernel regularization factor,\n",
    "        l2_reg:        the L2 kernel regularization factor.\n",
    "        \n",
    "    Returns:\n",
    "        the compiled model.\n",
    "    '''\n",
    "    \n",
    "    # define the regularizer\n",
    "    regularizer = l1_l2(l1=l1_reg, l2=l2_reg) #--------------------------------------------- regularizer\n",
    " \n",
    "    # build the model\n",
    "    I = Input(shape=input_shape, name=model_name + '_input') #------------------------------ input layer\n",
    "    if conv_padding == 'same':\n",
    "        x = I\n",
    "    else:\n",
    "        x = ZeroPadding2D(padding=((0,3),(0,0)), data_format='channels_last')(I)\n",
    "    \n",
    "    # build convolutional layers\n",
    "    for n in range(np.shape(conv_layers)[0]): #--------------------------------------------- loop through the conv. layers\n",
    "        a = Conv2D(filters=conv_layers[n],\n",
    "                   kernel_size=(x.shape[1],1),\n",
    "                   padding=conv_padding,\n",
    "                   kernel_regularizer=regularizer,\n",
    "                   name=model_name + '_conv2d_rows_' + str(n)\n",
    "                  )(x) #-------------------------------------------------------------------- add conv. layer over rows\n",
    "        a = LeakyReLU(alpha=conv_alpha,\n",
    "                      name=model_name + '_conv2d_rows_' + str(n) + '_activation'\n",
    "                     )(a) #----------------------------------------------------------------- add activation\n",
    "        b = Conv2D(filters=conv_layers[n],\n",
    "                   kernel_size=(1,x.shape[2]),\n",
    "                   padding=conv_padding,\n",
    "                   kernel_regularizer=regularizer,\n",
    "                   name=model_name + '_conv2d_columns_' + str(n)\n",
    "                  )(x) #-------------------------------------------------------------------- add conv. layer over columns\n",
    "        b = LeakyReLU(alpha=conv_alpha,\n",
    "                      name=model_name + '_conv2d_columns_' + str(n) + '_activation'\n",
    "                     )(b) #----------------------------------------------------------------- add activation\n",
    "        \n",
    "        x = concatenate([a, b],\n",
    "                        name=model_name + '_concatenation_' + str(n)\n",
    "                       ) if conv_padding == 'same' \\\n",
    "                         else concatenate([a, tf.einsum('bij...->bji...',b)], #------------- swap columns and rows\n",
    "                                          name=model_name + '_concatenation_' + str(n)\n",
    "                                         ) #------------------------------------------------ concatenate layers\n",
    "        \n",
    "        if normalization > 0.0:\n",
    "            x = BatchNormalization(momentum=normalization,\n",
    "                                   name=model_name + '_conv2d_' + str(n) + '_normalization'\n",
    "                                  )(x) #---------------------------------------------------- add batch normalization (if requested)\n",
    "        if full_dropout > 0.0:\n",
    "            x = Dropout(rate=full_dropout,\n",
    "                        name=model_name + '_conv2d_' + str(n) + '_full_dropout'\n",
    "                       )(x) #--------------------------------------------------------------- add dropout (if requested)\n",
    "        \n",
    "    # add dropout\n",
    "    if dropout > 0.0 and full_dropout <= 0.0:\n",
    "        x = Dropout(rate=dropout,\n",
    "                    name=model_name + '_dropout'\n",
    "                   )(x) #------------------------------------------------------------------- add dropout (if requested)\n",
    "        \n",
    "    # flatten the output\n",
    "    x = Flatten(name=model_name + '_flatten')(x) #------------------------------------------ flatten the output\n",
    "    \n",
    "    # build FC network\n",
    "    for n in range(np.shape(fc_layers)[0]):\n",
    "        x = Dense(units=fc_layers[n],\n",
    "                  kernel_regularizer=regularizer,\n",
    "                  name=model_name + '_fc_' + str(n)\n",
    "                 )(x) #--------------------------------------------------------------------- add dense layers\n",
    "        x = LeakyReLU(alpha=fc_alpha,\n",
    "                      name=model_name + '_fc_' + str(n) + '_activation'\n",
    "                     )(x) #----------------------------------------------------------------- add activation\n",
    "        \n",
    "        if normalization > 0.0:\n",
    "            x = BatchNormalization(momentum=normalization,\n",
    "                                   name=model_name + '_fc_' + str(n) + '_normalization'\n",
    "                                  )(x) #---------------------------------------------------- add batch normalization (if requested)\n",
    "        if full_dropout > 0.0:\n",
    "            x = Dropout(rate=full_dropout,\n",
    "                        name=model_name + '_fc_' + str(n) + '_full_dropout'\n",
    "                       )(x) #--------------------------------------------------------------- add dropout (if requested)\n",
    "        \n",
    "    if last_relu: #------------------------------------------------------------------------- output layer\n",
    "        F = Dense(1, activation='relu', name=model_name + '_' + out_name)(x)\n",
    "    else:\n",
    "        F = Dense(1, name=model_name + '_' + out_name)(x)\n",
    "    \n",
    "    # define the model\n",
    "    model = Model(inputs=I, outputs=F, name=model_name)\n",
    "    \n",
    "    # compile the model\n",
    "    model.compile(optimizer=Adam(learning_rate=learning_rate),\n",
    "                  loss='mean_squared_error',\n",
    "                  metrics=['mean_squared_error']\n",
    "                 )\n",
    "    \n",
    "    # return the compiled model\n",
    "    return model\n",
    "\n",
    "# define a function to fit the model with the correct callbacks, etc.\n",
    "def cnn_fit(model,\n",
    "            X,\n",
    "            y,\n",
    "            X_val,\n",
    "            y_val,\n",
    "            batch_size=32,\n",
    "            epochs=100,\n",
    "            early_stopping=10,\n",
    "            reduce_lr=5,\n",
    "            verbose=0\n",
    "           ):\n",
    "    '''\n",
    "    Fit the model.\n",
    "    \n",
    "    Required arguments:\n",
    "        model:          the model to fit,\n",
    "        X:              the training features,\n",
    "        y:              the training labels,\n",
    "        X_val:          the validation features,\n",
    "        y_val:          the validation labels.\n",
    "        \n",
    "    Optional arguments:\n",
    "        batch_size:     the size of the batch used in forward pass,\n",
    "        epochs:         the number of epochs,\n",
    "        early_stopping: patience of early stopping,\n",
    "        reduce_lr:      patience to reduce learning rate,\n",
    "        verbose:        verbosity level (debug)\n",
    "    \n",
    "    Returns:\n",
    "        the fitted model, the history of the model.\n",
    "    '''\n",
    "    \n",
    "    # clear the TF graph\n",
    "    clear_session()\n",
    "    \n",
    "    # define callbacks\n",
    "    callbacks = [EarlyStopping(monitor='val_mean_squared_error',\n",
    "                               patience=early_stopping,\n",
    "                               verbose=verbose,\n",
    "                               restore_best_weights=True\n",
    "                              ),\n",
    "                 ReduceLROnPlateau(monitor='val_mean_squared_error',\n",
    "                                   factor=0.3,\n",
    "                                   patience=reduce_lr,\n",
    "                                   verbose=verbose\n",
    "                                  ),\n",
    "                 ModelCheckpoint(filepath=path.join(MOD_PATH, model.name + '_stack.h5'),\n",
    "                                 monitor='val_mean_squared_error',\n",
    "                                 verbose=verbose,\n",
    "                                 save_best_only=True,\n",
    "                                 save_format='h5'\n",
    "                                )\n",
    "                ]\n",
    "    \n",
    "    # fit the model\n",
    "    history = model.fit(x=X,\n",
    "                        y=y,\n",
    "                        batch_size=batch_size,\n",
    "                        epochs=epochs,\n",
    "                        verbose=verbose,\n",
    "                        callbacks=callbacks,\n",
    "                        validation_data=(X_val, y_val)\n",
    "                       )\n",
    "    \n",
    "    # return the fitted model and its history\n",
    "    return model, history.history"
   ]
  },
  {
   "cell_type": "markdown",
   "metadata": {},
   "source": [
    "We then create and train the models:"
   ]
  },
  {
   "cell_type": "code",
   "execution_count": 17,
   "metadata": {},
   "outputs": [
    {
     "name": "stderr",
     "output_type": "stream",
     "text": [
      "2020-05-20 12:36:54,875: INFO ==> Fitting the model for h11...\n",
      "2020-05-20 13:10:25,517: INFO ==> Fitting the model for h21...\n"
     ]
    },
    {
     "name": "stdout",
     "output_type": "stream",
     "text": [
      "Accuracy of the lv2 predictions for h11: 97.905%\n",
      "Accuracy of the test predictions for h11: 97.201%\n",
      "Accuracy of the lv2 predictions for h21: 30.399%\n",
      "Accuracy of the test predictions for h21: 32.316%\n"
     ]
    },
    {
     "data": {
      "image/png": "[encoded data removed]",
      "text/plain": [
       "<Figure size 432x360 with 1 Axes>"
      ]
     },
     "metadata": {
      "needs_background": "light"
     },
     "output_type": "display_data"
    },
    {
     "name": "stderr",
     "output_type": "stream",
     "text": [
      "2020-05-20 16:58:36,755: DEBUG ==> Plot saved to ./img/favourable/neural_network_lv1_error.pdf.\n"
     ]
    }
   ],
   "source": [
    "# load the models\n",
    "network_h11 = scan_inception_model(input_shape=matrix_train_lv1.shape[1:],\n",
    "                                   model_name='h11_inception_same_conv_no_fc_stacking',\n",
    "                                   learning_rate=1.0e-3,\n",
    "                                   conv_layers=[32, 64, 32],\n",
    "                                   conv_padding='same',\n",
    "                                   conv_alpha=0.0,\n",
    "                                   fc_layers=[],\n",
    "                                   fc_alpha=0.0,\n",
    "                                   dropout=0.3,\n",
    "                                   full_dropout=0.0,\n",
    "                                   normalization=0.99,\n",
    "                                   last_relu=True,\n",
    "                                   l1_reg=1.0e-4,\n",
    "                                   l2_reg=1.0e-4\n",
    "                                  )\n",
    "\n",
    "network_h21 = scan_inception_model(input_shape=matrix_train_lv1.shape[1:],\n",
    "                                   model_name='h21_inception_same_conv_no_fc_stacking',\n",
    "                                   learning_rate=1.0e-3,\n",
    "                                   conv_layers=[128, 128, 32],\n",
    "                                   conv_padding='same',\n",
    "                                   conv_alpha=0.0,\n",
    "                                   fc_layers=[],\n",
    "                                   fc_alpha=0.0,\n",
    "                                   dropout=0.2,\n",
    "                                   full_dropout=0.0,\n",
    "                                   normalization=0.99,\n",
    "                                   last_relu=True,\n",
    "                                   l1_reg=1.0e-4,\n",
    "                                   l2_reg=1.0e-4\n",
    "                                  )\n",
    "\n",
    "# fit the models\n",
    "log.info('Fitting the model for h11...')\n",
    "h11_model, h11_model_history = cnn_fit(network_h11,\n",
    "                                       matrix_train_lv1,\n",
    "                                       h11_matrix_train_lv1,\n",
    "                                       matrix_val_lv1,\n",
    "                                       h11_matrix_val_lv1,\n",
    "                                       batch_size=32,\n",
    "                                       epochs=5000,\n",
    "                                       early_stopping=400,\n",
    "                                       reduce_lr=250,\n",
    "                                       verbose=0\n",
    "                                      )\n",
    "h11_model_predictions      = h11_model.predict(matrix_train_lv2).reshape(-1,)\n",
    "h11_model_test_predictions = h11_model.predict(matrix_test).reshape(-1,)\n",
    "h11_model_score            = Score(y_true=h11_train_lv2, y_pred=h11_model_predictions, rounding=np.rint)\n",
    "h11_model_test_score       = Score(y_true=h11_test, y_pred=h11_model_test_predictions, rounding=np.rint)\n",
    "print('Accuracy of the lv2 predictions for h11: {:.3f}%'.format(h11_model_score.accuracy()*100))\n",
    "print('Accuracy of the test predictions for h11: {:.3f}%'.format(h11_model_test_score.accuracy()*100))\n",
    "\n",
    "log.info('Fitting the model for h21...')\n",
    "h21_model, h21_model_history = cnn_fit(network_h21,\n",
    "                                       matrix_train_lv1,\n",
    "                                       h21_matrix_train_lv1,\n",
    "                                       matrix_val_lv1,\n",
    "                                       h21_matrix_val_lv1,\n",
    "                                       batch_size=32,\n",
    "                                       epochs=5000,\n",
    "                                       early_stopping=400,\n",
    "                                       reduce_lr=250,\n",
    "                                       verbose=0\n",
    "                                      )\n",
    "h21_model_predictions      = h21_model.predict(matrix_train_lv2).reshape(-1,)\n",
    "h21_model_test_predictions = h21_model.predict(matrix_test).reshape(-1,)\n",
    "h21_model_score            = Score(y_true=h21_train_lv2, y_pred=h21_model_predictions, rounding=np.rint)\n",
    "h21_model_test_score       = Score(y_true=h21_test, y_pred=h21_model_test_predictions, rounding=np.rint)\n",
    "print('Accuracy of the lv2 predictions for h21: {:.3f}%'.format(h21_model_score.accuracy()*100))\n",
    "print('Accuracy of the test predictions for h21: {:.3f}%'.format(h21_model_test_score.accuracy()*100))\n",
    "\n",
    "plot = Plot(rows=1, columns=1)\n",
    "\n",
    "plot.hist2D(h11_model_test_score.error(),\n",
    "            title='Distance of the Predictions from the Real Value',\n",
    "            legend='$h_{11}$',\n",
    "            xlabel='error difference',\n",
    "            ylabel='#',\n",
    "            binstep=2\n",
    "           )\n",
    "plot.hist2D(h21_model_test_score.error(),\n",
    "            title='Distance of the Predictions from the Real Value',\n",
    "            legend='$h_{21}$',\n",
    "            xlabel='error difference',\n",
    "            ylabel='#',\n",
    "            binstep=2\n",
    "           )\n",
    "\n",
    "plot.save_and_close(path.join(IMG_PATH, 'neural_network_lv1_error'))\n",
    "log.debug('Plot saved to {}.'.format(path.join(IMG_PATH, 'neural_network_lv1_error.pdf')))"
   ]
  },
  {
   "cell_type": "markdown",
   "metadata": {},
   "source": [
    "## Second Level Training\n",
    "\n",
    "We then stack the predictions we obtained from the first level training and train a **meta estimator** on the newly produced dataset."
   ]
  },
  {
   "cell_type": "code",
   "execution_count": 18,
   "metadata": {},
   "outputs": [],
   "source": [
    "# stack second level predictions\n",
    "h11_new_feat = np.c_[el_net_preds_h11, svr_rbf_preds_h11, rnd_for_preds_h11, h11_model_predictions]\n",
    "h21_new_feat = np.c_[el_net_preds_h21, svr_rbf_preds_h21, rnd_for_preds_h21, h21_model_predictions]\n",
    "\n",
    "# stack test predictions\n",
    "h11_new_test_feat = np.c_[el_net_test_preds_h11, svr_rbf_test_preds_h11, rnd_for_test_preds_h11, h11_model_test_predictions]\n",
    "h21_new_test_feat = np.c_[el_net_test_preds_h21, svr_rbf_test_preds_h21, rnd_for_test_preds_h21, h21_model_test_predictions]"
   ]
  },
  {
   "cell_type": "markdown",
   "metadata": {},
   "source": [
    "## [Lasso](https://scikit-learn.org/stable/modules/generated/sklearn.linear_model.Lasso.html)\n",
    "\n",
    "We then use a **L1** regularized version of linear regression as a **meta** learner. In this case we will control a slightly higher number of hyperparameters:\n",
    "\n",
    "- `fit_intercept` $\\in \\lbrace 0, 1 \\rbrace$,\n",
    "- `normalize` $\\in \\lbrace 0, 1 \\rbrace$,\n",
    "- `alpha` $\\in \\left[ 10^{-6}, 10^{-1} \\right]$,\n",
    "- `positive` $\\in \\lbrace 0, 1 \\rbrace$."
   ]
  },
  {
   "cell_type": "code",
   "execution_count": 19,
   "metadata": {},
   "outputs": [
    {
     "name": "stderr",
     "output_type": "stream",
     "text": [
      "2020-05-20 16:58:36,926: INFO ==> Trainining lasso (as meta learner)...\n"
     ]
    },
    {
     "name": "stdout",
     "output_type": "stream",
     "text": [
      "\n",
      "Best parameters for h11:\n",
      "\n",
      "    alpha = 0.01\n",
      "    fit_intercept = 1\n",
      "    normalize = 0\n",
      "    positive = 1\n",
      "\n",
      "Accuracy of the cross-validation: 98.160% ± 0.419%\n",
      "Accuracy of the predictions: 97.710%\n",
      "\n",
      "Best parameters for h21:\n",
      "\n",
      "    alpha = 0.5072778017282903\n",
      "    fit_intercept = 1\n",
      "    normalize = 0\n",
      "    positive = 1\n",
      "\n",
      "Accuracy of the cross-validation: 31.843% ± 1.312%\n",
      "Accuracy of the predictions: 32.824%\n"
     ]
    },
    {
     "data": {
      "image/png": "[encoded data removed]",
      "text/plain": [
       "<Figure size 432x360 with 1 Axes>"
      ]
     },
     "metadata": {
      "needs_background": "light"
     },
     "output_type": "display_data"
    },
    {
     "name": "stderr",
     "output_type": "stream",
     "text": [
      "2020-05-20 17:03:43,854: DEBUG ==> Plot saved to ./img/favourable/lasso_lv2_error.pdf.\n"
     ]
    }
   ],
   "source": [
    "from sklearn.linear_model import Lasso\n",
    "from skopt                import BayesSearchCV\n",
    "from skopt.space          import Integer, Real, Categorical\n",
    "from sklearn.metrics      import make_scorer\n",
    "from mltools.libscore     import accuracy, Score, ViewCV\n",
    "from mltools.libplot      import Plot\n",
    "\n",
    "log.info('Trainining lasso (as meta learner)...')\n",
    "\n",
    "rounding      = np.rint #---------------------------------------------------------- choose a rounding function\n",
    "n_iter        = 50 #--------------------------------------------------------------- the number of iteration of the Bayes search\n",
    "search_params_h11 = {'fit_intercept': Integer(0, 1),\n",
    "                     'normalize':     Integer(0, 1),\n",
    "                     'positive':      Integer(0, 1),\n",
    "                     'alpha':         Real(1.0e-2, 1.0e1, prior='log-uniform')\n",
    "                    } #---------------------------------------------------------------- define the hyperparameter optimization space\n",
    "search_params_h21 = {'fit_intercept': Integer(0, 1),\n",
    "                     'normalize':     Integer(0, 1),\n",
    "                     'positive':      Integer(0, 1),\n",
    "                     'alpha':         Real(1.0e-2, 1.0e2, prior='log-uniform')\n",
    "                    } #---------------------------------------------------------------- define the hyperparameter optimization space\n",
    "estimator_h11 = BayesSearchCV(Lasso(random_state=RAND, max_iter=1e5), #------------ choose the base estimator\n",
    "                              search_spaces=search_params_h11,\n",
    "                              scoring=make_scorer(accuracy,\n",
    "                                                  greater_is_better=True,\n",
    "                                                  rounding=rounding\n",
    "                                                 ), #------------------------------- create a custom scoring function (use accuracy after rounding)\n",
    "                              n_jobs=n_jobs,\n",
    "                              refit=True,\n",
    "                              cv=cv\n",
    "                             )\n",
    "estimator_h21 = BayesSearchCV(Lasso(random_state=RAND, max_iter=1e5), #------------ choose the base estimator\n",
    "                              search_spaces=search_params_h21,\n",
    "                              scoring=make_scorer(accuracy,\n",
    "                                                  greater_is_better=True,\n",
    "                                                  rounding=rounding\n",
    "                                                 ), #------------------------------- create a custom scoring function (use accuracy after rounding)\n",
    "                              n_jobs=n_jobs,\n",
    "                              refit=True,\n",
    "                              cv=cv\n",
    "                             )\n",
    "\n",
    "estimator_h11.fit(h11_new_feat, h11_train_lv2) #----------------------------------------------------- fit the estimator to h11\n",
    "\n",
    "cv_score_h11 = ViewCV(estimator_h11) #------------------------------------------------------------------- display CV scores\n",
    "print('\\nBest parameters for h11:\\n')\n",
    "pretty(cv_score_h11.best_parameters)\n",
    "print('\\nAccuracy of the cross-validation: {:.3f}% ± {:.3f}%'.format(cv_score_h11.test_mean()*100,\n",
    "                                                                     cv_score_h11.test_std()*100\n",
    "                                                                    ) #-------------------------- print CV accuracy\n",
    "     )\n",
    "\n",
    "lasso_test_preds_h11   = estimator_h11.best_estimator_.predict(h11_new_test_feat) #---------------- compute predictions for h11 (test)\n",
    "pred_score_h11  = Score(y_true=h11_test, y_pred=lasso_test_preds_h11, rounding=rounding)\n",
    "print('Accuracy of the predictions: {:.3f}%'.format(pred_score_h11.accuracy()*100)) #------------ print test accuracy\n",
    "\n",
    "estimator_h21.fit(h21_new_feat, h21_train_lv2) #----------------------------------------------------- fit the estimator to h21\n",
    "\n",
    "cv_score_h21 = ViewCV(estimator_h21) #------------------------------------------------------------------- display CV scores\n",
    "print('\\nBest parameters for h21:\\n')\n",
    "pretty(cv_score_h21.best_parameters)\n",
    "print('\\nAccuracy of the cross-validation: {:.3f}% ± {:.3f}%'.format(cv_score_h21.test_mean()*100,\n",
    "                                                                     cv_score_h21.test_std()*100\n",
    "                                                                    ) #-------------------------- print CV accuracy\n",
    "     )\n",
    "\n",
    "lasso_test_preds_h21   = estimator_h21.best_estimator_.predict(h21_new_test_feat) #---------------- compute predictions for h21 (test)\n",
    "pred_score_h21  = Score(y_true=h21_test, y_pred=lasso_test_preds_h21, rounding=rounding)\n",
    "print('Accuracy of the predictions: {:.3f}%'.format(pred_score_h21.accuracy()*100)) #------------ print test accuracy\n",
    "\n",
    "plot = Plot(rows=1, columns=1) #----------------------------------------------------------------- plot the comparison of the predictions\n",
    "\n",
    "plot.hist2D(pred_score_h11.error(),\n",
    "            title='Distance of the Predictions from the Real Value',\n",
    "            legend='$h_{11}$',\n",
    "            xlabel='error difference',\n",
    "            ylabel='#',\n",
    "            binstep=2\n",
    "           )\n",
    "plot.hist2D(pred_score_h21.error(),\n",
    "            title='Distance of the Predictions from the Real Value',\n",
    "            legend='$h_{21}$',\n",
    "            xlabel='error difference',\n",
    "            ylabel='#',\n",
    "            binstep=2\n",
    "           )\n",
    "\n",
    "plot.save_and_close(path.join(IMG_PATH, 'lasso_lv2_error'))\n",
    "log.debug('Plot saved to {}.'.format(path.join(IMG_PATH, 'lasso_lv2_error.pdf')))"
   ]
  },
  {
   "cell_type": "markdown",
   "metadata": {},
   "source": [
    "## Discussion and Conclusions\n",
    "\n",
    "Even though the algorithms are quite diverse in nature, they tend to have overlapping regions of _good performance_ (they all perform best in the central region of `num_cp`, for example) and the stacked ensemble cannot really exploit their differences to improve the results. Instead it starts to suffer from not having the entire set for training (also in the reference paper they mention a drop in accuracy when taking less samples in the training set)."
   ]
  }
 ],
 "metadata": {
  "kernelspec": {
   "display_name": "Python 3",
   "language": "python",
   "name": "python3"
  },
  "language_info": {
   "codemirror_mode": {
    "name": "ipython",
    "version": 3
   },
   "file_extension": ".py",
   "mimetype": "text/x-python",
   "name": "python",
   "nbconvert_exporter": "python",
   "pygments_lexer": "ipython3",
   "version": "3.7.6"
  }
 },
 "nbformat": 4,
 "nbformat_minor": 4
}
