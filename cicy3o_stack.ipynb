{
 "cells": [
  {
   "cell_type": "markdown",
   "metadata": {},
   "source": [
    "# Machine Learning for Complete Intersection Calabi-Yau Manifolds\n",
    "\n",
    "In order to improve the results of the analysis, we employ the _stacking_ procedure to improve the predictions on $h_{11}$ and $h_{21}$. This is an **ensemble** learning technique typically used in competitions. We use:\n",
    "\n",
    "- [ElasticNet](https://scikit-learn.org/stable/modules/generated/sklearn.linear_model.ElasticNet.html) to see whether **L1** and **L2** can be implemented together,\n",
    "- [SVR (with Gaussian kernel)](https://scikit-learn.org/stable/modules/generated/sklearn.svm.SVR.html) to introduce a kernel function,\n",
    "- [RandomForestRegressor](https://scikit-learn.org/stable/modules/generated/sklearn.ensemble.RandomForestRegressor.html#sklearn.ensemble.RandomForestRegressor) to use forests of **decision trees** for the predictions,\n",
    "\n",
    "on a first level training set to have predictions on a second level set. We then use a second level (or **meta**) estimator, such as:\n",
    "\n",
    "- [SVR (with Gaussian kernel)](https://scikit-learn.org/stable/modules/generated/sklearn.svm.SVR.html),\n",
    "\n",
    "on the new predictions.\n",
    "\n",
    "For this analysis we use the feature engineered dataset."
   ]
  },
  {
   "cell_type": "markdown",
   "metadata": {},
   "source": [
    "## Infrastructure\n",
    "\n",
    "We print information about the current OS:"
   ]
  },
  {
   "cell_type": "code",
   "execution_count": 1,
   "metadata": {},
   "outputs": [
    {
     "name": "stdout",
     "output_type": "stream",
     "text": [
      "Current OS:                  Linux (kernel release: 5.6.10-arch1-1, architecture: x86_64)\n",
      "Number of available threads: 8\n",
      "Current CPU frequency:       3190 MHz (max: 3800 MHz)\n",
      "Available RAM memory:        8794 MB (tot: 15758 MB)\n"
     ]
    }
   ],
   "source": [
    "from mltools.libos import InfoOS\n",
    "\n",
    "print('Current OS:                  {} (kernel release: {}, architecture: {})'.format(InfoOS().os, InfoOS().kernel, InfoOS().arch))\n",
    "print('Number of available threads: {:d}'.format(InfoOS().threads))\n",
    "print('Current CPU frequency:       {:.0f} MHz (max: {:.0f} MHz)'.format(InfoOS().freq, InfoOS().freqm))\n",
    "print('Available RAM memory:        {:d} MB (tot: {:d} MB)'.format(InfoOS().vmav, InfoOS().vmtot))"
   ]
  },
  {
   "cell_type": "markdown",
   "metadata": {},
   "source": [
    "For future use, we establish early in the notebook the number of maximum jobs that every algorithm can take concurrently. Thus, if we want to run parallel notebooks with different jobs, we will not encounter issues."
   ]
  },
  {
   "cell_type": "code",
   "execution_count": 2,
   "metadata": {},
   "outputs": [],
   "source": [
    "import os\n",
    "\n",
    "#n_jobs = int(InfoOS().threads) #---------- very intensive but faster\n",
    "n_jobs = int(InfoOS().threads / 2) #------ still fast enough but less intensive (only 50% of available threads are occupied)\n",
    "#n_jobs = int(InfoOS().threads / 4) #------ slower"
   ]
  },
  {
   "cell_type": "markdown",
   "metadata": {},
   "source": [
    "We then print information on the current GPU setup (if available):"
   ]
  },
  {
   "cell_type": "code",
   "execution_count": 3,
   "metadata": {},
   "outputs": [
    {
     "name": "stdout",
     "output_type": "stream",
     "text": [
      "Mon May  4 17:16:17 2020       \n",
      "+-----------------------------------------------------------------------------+\n",
      "| NVIDIA-SMI 440.82       Driver Version: 440.82       CUDA Version: 10.2     |\n",
      "|-------------------------------+----------------------+----------------------+\n",
      "| GPU  Name        Persistence-M| Bus-Id        Disp.A | Volatile Uncorr. ECC |\n",
      "| Fan  Temp  Perf  Pwr:Usage/Cap|         Memory-Usage | GPU-Util  Compute M. |\n",
      "|===============================+======================+======================|\n",
      "|   0  GeForce 940MX       Off  | 00000000:02:00.0 Off |                  N/A |\n",
      "| N/A   86C    P0    N/A /  N/A |   1285MiB /  2004MiB |     98%      Default |\n",
      "+-------------------------------+----------------------+----------------------+\n",
      "                                                                               \n",
      "+-----------------------------------------------------------------------------+\n",
      "| Processes:                                                       GPU Memory |\n",
      "|  GPU       PID   Type   Process name                             Usage      |\n",
      "|=============================================================================|\n",
      "|    0      5470      G   /usr/lib/Xorg                                  4MiB |\n",
      "|    0      6840      C   /home/riccardo/anaconda/envs/ml/bin/python  1269MiB |\n",
      "+-----------------------------------------------------------------------------+\n"
     ]
    }
   ],
   "source": [
    "!nvidia-smi"
   ]
  },
  {
   "cell_type": "markdown",
   "metadata": {},
   "source": [
    "## Setup\n",
    "\n",
    "We import the Python modules we use and print their versions to keep track of changes."
   ]
  },
  {
   "cell_type": "code",
   "execution_count": 4,
   "metadata": {},
   "outputs": [
    {
     "name": "stdout",
     "output_type": "stream",
     "text": [
      "Python version: 3.7\n",
      "Matplot version: 3.2.1\n",
      "Numpy version: 1.18.1\n",
      "Pandas version: 1.0.3\n",
      "Scikit-learn version: 0.22.2.post1\n",
      "Scikit-optimize version: 0.7.4\n",
      "Tensorflow version: 2.0.0\n",
      "Keras version: 2.2.4-tf (backend: tensorflow)\n"
     ]
    }
   ],
   "source": [
    "import sys\n",
    "\n",
    "import matplotlib as mpl\n",
    "import random     as rnd\n",
    "import sklearn    as skl\n",
    "import skopt      as sko\n",
    "import numpy      as np\n",
    "import pandas     as pd\n",
    "import tensorflow as tf\n",
    "\n",
    "from tensorflow       import keras\n",
    "from tensorflow.keras import backend as K\n",
    "\n",
    "import warnings\n",
    "warnings.simplefilter(action='ignore', category=UserWarning) # ignore user warnings: nothing that I can really do anything about it...\n",
    "\n",
    "\n",
    "%matplotlib inline\n",
    "mpl.rc('axes', labelsize=12)\n",
    "mpl.rc('xtick', labelsize=12)\n",
    "mpl.rc('ytick', labelsize=12)\n",
    "\n",
    "# print the version of the modules\n",
    "print('Python version: {:d}.{:d}'      .format(sys.version_info.major, sys.version_info.minor))\n",
    "print('Matplot version: {}'            .format(mpl.__version__))\n",
    "print('Numpy version: {}'              .format(np.__version__))\n",
    "print('Pandas version: {}'             .format(pd.__version__))\n",
    "print('Scikit-learn version: {}'       .format(skl.__version__))\n",
    "print('Scikit-optimize version: {}'    .format(sko.__version__))\n",
    "print('Tensorflow version: {}'         .format(tf.__version__))\n",
    "print('Keras version: {} (backend: {})'.format(keras.__version__, K.backend()))\n",
    "\n",
    "# fix random_seed\n",
    "RAND = 42\n",
    "rnd.seed(RAND)\n",
    "np.random.seed(RAND)\n",
    "tf.random.set_seed(RAND)"
   ]
  },
  {
   "cell_type": "markdown",
   "metadata": {},
   "source": [
    "## Session Preparation\n",
    "\n",
    "in order to save the results of the analysis, we define where to store images, log files and models:"
   ]
  },
  {
   "cell_type": "code",
   "execution_count": 5,
   "metadata": {},
   "outputs": [],
   "source": [
    "from os import path, makedirs\n",
    "\n",
    "ROOT_DIR = '.' #-------------------------------------------------- root directory\n",
    "IMG_DIR  = 'img' #------------------------------------------------ directory of images\n",
    "MOD_DIR  = 'models' #--------------------------------------------- directory of saved models\n",
    "LOG_DIR  = 'log' #------------------------------------------------ directory of logs\n",
    "\n",
    "DB_NAME = 'cicy3o' #---------------------------------------------- name of the dataset\n",
    "DB_FILE = DB_NAME + '_analysis.h5' #------------------------------ full name with extension\n",
    "DB_PATH = path.join(ROOT_DIR, DB_FILE) #-------------------------- full path of the dataset\n",
    "DB_DIR  = 'original' if DB_NAME == 'cicy3o' else 'favourable' #--- subdir where to store images, models, logs\n",
    "\n",
    "# define full paths\n",
    "IMG_PATH = path.join(ROOT_DIR, IMG_DIR, DB_DIR)\n",
    "MOD_PATH = path.join(ROOT_DIR, MOD_DIR, DB_DIR)\n",
    "LOG_PATH = path.join(ROOT_DIR, LOG_DIR, DB_DIR)\n",
    "\n",
    "# create directories if non existent\n",
    "if not path.isdir(IMG_PATH):\n",
    "    makedirs(IMG_PATH, exist_ok=True)\n",
    "if not path.isdir(MOD_PATH):\n",
    "    makedirs(MOD_PATH, exist_ok=True)\n",
    "if not path.isdir(LOG_PATH):\n",
    "    makedirs(LOG_PATH, exist_ok=True)"
   ]
  },
  {
   "cell_type": "markdown",
   "metadata": {},
   "source": [
    "We also create a log file to store debug and related information:"
   ]
  },
  {
   "cell_type": "code",
   "execution_count": 6,
   "metadata": {},
   "outputs": [
    {
     "name": "stdout",
     "output_type": "stream",
     "text": [
      "Rotating existing logs...\n"
     ]
    },
    {
     "name": "stderr",
     "output_type": "stream",
     "text": [
      "2020-05-04 17:16:20,040: INFO ==> New logging session started. Log is at ./log/original/cicy3o_stack.log.\n"
     ]
    }
   ],
   "source": [
    "import logging\n",
    "\n",
    "from mltools.liblog import create_logfile\n",
    "\n",
    "path_to_log = path.join(LOG_PATH,\n",
    "                        DB_NAME + '_stack.log'\n",
    "                       )\n",
    "log = create_logfile(path_to_log,\n",
    "                     name=DB_NAME + '_stack',\n",
    "                     level=logging.DEBUG\n",
    "                    )\n",
    "\n",
    "# these lines provide the same setup also for the Jupyter logging\n",
    "logger = logging.getLogger() #------------------------------------------------- get the current logging session\n",
    "\n",
    "fmt = logging.Formatter('%(asctime)s: %(levelname)s ==> %(message)s') #-------- customise the formatting options\n",
    "\n",
    "handler = logging.StreamHandler() #-------------------------------------------- handle the stream to the default (stderr)\n",
    "handler.setLevel(logging.DEBUG) #---------------------------------------------- print everything\n",
    "handler.setFormatter(fmt) #---------------------------------------------------- set the formatting options\n",
    "\n",
    "logger.handlers = [handler] #-------------------------------------------------- override the default stream\n",
    "\n",
    "# we are ready to go!\n",
    "log.info('New logging session started. Log is at {}.'.format(path_to_log))"
   ]
  },
  {
   "cell_type": "markdown",
   "metadata": {},
   "source": [
    "We finally set the _memory growth_ property of the GPU in order to avoid overflowing its RAM memory:"
   ]
  },
  {
   "cell_type": "code",
   "execution_count": 7,
   "metadata": {},
   "outputs": [
    {
     "name": "stdout",
     "output_type": "stream",
     "text": [
      "GPU setup: 1 physical GPUs, 1 logical GPUs.\n"
     ]
    }
   ],
   "source": [
    "gpus = tf.config.experimental.list_physical_devices('GPU') #--------------------------------------- list of physical GPUs\n",
    "\n",
    "if gpus: #----------------------------------------------------------------------------------------- set memory growth only if GPU is active\n",
    "    try:\n",
    "        for gpu in gpus:\n",
    "            tf.config.experimental.set_memory_growth(gpu, True) #---------------------------------- set memory growth\n",
    "            \n",
    "        logical_gpus = tf.config.experimental.list_logical_devices('GPU') #------------------------ list of logical devices\n",
    "        print('GPU setup: {:d} physical GPUs, {:d} logical GPUs.'.format(len(gpus),\n",
    "                                                                         len(logical_gpus)\n",
    "                                                                        )\n",
    "             )\n",
    "    except RuntimeError as e:\n",
    "        print(e)\n",
    "else:\n",
    "    print('No GPUs in the setup!')"
   ]
  },
  {
   "cell_type": "markdown",
   "metadata": {},
   "source": [
    "## Loading the Dataset\n",
    "\n",
    "We first load the dataset we built during the preanalysis."
   ]
  },
  {
   "cell_type": "code",
   "execution_count": 8,
   "metadata": {},
   "outputs": [
    {
     "name": "stderr",
     "output_type": "stream",
     "text": [
      "2020-05-04 17:16:20,590: DEBUG ==> Database loaded.\n",
      "2020-05-04 17:16:20,591: INFO ==> Shape is 7851 rows x 7 columns.\n"
     ]
    }
   ],
   "source": [
    "import pandas as pd\n",
    "\n",
    "# load the dataset\n",
    "if path.isfile(DB_PATH):\n",
    "    df = pd.read_hdf(DB_PATH)\n",
    "    log.debug('Database loaded.')\n",
    "    log.info('Shape is {:d} rows x {:d} columns.'.format(df.shape[0], df.shape[1]))\n",
    "else:\n",
    "    log.error('Cannot load database from {}!'.format(DB_PATH))"
   ]
  },
  {
   "cell_type": "markdown",
   "metadata": {},
   "source": [
    "We print the `dtypes` and the name of the keys inside the dataframe as a reference:"
   ]
  },
  {
   "cell_type": "code",
   "execution_count": 9,
   "metadata": {},
   "outputs": [
    {
     "data": {
      "text/plain": [
       "h11            int16\n",
       "h21            int16\n",
       "num_cp          int8\n",
       "dim_cp        object\n",
       "dim_h0_amb    object\n",
       "matrix        object\n",
       "pca           object\n",
       "dtype: object"
      ]
     },
     "execution_count": 9,
     "metadata": {},
     "output_type": "execute_result"
    }
   ],
   "source": [
    "df.dtypes"
   ]
  },
  {
   "cell_type": "markdown",
   "metadata": {},
   "source": [
    "## Dense Format Extraction\n",
    "\n",
    "We now extract the needed features from the sparse format in which they are stores. We also contextually build the feature matrices and the labels vectors needed in the analisis."
   ]
  },
  {
   "cell_type": "code",
   "execution_count": 10,
   "metadata": {},
   "outputs": [],
   "source": [
    "from mltools.libtransformer import ExtractTensor\n",
    "\n",
    "# extract the labels\n",
    "h11        = df['h11'].values\n",
    "h21        = df['h21'].values\n",
    "\n",
    "# extract the scalar feature\n",
    "num_cp     = np.reshape(df['num_cp'].values, (-1,1)) # num_cp needs to be reshaped because it is a single feature\n",
    "\n",
    "# extract the vector features\n",
    "dim_cp     = np.array(ExtractTensor(flatten=True).fit_transform(df['dim_cp']))\n",
    "dim_h0_amb = np.array(ExtractTensor(flatten=True).fit_transform(df['dim_h0_amb']))\n",
    "\n",
    "# extract the tensor features\n",
    "pca        = np.array(ExtractTensor(flatten=True).fit_transform(df['pca']))\n",
    "\n",
    "# build the feature engineered sets\n",
    "feat_h11 = np.c_[num_cp, dim_cp, pca]\n",
    "feat_h21 = np.c_[num_cp, dim_cp, dim_h0_amb, pca]"
   ]
  },
  {
   "cell_type": "markdown",
   "metadata": {},
   "source": [
    "## Training and Validation Strategy\n",
    "\n",
    "We will split the original **full** training set (90% of the total dataset) in two levels (50% of it each) and train the first level estimator on it (using **cross-validation** with 5 splits, such that roughly 9% of the total training set will be used for validation each time). We then keep the final 10% of the dataset as test set. We use Bayesan optimization (from the [_Scikit-optimize_](https://scikit-optimize.github.io/stable/index.html) library) of the hyperparameters as it helps in finding a \"direction\" in the procedure (as opposed to a random search) and avoids useless grid searches which for large hyperparameter spaces are unfeasible."
   ]
  },
  {
   "cell_type": "code",
   "execution_count": 11,
   "metadata": {},
   "outputs": [
    {
     "name": "stderr",
     "output_type": "stream",
     "text": [
      "2020-05-04 17:16:21,959: DEBUG ==> Train set size (lv.1): 3532\n",
      "2020-05-04 17:16:21,960: DEBUG ==> Train set size (lv.2): 3533\n",
      "2020-05-04 17:16:21,961: DEBUG ==> Test set size: 786\n"
     ]
    }
   ],
   "source": [
    "from sklearn.model_selection import train_test_split, KFold\n",
    "\n",
    "# define the cross-validation splits\n",
    "cv = KFold(n_splits=5, shuffle=False)\n",
    "\n",
    "# divide into training and test sets\n",
    "feat_h11_train, feat_h11_test, \\\n",
    "feat_h21_train, feat_h21_test, \\\n",
    "h11_train, h11_test, \\\n",
    "h21_train, h21_test = train_test_split(feat_h11, feat_h21, h11, h21,\n",
    "                                       test_size=0.1,\n",
    "                                       shuffle=False\n",
    "                                      )\n",
    "\n",
    "# split the dataset into two branches\n",
    "feat_h11_train_lv1, feat_h11_train_lv2, \\\n",
    "feat_h21_train_lv1, feat_h21_train_lv2, \\\n",
    "h11_train_lv1, h11_train_lv2, \\\n",
    "h21_train_lv1, h21_train_lv2 = train_test_split(feat_h11_train, feat_h21_train, h11_train, h21_train,\n",
    "                                                test_size=0.5,\n",
    "                                                shuffle=False\n",
    "                                               )\n",
    "\n",
    "log.debug('Train set size (lv.1): {:d}'.format(np.shape(feat_h11_train_lv1)[0]))\n",
    "log.debug('Train set size (lv.2): {:d}'.format(np.shape(feat_h11_train_lv2)[0]))\n",
    "log.debug('Test set size: {:d}'.format(np.shape(feat_h11_test)[0]))"
   ]
  },
  {
   "cell_type": "markdown",
   "metadata": {},
   "source": [
    "In the analysis that follows we will then study the accuracy of the algorithms both on validation and test sets and we will plot the predictions made by each algorithm. We will also clearly print the best fitting hyperparameters."
   ]
  },
  {
   "cell_type": "code",
   "execution_count": 12,
   "metadata": {},
   "outputs": [],
   "source": [
    "def pretty(dct, indent=True):\n",
    "    '''\n",
    "    Pretty print the dictionary of best parameters.\n",
    "    \n",
    "    Required argument:\n",
    "        dct:    the dictionary to pretty print.\n",
    "        \n",
    "    Optional argument:\n",
    "        indent: whether to indent the printed output.\n",
    "    '''\n",
    "    \n",
    "    for key, value in dct.items():\n",
    "        if indent:\n",
    "            print('    {} = {}'.format(key, value))\n",
    "        else:\n",
    "            print('{} = {}'.format(key, value))"
   ]
  },
  {
   "cell_type": "markdown",
   "metadata": {},
   "source": [
    "## First Level Training\n",
    "\n",
    "First of all we train the algorithms on the first level training set and produce the predictions for the second level and the test predictions."
   ]
  },
  {
   "cell_type": "markdown",
   "metadata": {},
   "source": [
    "### [Elastic Net](https://scikit-learn.org/stable/modules/generated/sklearn.linear_model.ElasticNet.html)\n",
    "\n",
    "We start by training an elastic net which implements both **L1** and **L2** regularization. The additional term to the cost function is $\\Delta J(\\theta) = \\alpha L_1 \\vert\\vert \\theta \\vert\\vert + \\frac{1}{2} \\alpha (1 - L_1) \\vert\\vert \\theta \\vert\\vert^2$. In the same way, we could have written $\\Delta J(\\theta) = a \\vert\\vert \\theta \\vert\\vert + b \\vert\\vert  \\theta \\vert\\vert^2$ where $\\alpha = a + b$ and $L_1 = \\frac{a}{a + b}$. The hyperparameters we control are:\n",
    "\n",
    "- `fit_intercept` $\\in \\lbrace 0, 1 \\rbrace$,\n",
    "- `normalize` $\\in \\lbrace 0, 1 \\rbrace$,\n",
    "- `positive` $\\in \\lbrace 0, 1 \\rbrace$,\n",
    "- `alpha` $\\in \\left[ 10^{-6}, 10^{-1} \\right]$,\n",
    "- `l1_ratio` $\\in \\left[ 0, 1 \\right]$ (the $L_1$ in the previous formulae),\n",
    "- `selection` $\\in \\lbrace random, cyclic \\rbrace$ (controls whether to update coefficients randomly or looping through the features)."
   ]
  },
  {
   "cell_type": "code",
   "execution_count": 13,
   "metadata": {},
   "outputs": [
    {
     "name": "stderr",
     "output_type": "stream",
     "text": [
      "2020-05-04 17:16:21,987: INFO ==> Trainining elastic net...\n"
     ]
    },
    {
     "name": "stdout",
     "output_type": "stream",
     "text": [
      "\n",
      "Best parameters for h11:\n",
      "\n",
      "    alpha = 0.1\n",
      "    fit_intercept = 0\n",
      "    l1_ratio = 0.915582428431663\n",
      "    normalize = 1\n",
      "    positive = 0\n",
      "    selection = cyclic\n",
      "\n",
      "Accuracy of the cross-validation: 62.514% ± 1.158%\n",
      "Accuracy of the predictions: 64.377%\n",
      "\n",
      "Best parameters for h21:\n",
      "\n",
      "    alpha = 1.3550701880097328e-06\n",
      "    fit_intercept = 1\n",
      "    l1_ratio = 0.7423364911186996\n",
      "    normalize = 1\n",
      "    positive = 0\n",
      "    selection = cyclic\n",
      "\n",
      "Accuracy of the cross-validation: 19.989% ± 1.850%\n",
      "Accuracy of the predictions: 18.957%\n"
     ]
    },
    {
     "data": {
      "image/png": "[encoded data removed]",
      "text/plain": [
       "<Figure size 432x360 with 1 Axes>"
      ]
     },
     "metadata": {
      "needs_background": "light"
     },
     "output_type": "display_data"
    },
    {
     "name": "stderr",
     "output_type": "stream",
     "text": [
      "2020-05-04 17:28:09,084: DEBUG ==> Plot saved to ./img/original/el_net_lv1_error.pdf.\n"
     ]
    }
   ],
   "source": [
    "from sklearn.linear_model import ElasticNet\n",
    "from skopt                import BayesSearchCV\n",
    "from skopt.space          import Integer, Real, Categorical\n",
    "from sklearn.metrics      import make_scorer\n",
    "from mltools.libscore     import accuracy, Score, ViewCV\n",
    "from mltools.libplot      import Plot\n",
    "\n",
    "log.info('Trainining elastic net...')\n",
    "\n",
    "rounding      = np.floor #----------------------------------------------------------------- choose a rounding function\n",
    "n_iter        = 50 #----------------------------------------------------------------------- the number of iteration of the Bayes search\n",
    "search_params = {'fit_intercept': Integer(0, 1),\n",
    "                 'normalize':     Integer(0, 1),\n",
    "                 'positive':      Integer(0, 1),\n",
    "                 'l1_ratio':      Real(0.0,    1.0,    prior='uniform'),\n",
    "                 'alpha':         Real(1.0e-6, 1.0e-1, prior='log-uniform'),\n",
    "                 'selection':     Categorical(['random', 'cyclic'])\n",
    "                } #------------------------------------------------------------------------ define the hyperparameter optimization space\n",
    "estimator     = BayesSearchCV(ElasticNet(max_iter=1e4, tol=1.0e-3, random_state=RAND), #--- choose the base estimator\n",
    "                              search_spaces=search_params,\n",
    "                              scoring=make_scorer(accuracy,\n",
    "                                                  greater_is_better=True,\n",
    "                                                  rounding=rounding\n",
    "                                                 ), #--------------------------------------- create a custom scoring function (use accuracy after rounding)\n",
    "                              n_jobs=n_jobs,\n",
    "                              refit=True,\n",
    "                              cv=cv\n",
    "                             )\n",
    "\n",
    "estimator.fit(feat_h11_train_lv1, h11_train_lv1) #----------------------------------------------- fit the estimator to h11\n",
    "\n",
    "cv_score = ViewCV(estimator) #------------------------------------------------------------------- display CV scores\n",
    "print('\\nBest parameters for h11:\\n')\n",
    "pretty(cv_score.best_parameters)\n",
    "print('\\nAccuracy of the cross-validation: {:.3f}% ± {:.3f}%'.format(cv_score.test_mean()*100,\n",
    "                                                                     cv_score.test_std()*100\n",
    "                                                                    ) #-------------------------- print CV accuracy\n",
    "     )\n",
    "\n",
    "el_net_preds_h11 = estimator.best_estimator_.predict(feat_h11_train_lv2) #----------------------- compute predictions for h11 (lv2)\n",
    "el_net_test_preds_h11 = estimator.best_estimator_.predict(feat_h11_test) #----------------------- compute predictions for h11 (test)\n",
    "pred_score_h11  = Score(y_true=h11_test, y_pred=el_net_test_preds_h11, rounding=rounding)\n",
    "print('Accuracy of the predictions: {:.3f}%'.format(pred_score_h11.accuracy()*100)) #------------ print test accuracy\n",
    "\n",
    "estimator.fit(feat_h21_train_lv1, h21_train_lv1) #----------------------------------------------- fit the estimator to h21\n",
    "\n",
    "cv_score = ViewCV(estimator) #------------------------------------------------------------------- display CV scores\n",
    "print('\\nBest parameters for h21:\\n')\n",
    "pretty(cv_score.best_parameters)\n",
    "print('\\nAccuracy of the cross-validation: {:.3f}% ± {:.3f}%'.format(cv_score.test_mean()*100,\n",
    "                                                                     cv_score.test_std()*100\n",
    "                                                                    ) #-------------------------- print CV accuracy\n",
    "     )\n",
    "\n",
    "el_net_preds_h21 = estimator.best_estimator_.predict(feat_h21_train_lv2) #----------------------- compute predictions for h21 (lv2)\n",
    "el_net_test_preds_h21 = estimator.best_estimator_.predict(feat_h21_test) #----------------------- compute predictions for h21 (test)\n",
    "pred_score_h21  = Score(y_true=h21_test, y_pred=el_net_test_preds_h21, rounding=rounding)\n",
    "print('Accuracy of the predictions: {:.3f}%'.format(pred_score_h21.accuracy()*100)) #------------ print test accuracy\n",
    "\n",
    "plot = Plot(rows=1, columns=1) #----------------------------------------------------------------- plot the comparison of the predictions\n",
    "\n",
    "plot.hist2D(pred_score_h11.error(),\n",
    "            title='Distance of the Predictions from the Real Value',\n",
    "            legend='$h_{11}$',\n",
    "            xlabel='error difference',\n",
    "            ylabel='#',\n",
    "            binstep=2\n",
    "           )\n",
    "plot.hist2D(pred_score_h21.error(),\n",
    "            title='Distance of the Predictions from the Real Value',\n",
    "            legend='$h_{21}$',\n",
    "            xlabel='error difference',\n",
    "            ylabel='#',\n",
    "            binstep=2\n",
    "           )\n",
    "\n",
    "plot.save_and_close(path.join(IMG_PATH, 'el_net_lv1_error'))\n",
    "log.debug('Plot saved to {}.'.format(path.join(IMG_PATH, 'el_net_lv1_error.pdf')))"
   ]
  },
  {
   "cell_type": "markdown",
   "metadata": {},
   "source": [
    "### [SVR](https://scikit-learn.org/stable/modules/generated/sklearn.svm.SVR.html)\n",
    "\n",
    "We then consider the **support vector machine**. The hyperparameter space is:\n",
    "\n",
    "- `gamma` $\\in \\left[ 10^{-3}, 10^3 \\right]$,\n",
    "- `epsilon` $\\in \\left[ 10^{-2}, 10^2 \\right]$ (the $\\epsilon$ parameter for the penalty computation),\n",
    "- `C` $\\in \\left[ 1, 10^3 \\right]$ (the regularization parameter),\n",
    "- `shrinking` $\\in \\lbrace 0, 1 \\rbrace$ (whether to use shrinking heuristic)."
   ]
  },
  {
   "cell_type": "code",
   "execution_count": 14,
   "metadata": {},
   "outputs": [
    {
     "name": "stderr",
     "output_type": "stream",
     "text": [
      "2020-05-04 17:28:09,107: INFO ==> Trainining svr (Gaussian kernel)...\n"
     ]
    },
    {
     "name": "stdout",
     "output_type": "stream",
     "text": [
      "\n",
      "Best parameters for h11:\n",
      "\n",
      "    C = 1.0\n",
      "    epsilon = 0.017486656561518762\n",
      "    gamma = 0.014582580133801993\n",
      "    shrinking = 0\n",
      "\n",
      "Accuracy of the cross-validation: 69.139% ± 1.551%\n",
      "Accuracy of the predictions: 70.483%\n",
      "\n",
      "Best parameters for h21:\n",
      "\n",
      "    C = 1000.0\n",
      "    epsilon = 0.09403057259501005\n",
      "    gamma = 0.001\n",
      "    shrinking = 0\n",
      "\n",
      "Accuracy of the cross-validation: 30.181% ± 0.607%\n",
      "Accuracy of the predictions: 30.280%\n"
     ]
    },
    {
     "data": {
      "image/png": "[encoded data removed]",
      "text/plain": [
       "<Figure size 432x360 with 1 Axes>"
      ]
     },
     "metadata": {
      "needs_background": "light"
     },
     "output_type": "display_data"
    },
    {
     "name": "stderr",
     "output_type": "stream",
     "text": [
      "2020-05-04 17:49:06,510: DEBUG ==> Plot saved to ./img/original/svr_lv1_error.pdf.\n"
     ]
    }
   ],
   "source": [
    "from sklearn.svm      import SVR\n",
    "from skopt            import BayesSearchCV\n",
    "from skopt.space      import Integer, Real, Categorical\n",
    "from sklearn.metrics  import make_scorer\n",
    "from mltools.libscore import accuracy, Score, ViewCV\n",
    "from mltools.libplot  import Plot\n",
    "\n",
    "log.info('Trainining svr (Gaussian kernel)...')\n",
    "\n",
    "rounding      = np.rint #---------------------------------------------------------- choose a rounding function\n",
    "n_iter        = 50 #--------------------------------------------------------------- the number of iteration of the Bayes search\n",
    "search_params = {'shrinking': Integer(0, 1),\n",
    "                 'epsilon':   Real(1.0e-2, 1.0e2, prior='log-uniform'),\n",
    "                 'C':         Real(1.0e0, 1.0e3,  prior='log-uniform'),\n",
    "                 'gamma':     Real(1.0e-3, 1.0e3, prior='log-uniform')\n",
    "                } #---------------------------------------------------------------- define the hyperparameter optimization space\n",
    "estimator     = BayesSearchCV(SVR(kernel='rbf', max_iter=1e5), #------------------- choose the base estimator\n",
    "                              search_spaces=search_params,\n",
    "                              scoring=make_scorer(accuracy,\n",
    "                                                  greater_is_better=True,\n",
    "                                                  rounding=rounding\n",
    "                                                 ), #------------------------------- create a custom scoring function (use accuracy after rounding)\n",
    "                              n_jobs=n_jobs,\n",
    "                              refit=True,\n",
    "                              cv=cv\n",
    "                             )\n",
    "\n",
    "estimator.fit(feat_h11_train_lv1, h11_train_lv1) #----------------------------------------------- fit the estimator to h11\n",
    "\n",
    "cv_score = ViewCV(estimator) #------------------------------------------------------------------- display CV scores\n",
    "print('\\nBest parameters for h11:\\n')\n",
    "pretty(cv_score.best_parameters)\n",
    "print('\\nAccuracy of the cross-validation: {:.3f}% ± {:.3f}%'.format(cv_score.test_mean()*100,\n",
    "                                                                     cv_score.test_std()*100\n",
    "                                                                    ) #-------------------------- print CV accuracy\n",
    "     )\n",
    "\n",
    "svr_rbf_preds_h11   = estimator.best_estimator_.predict(feat_h11_train_lv2) #-------------------- compute predictions for h11 (lv2)\n",
    "svr_rbf_test_preds_h11   = estimator.best_estimator_.predict(feat_h11_test) #-------------------- compute predictions for h11 (test)\n",
    "pred_score_h11  = Score(y_true=h11_test, y_pred=svr_rbf_test_preds_h11, rounding=rounding)\n",
    "print('Accuracy of the predictions: {:.3f}%'.format(pred_score_h11.accuracy()*100)) #------------ print test accuracy\n",
    "\n",
    "estimator.fit(feat_h21_train_lv1, h21_train_lv1) #----------------------------------------------- fit the estimator to h21\n",
    "\n",
    "cv_score = ViewCV(estimator) #------------------------------------------------------------------- display CV scores\n",
    "print('\\nBest parameters for h21:\\n')\n",
    "pretty(cv_score.best_parameters)\n",
    "print('\\nAccuracy of the cross-validation: {:.3f}% ± {:.3f}%'.format(cv_score.test_mean()*100,\n",
    "                                                                     cv_score.test_std()*100\n",
    "                                                                    ) #-------------------------- print CV accuracy\n",
    "     )\n",
    "\n",
    "svr_rbf_preds_h21   = estimator.best_estimator_.predict(feat_h21_train_lv2) #-------------------- compute predictions for h21 (lv2)\n",
    "svr_rbf_test_preds_h21   = estimator.best_estimator_.predict(feat_h21_test) #-------------------- compute predictions for h21 (test)\n",
    "pred_score_h21  = Score(y_true=h21_test, y_pred=svr_rbf_test_preds_h21, rounding=rounding)\n",
    "print('Accuracy of the predictions: {:.3f}%'.format(pred_score_h21.accuracy()*100)) #------------ print test accuracy\n",
    "\n",
    "plot = Plot(rows=1, columns=1) #----------------------------------------------------------------- plot the comparison of the predictions\n",
    "\n",
    "plot.hist2D(pred_score_h11.error(),\n",
    "            title='Distance of the Predictions from the Real Value',\n",
    "            legend='$h_{11}$',\n",
    "            xlabel='error difference',\n",
    "            ylabel='#',\n",
    "            binstep=2\n",
    "           )\n",
    "plot.hist2D(pred_score_h21.error(),\n",
    "            title='Distance of the Predictions from the Real Value',\n",
    "            legend='$h_{21}$',\n",
    "            xlabel='error difference',\n",
    "            ylabel='#',\n",
    "            binstep=2\n",
    "           )\n",
    "\n",
    "plot.save_and_close(path.join(IMG_PATH, 'svr_lv1_error'))\n",
    "log.debug('Plot saved to {}.'.format(path.join(IMG_PATH, 'svr_lv1_error.pdf')))"
   ]
  },
  {
   "cell_type": "markdown",
   "metadata": {},
   "source": [
    "### [Random Forest](https://scikit-learn.org/stable/modules/generated/sklearn.ensemble.RandomForestRegressor.html)\n",
    "\n",
    "We then move to a different kind of decision tree algorithm and train a random forest of trees on the dataset.  In this case the hyperparameter space we explore is:\n",
    "\n",
    "- `n_estimators` $\\in \\left[ 5, 75 \\right]$,\n",
    "- `criterion` $\\in \\lbrace mse, mae \\rbrace$,\n",
    "- `max_depth` $\\in \\left[ 2, 100 \\right]$,\n",
    "- `min_samples_split` $\\in \\left[ 2, 100 \\right]$,\n",
    "- `min_samples_leaf` $\\in \\left[ 1, 100 \\right]$,\n",
    "- `min_weight_fraction_leaf` $\\in \\left[ 0, \\frac{1}{2} \\right]$,\n",
    "- `max_leaf_nodes` $\\in \\left[ 2, 100 \\right]$."
   ]
  },
  {
   "cell_type": "code",
   "execution_count": 15,
   "metadata": {},
   "outputs": [
    {
     "name": "stderr",
     "output_type": "stream",
     "text": [
      "2020-05-04 17:49:06,538: INFO ==> Trainining random forest...\n"
     ]
    },
    {
     "name": "stdout",
     "output_type": "stream",
     "text": [
      "\n",
      "Best parameters for h11:\n",
      "\n",
      "    criterion = mae\n",
      "    max_depth = 50\n",
      "    max_leaf_nodes = 61\n",
      "    min_samples_leaf = 1\n",
      "    min_samples_split = 2\n",
      "    min_weight_fraction_leaf = 0.0\n",
      "    n_estimators = 75\n",
      "\n",
      "Accuracy of the cross-validation: 62.174% ± 0.792%\n",
      "Accuracy of the predictions: 61.323%\n",
      "\n",
      "Best parameters for h21:\n",
      "\n",
      "    criterion = mae\n",
      "    max_depth = 86\n",
      "    max_leaf_nodes = 100\n",
      "    min_samples_leaf = 1\n",
      "    min_samples_split = 2\n",
      "    min_weight_fraction_leaf = 0.0\n",
      "    n_estimators = 75\n",
      "\n",
      "Accuracy of the cross-validation: 17.157% ± 0.597%\n",
      "Accuracy of the predictions: 18.066%\n"
     ]
    },
    {
     "data": {
      "image/png": "[encoded data removed]",
      "text/plain": [
       "<Figure size 432x360 with 1 Axes>"
      ]
     },
     "metadata": {
      "needs_background": "light"
     },
     "output_type": "display_data"
    },
    {
     "name": "stderr",
     "output_type": "stream",
     "text": [
      "2020-05-04 21:34:49,240: DEBUG ==> Plot saved to ./img/original/rnd_for_lv1_error.pdf.\n"
     ]
    }
   ],
   "source": [
    "from sklearn.ensemble import RandomForestRegressor\n",
    "from skopt            import BayesSearchCV\n",
    "from skopt.space      import Integer, Real, Categorical\n",
    "from sklearn.metrics  import make_scorer\n",
    "from mltools.libscore import accuracy, Score, ViewCV\n",
    "from mltools.libplot  import Plot\n",
    "\n",
    "log.info('Trainining random forest...')\n",
    "\n",
    "rounding      = np.floor #------------------------------------------------------------------- choose a rounding function\n",
    "n_iter        = 20 #------------------------------------------------------------------------- the number of iteration of the Bayes search\n",
    "search_params = {'n_estimators':             Integer(5, 75,  prior='uniform'),\n",
    "                 'max_depth':                Integer(2, 100, prior='uniform'),\n",
    "                 'min_samples_split':        Integer(2, 100, prior='uniform'),\n",
    "                 'min_samples_leaf':         Integer(1, 100, prior='uniform'),\n",
    "                 'max_leaf_nodes':           Integer(2, 100, prior='uniform'),\n",
    "                 'min_weight_fraction_leaf': Real(0.0, 0.5, prior='uniform'),\n",
    "                 'criterion':                Categorical(['mse', 'mae'])\n",
    "                } #-------------------------------------------------------------------------- define the hyperparameter optimization space\n",
    "estimator     = BayesSearchCV(RandomForestRegressor(random_state=RAND), #-------------------- choose the base estimator\n",
    "                              search_spaces=search_params,\n",
    "                              scoring=make_scorer(accuracy,\n",
    "                                                  greater_is_better=True,\n",
    "                                                  rounding=rounding\n",
    "                                                 ), #----------------------------------------- create a custom scoring function (use accuracy after rounding)\n",
    "                              n_jobs=n_jobs,\n",
    "                              refit=True,\n",
    "                              cv=cv\n",
    "                             )\n",
    "\n",
    "estimator.fit(feat_h11_train_lv1, h11_train_lv1) #----------------------------------------------- fit the estimator to h11\n",
    "\n",
    "cv_score = ViewCV(estimator) #------------------------------------------------------------------- display CV scores\n",
    "print('\\nBest parameters for h11:\\n')\n",
    "pretty(cv_score.best_parameters)\n",
    "print('\\nAccuracy of the cross-validation: {:.3f}% ± {:.3f}%'.format(cv_score.test_mean()*100,\n",
    "                                                                     cv_score.test_std()*100\n",
    "                                                                    ) #-------------------------- print CV accuracy\n",
    "     )\n",
    "\n",
    "rnd_for_preds_h11   = estimator.best_estimator_.predict(feat_h11_train_lv2) #-------------------- compute predictions for h11 (lv2)\n",
    "rnd_for_test_preds_h11   = estimator.best_estimator_.predict(feat_h11_test) #-------------------- compute predictions for h11 (test)\n",
    "pred_score_h11  = Score(y_true=h11_test, y_pred=rnd_for_test_preds_h11, rounding=rounding)\n",
    "print('Accuracy of the predictions: {:.3f}%'.format(pred_score_h11.accuracy()*100)) #------------ print test accuracy\n",
    "\n",
    "estimator.fit(feat_h21_train_lv1, h21_train_lv1) #----------------------------------------------- fit the estimator to h21\n",
    "\n",
    "cv_score = ViewCV(estimator) #------------------------------------------------------------------- display CV scores\n",
    "print('\\nBest parameters for h21:\\n')\n",
    "pretty(cv_score.best_parameters)\n",
    "print('\\nAccuracy of the cross-validation: {:.3f}% ± {:.3f}%'.format(cv_score.test_mean()*100,\n",
    "                                                                     cv_score.test_std()*100\n",
    "                                                                    ) #-------------------------- print CV accuracy\n",
    "     )\n",
    "\n",
    "rnd_for_preds_h21   = estimator.best_estimator_.predict(feat_h21_train_lv2) #-------------------- compute predictions for h21 (lv2)\n",
    "rnd_for_test_preds_h21   = estimator.best_estimator_.predict(feat_h21_test) #-------------------- compute predictions for h21 (test)\n",
    "pred_score_h21  = Score(y_true=h21_test, y_pred=rnd_for_test_preds_h21, rounding=rounding)\n",
    "print('Accuracy of the predictions: {:.3f}%'.format(pred_score_h21.accuracy()*100)) #------------ print test accuracy\n",
    "\n",
    "plot = Plot(rows=1, columns=1) #----------------------------------------------------------------- plot the comparison of the predictions\n",
    "\n",
    "plot.hist2D(pred_score_h11.error(),\n",
    "            title='Distance of the Predictions from the Real Value',\n",
    "            legend='$h_{11}$',\n",
    "            xlabel='error difference',\n",
    "            ylabel='#',\n",
    "            binstep=2\n",
    "           )\n",
    "plot.hist2D(pred_score_h21.error(),\n",
    "            title='Distance of the Predictions from the Real Value',\n",
    "            legend='$h_{21}$',\n",
    "            xlabel='error difference',\n",
    "            ylabel='#',\n",
    "            binstep=2\n",
    "           )\n",
    "\n",
    "plot.save_and_close(path.join(IMG_PATH, 'rnd_for_lv1_error'))\n",
    "log.debug('Plot saved to {}.'.format(path.join(IMG_PATH, 'rnd_for_lv1_error.pdf')))"
   ]
  },
  {
   "cell_type": "markdown",
   "metadata": {},
   "source": [
    "## Second Level Training\n",
    "\n",
    "We then stack the predictions we obtained from the first level training and train a **meta estimator** on the newly produced dataset."
   ]
  },
  {
   "cell_type": "code",
   "execution_count": 16,
   "metadata": {},
   "outputs": [],
   "source": [
    "# stack second level predictions\n",
    "h11_new_feat = np.c_[el_net_preds_h11, svr_rbf_preds_h11, rnd_for_preds_h11]\n",
    "h21_new_feat = np.c_[el_net_preds_h21, svr_rbf_preds_h21, rnd_for_preds_h21]\n",
    "\n",
    "# stack test predictions\n",
    "h11_new_test_feat = np.c_[el_net_test_preds_h11, svr_rbf_test_preds_h11, rnd_for_test_preds_h11]\n",
    "h21_new_test_feat = np.c_[el_net_test_preds_h21, svr_rbf_test_preds_h21, rnd_for_test_preds_h21]"
   ]
  },
  {
   "cell_type": "markdown",
   "metadata": {},
   "source": [
    "### [SVR](https://scikit-learn.org/stable/modules/generated/sklearn.svm.SVR.html)\n",
    "\n",
    "We then consider a **support vector machine** as second level training in order to best fit the disposition of the newly created dataset. The hyperparameter space is:\n",
    "\n",
    "- `gamma` $\\in \\left[ 10^{-5}, 10^{-1} \\right]$,\n",
    "- `epsilon` $\\in \\left[ 10^{-2}, 10^2 \\right]$ (the $\\epsilon$ parameter for the penalty computation),\n",
    "- `C` $\\in \\left[ 10^1, 10^4 \\right]$ (the regularization parameter),\n",
    "- `shrinking` $\\in \\lbrace 0, 1 \\rbrace$ (whether to use shrinking heuristic)."
   ]
  },
  {
   "cell_type": "code",
   "execution_count": 17,
   "metadata": {},
   "outputs": [
    {
     "name": "stderr",
     "output_type": "stream",
     "text": [
      "2020-05-04 21:34:49,266: INFO ==> Trainining svr (Gaussian kernel)...\n"
     ]
    },
    {
     "name": "stdout",
     "output_type": "stream",
     "text": [
      "\n",
      "Best parameters for h11:\n",
      "\n",
      "    C = 6350.314372844361\n",
      "    epsilon = 0.08133179244950016\n",
      "    gamma = 7.039648157068847e-05\n",
      "    shrinking = 1\n",
      "\n",
      "Accuracy of the cross-validation: 68.582% ± 0.896%\n",
      "Accuracy of the predictions: 69.720%\n",
      "\n",
      "Best parameters for h21:\n",
      "\n",
      "    C = 10000.0\n",
      "    epsilon = 0.7362387406343401\n",
      "    gamma = 0.0001228688477343248\n",
      "    shrinking = 1\n",
      "\n",
      "Accuracy of the cross-validation: 31.616% ± 1.954%\n",
      "Accuracy of the predictions: 31.298%\n"
     ]
    },
    {
     "data": {
      "image/png": "[encoded data removed]",
      "text/plain": [
       "<Figure size 432x360 with 1 Axes>"
      ]
     },
     "metadata": {
      "needs_background": "light"
     },
     "output_type": "display_data"
    },
    {
     "name": "stderr",
     "output_type": "stream",
     "text": [
      "2020-05-04 21:44:34,181: DEBUG ==> Plot saved to ./img/original/svr_lv2_error.pdf.\n"
     ]
    }
   ],
   "source": [
    "from sklearn.svm      import SVR\n",
    "from skopt            import BayesSearchCV\n",
    "from skopt.space      import Integer, Real, Categorical\n",
    "from sklearn.metrics  import make_scorer\n",
    "from mltools.libscore import accuracy, Score, ViewCV\n",
    "from mltools.libplot  import Plot\n",
    "\n",
    "log.info('Trainining svr (Gaussian kernel)...')\n",
    "\n",
    "rounding      = np.rint #---------------------------------------------------------- choose a rounding function\n",
    "n_iter        = 50 #--------------------------------------------------------------- the number of iteration of the Bayes search\n",
    "search_params = {'shrinking': Integer(0, 1),\n",
    "                 'epsilon':   Real(1.0e-2, 1.0e2,  prior='log-uniform'),\n",
    "                 'C':         Real(1.0e1, 1.0e4,   prior='log-uniform'),\n",
    "                 'gamma':     Real(1.0e-5, 1.0e-1, prior='log-uniform')\n",
    "                } #---------------------------------------------------------------- define the hyperparameter optimization space\n",
    "estimator     = BayesSearchCV(SVR(kernel='rbf', max_iter=1e5), #------------------- choose the base estimator\n",
    "                              search_spaces=search_params,\n",
    "                              scoring=make_scorer(accuracy,\n",
    "                                                  greater_is_better=True,\n",
    "                                                  rounding=rounding\n",
    "                                                 ), #------------------------------- create a custom scoring function (use accuracy after rounding)\n",
    "                              n_jobs=n_jobs,\n",
    "                              refit=True,\n",
    "                              cv=cv\n",
    "                             )\n",
    "\n",
    "estimator.fit(h11_new_feat, h11_train_lv2) #----------------------------------------------------- fit the estimator to h11\n",
    "\n",
    "cv_score = ViewCV(estimator) #------------------------------------------------------------------- display CV scores\n",
    "print('\\nBest parameters for h11:\\n')\n",
    "pretty(cv_score.best_parameters)\n",
    "print('\\nAccuracy of the cross-validation: {:.3f}% ± {:.3f}%'.format(cv_score.test_mean()*100,\n",
    "                                                                     cv_score.test_std()*100\n",
    "                                                                    ) #-------------------------- print CV accuracy\n",
    "     )\n",
    "\n",
    "svr_rbf_test_preds_h11   = estimator.best_estimator_.predict(h11_new_test_feat) #---------------- compute predictions for h11 (test)\n",
    "pred_score_h11  = Score(y_true=h11_test, y_pred=svr_rbf_test_preds_h11, rounding=rounding)\n",
    "print('Accuracy of the predictions: {:.3f}%'.format(pred_score_h11.accuracy()*100)) #------------ print test accuracy\n",
    "\n",
    "estimator.fit(h21_new_feat, h21_train_lv2) #----------------------------------------------------- fit the estimator to h21\n",
    "\n",
    "cv_score = ViewCV(estimator) #------------------------------------------------------------------- display CV scores\n",
    "print('\\nBest parameters for h21:\\n')\n",
    "pretty(cv_score.best_parameters)\n",
    "print('\\nAccuracy of the cross-validation: {:.3f}% ± {:.3f}%'.format(cv_score.test_mean()*100,\n",
    "                                                                     cv_score.test_std()*100\n",
    "                                                                    ) #-------------------------- print CV accuracy\n",
    "     )\n",
    "\n",
    "svr_rbf_test_preds_h21   = estimator.best_estimator_.predict(h21_new_test_feat) #---------------- compute predictions for h21 (test)\n",
    "pred_score_h21  = Score(y_true=h21_test, y_pred=svr_rbf_test_preds_h21, rounding=rounding)\n",
    "print('Accuracy of the predictions: {:.3f}%'.format(pred_score_h21.accuracy()*100)) #------------ print test accuracy\n",
    "\n",
    "plot = Plot(rows=1, columns=1) #----------------------------------------------------------------- plot the comparison of the predictions\n",
    "\n",
    "plot.hist2D(pred_score_h11.error(),\n",
    "            title='Distance of the Predictions from the Real Value',\n",
    "            legend='$h_{11}$',\n",
    "            xlabel='error difference',\n",
    "            ylabel='#',\n",
    "            binstep=2\n",
    "           )\n",
    "plot.hist2D(pred_score_h21.error(),\n",
    "            title='Distance of the Predictions from the Real Value',\n",
    "            legend='$h_{21}$',\n",
    "            xlabel='error difference',\n",
    "            ylabel='#',\n",
    "            binstep=2\n",
    "           )\n",
    "\n",
    "plot.save_and_close(path.join(IMG_PATH, 'svr_lv2_error'))\n",
    "log.debug('Plot saved to {}.'.format(path.join(IMG_PATH, 'svr_lv2_error.pdf')))"
   ]
  },
  {
   "cell_type": "markdown",
   "metadata": {},
   "source": [
    "## Discussion and Conclusions\n",
    "\n",
    "Even though the algorithms are quite diverse in nature, they tend to have overlapping regions of _good performance_ (they all perform best in the central region of `num_cp`, for example) and the stacked ensemble cannot really exploit their differences to improve the results. Instead it starts to suffer from not having the entire set for training (also in the reference paper they mention a drop in accuracy when taking less samples in the training set).\n",
    "\n",
    "We do not think that adding the neural networks to the stack would actually benefit: neural networks seem to outperform by a long shot both decision trees and support vector machines. The latters would only contribute in worsening the results of the _convnets_."
   ]
  }
 ],
 "metadata": {
  "kernelspec": {
   "display_name": "Python 3",
   "language": "python",
   "name": "python3"
  },
  "language_info": {
   "codemirror_mode": {
    "name": "ipython",
    "version": 3
   },
   "file_extension": ".py",
   "mimetype": "text/x-python",
   "name": "python",
   "nbconvert_exporter": "python",
   "pygments_lexer": "ipython3",
   "version": "3.7.6"
  }
 },
 "nbformat": 4,
 "nbformat_minor": 4
}
